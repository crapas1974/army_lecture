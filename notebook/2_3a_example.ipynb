{
 "cells": [
  {
   "cell_type": "markdown",
   "metadata": {},
   "source": [
    "# 2. 파이썬의 변수, 연산, 자료형\n",
    "<hr>\n",
    "\n",
    "## 2.3 기본 콜렉션 자료형"
   ]
  },
  {
   "cell_type": "code",
   "execution_count": 5,
   "metadata": {},
   "outputs": [
    {
     "name": "stdout",
     "output_type": "stream",
     "text": [
      "3 [1, 2, 3]\n",
      "2 ['Hello', 'Python']\n",
      "1 [True]\n",
      "0 []\n",
      "4 [1, 5.3, True, 'Happy']\n",
      "5 [1, 2, 1, 2, 1]\n",
      "3 [[1, 2, 3], [4, 5, 6], [7, 8, 9]]\n",
      "3 [123, 128, [1, 2, 3]]\n"
     ]
    }
   ],
   "source": [
    "# code 2-34\n",
    "# 리스트는 여러 데이터를 묶어서 관리하는 자료형입니다.\n",
    "# 대괄호로 묶인 형태로 표현합니다.\n",
    "# 요소가 정수형 3개인 리스트. 요소와 요소 사이는 쉼표를 사용합니다.\n",
    "list_1 = [1, 2, 3]\n",
    "# 요소가 문자열 2개인 리스트\n",
    "list_2 = [\"Hello\", \"Python\"]\n",
    "# 요소가 하나 뿐인 리스트\n",
    "list_3 = [True]\n",
    "# 요소가 하나도 없는 리스트\n",
    "list_4 = []\n",
    "# 여러 자료형으로 구성된 리스트\n",
    "list_5 = [1, 5.3, True, \"Happy\"]\n",
    "# 같은 값이 여러 번 들어간 리스트\n",
    "list_6 = [1, 2, 1, 2, 1]\n",
    "# 리스트를 요소로 가지는 리스트\n",
    "list_7 = [[1, 2, 3], [4, 5, 6], [7, 8, 9]]\n",
    "# 리스트를 정의할 때 변수나 표현식을 사용할 수 있습니다.\n",
    "x = 123\n",
    "list_8 = [x, x + 5, list_1]\n",
    "# 리스트의 길이도 len() 함수로 구할 수 있습니다.\n",
    "print(len(list_1), list_1)\n",
    "print(len(list_2), list_2)\n",
    "print(len(list_3), list_3)\n",
    "print(len(list_4), list_4)\n",
    "print(len(list_5), list_5)\n",
    "print(len(list_6), list_6)\n",
    "print(len(list_7), list_7)\n",
    "print(len(list_8), list_8)"
   ]
  },
  {
   "cell_type": "code",
   "execution_count": null,
   "metadata": {},
   "outputs": [],
   "source": [
    "# code 2-35\n",
    "# 리스트는 길이와 순서가 있습니다. \n",
    "# 문자열 처럼 리스트도 인덱싱을 할 수 있습니다. 인덱스 숫자의 구조는 문자열 인덱스와 동일합니다.\n",
    "# [0] --> 첫 번째 요소\n",
    "numbers = [0, 1, 2, 3, 4, 5, 6, 7, 8, 9, 10]\n",
    "print(numbers[0])\n",
    "print([0, 1, 2, 3, 4, 5, 6, 7, 8, 9, 10][0])\n",
    "\n",
    "# [1] --> 두 번째 요소\n",
    "print(numbers[1])\n",
    "print([0, 1, 2, 3, 4, 5, 6, 7, 8, 9, 10][1])\n",
    "\n",
    "# 인덱싱에 가능한 범위는 0부터 리스트의 길이 - 1까지입니다.\n",
    "# [10] --> 마지막 요소 (리스트의 길이는 11)\n",
    "print(numbers[10])\n",
    "print([0, 1, 2, 3, 4, 5, 6, 7, 8, 9, 10][10])\n",
    "\n",
    "# 또는 len 함수를 사용해 마지막 요소의 위치를 알 수 있습니다.\n",
    "print(numbers[len(numbers) - 1])\n",
    "\n",
    "# 벗어나면, 예외가 발생합니다.\n",
    "print(numbers[11])\n",
    "print(numbers[len(numbers)])"
   ]
  },
  {
   "cell_type": "code",
   "execution_count": null,
   "metadata": {},
   "outputs": [],
   "source": [
    "# code 2-36\n",
    "# 음수 값을 인덱스로 사용할 수 있습니다.\n",
    "# [-1] --> 첫 번째 요소\n",
    "numbers = [0, 1, 2, 3, 4, 5, 6, 7, 8, 9, 10]\n",
    "print(numbers[-1])\n",
    "print([0, 1, 2, 3, 4, 5, 6, 7, 8, 9, 10][-1])\n",
    "\n",
    "# [-2] --> 두 번째 요소\n",
    "print(numbers[-2])\n",
    "print([0, 1, 2, 3, 4, 5, 6, 7, 8, 9, 10][-2])\n",
    "\n",
    "# 인덱싱에 가능한 범위는 -1 부터 -(리스트의 길이)까지입니다.\n",
    "# [-11] --> 마지막 요소 (리스트의 길이는 11)\n",
    "print(numbers[-11])\n",
    "print([0, 1, 2, 3, 4, 5, 6, 7, 8, 9, 10][-11])\n",
    "\n",
    "# 벗어나면, 예외가 발생합니다.\n",
    "print(numbers[-12])"
   ]
  },
  {
   "cell_type": "code",
   "execution_count": null,
   "metadata": {},
   "outputs": [],
   "source": [
    "# code 2-37\n",
    "# 문자열과 달리 리스트는 인덱싱과 할당연산을 사용해 리스트의 값을 바꿀 수 있습니다.\n",
    "numbers = [0, 1, 2, 3, 4, 5, 6, 7, 8, 10]\n",
    "# 첫번째 값 0을 100으로 변경\n",
    "numbers[0] = 100\n",
    "print(numbers)\n",
    "# 마지막 값 10을 200으로 변경\n",
    "numbers[-1] = 200\n",
    "print(numbers)\n",
    "# 복합 할당 연산도 할 수 있습니다.\n",
    "# 다섯 번째 요소를 두 배 증가\n",
    "numbers[4] *= 2\n",
    "print(numbers)\n",
    "# 한 번에 하나씩만 변경할 수 있습니다.\n",
    "numbers[2, 3] = 120, 130\n",
    "# 하지만 이건 가능합니다.\n",
    "# numbers[2], numbers[3] = 120, 130\n"
   ]
  },
  {
   "cell_type": "code",
   "execution_count": null,
   "metadata": {},
   "outputs": [],
   "source": [
    "# code 2-38\n",
    "# 리스트의 슬라이싱을 사용해 부분 리스트를 만들 수 있습니다.\n",
    "numbers = [0, 1, 2, 3, 4, 5, 6, 7, 8, 10]\n",
    "print(numbers[3:6])\n",
    "print(numbers[:6])\n",
    "print(numbers[3:])\n",
    "print(numbers[:-1])\n",
    "print(numbers[1:-1])          # 문자열에서 첫 글자와 마지막 글자를 뺀 나머지 문자열을 만듭니다.\n",
    "print(numbers[1:6:2])\n",
    "print(numbers[1:7:2])\n",
    "print(numbers[6:3:-1])\n",
    "print(numbers[6:2:-2])\n",
    "print(numbers[::-1])\n",
    "# 슬라이싱에서는 인덱스 값과 관련된 예외가 발생하지 않습니다.\n",
    "print(numbers[-10000:10000])\n",
    "\n"
   ]
  },
  {
   "cell_type": "code",
   "execution_count": null,
   "metadata": {},
   "outputs": [],
   "source": [
    "# code 2-39\n",
    "# 다음은 원본 리스트와 값이 같지만 '완전히 분리된' 새로운 리스트를 만드는 슬라이싱입니다.\n",
    "# 반드시 기억해 둡시다.\n",
    "numbers = [1, 2, 3]\n",
    "new_numbers = numbers[:]    # numbers[0:3]와 같습니다.\n",
    "copyed_numbers = numbers\n",
    "print(numbers, new_numbers, copyed_numbers)\n",
    "numbers[0] = 100\n",
    "new_numbers[1] = 200\n",
    "copyed_numbers[2] = 300\n",
    "print(numbers, new_numbers, copyed_numbers)\n"
   ]
  },
  {
   "cell_type": "code",
   "execution_count": null,
   "metadata": {},
   "outputs": [],
   "source": [
    "# code 2-40\n",
    "# 리스트끼리 더할 수 있고, 리스트에 정수를 곱할 수 있습니다.\n",
    "# 리스트끼리 더하면 이어 붙인 리스트를 만들 수 있습니다.\n",
    "small_numbers = [1, 2, 3]\n",
    "large_numbers = [4, 5, 6]\n",
    "print(small_numbers + large_numbers)\n",
    "# 리스트와 정수를 곱하면 이 숫자 만큼 반복해 이어 붙입니다.\n",
    "print(small_numbers * 5)\n",
    "print(5 * small_numbers)\n",
    "print(small_numbers * 0)"
   ]
  },
  {
   "cell_type": "code",
   "execution_count": null,
   "metadata": {},
   "outputs": [],
   "source": [
    "# code 2-41\n",
    "# 리스트끼리 크기를 비교할 수 있습니다.\n",
    "# 첫 번째 요소부터 차례대로 크기를 비교해서 크기를 판정합니다.\n",
    "print([1, 2, 3] < [1, 2, 4])\n",
    "# 같은 값이 계속되다가 한 쪽이 요소가 더 많으면, 요소가 많은 쪽이 큽니다.\n",
    "print([1, 2, 3] < [1, 2, 3, 4])\n"
   ]
  },
  {
   "cell_type": "code",
   "execution_count": null,
   "metadata": {},
   "outputs": [],
   "source": [
    "# code 2-42\n",
    "# 리스트가 아닌 것과 리스트인 것은 크기를 비교 할 수 없습니다. \n",
    "# 하지만 같냐, 다르냐를 비교하는 것은 가능합니다. 물론 다릅니다.\n",
    "print([1, 2, 3] < \"123\")            # 예외 발생\n",
    "print([1, 2, 3] == \"123\")           # 비교는 가능 (False)\n",
    "# 리스트 끼리라도 대응되는 요소를 비교할 수 없으면 비교할 수 없습니다.\n",
    "print([1, 2, 3] < [\"1\", \"2\", \"4\"])  # 예외 발생"
   ]
  },
  {
   "cell_type": "code",
   "execution_count": null,
   "metadata": {},
   "outputs": [],
   "source": [
    "# code 2-43\n",
    "# 리스트에 값을 추가할 때는 append() 메서드를 사용합니다.\n",
    "# 메서드는 대상에 점 표현법을 사용해 호출하는 특수한 함수입니다.\n",
    "# 이러한 대상을 객체라고 하는데, 뒤에서 설명합니다.\n",
    "x = [0, 1, 2, 3, 4]\n",
    "x.append(5)\n",
    "print(x)\n",
    "# 한 번에 하나의 값만 추가할 수 있습니다.\n",
    "# x.append(5, 6) -> 예외 발생\n",
    "x.append([5, 6])\n",
    "print(x)        # 의도와 달리 동작하니 확인해보세요\n",
    "# 한 번에 둘 이상의 값을 추가하려면 덧셈 연산을 사용합니다.\n",
    "x = [0, 1, 2, 3, 4]\n",
    "x += [5, 6]\n",
    "print(x)"
   ]
  },
  {
   "cell_type": "code",
   "execution_count": null,
   "metadata": {},
   "outputs": [],
   "source": [
    "# code 2-44\n",
    "# insert() 메서드는 값을 추가할 위치를 지정할 수 있습니다.\n",
    "x = [0, 1, 2, 3, 4]\n",
    "x.insert(3, 3.5)\n",
    "print(x)\n",
    "# 위치를 0으로 하면 제일 앞에 추가할 수 있습니다.\n",
    "x.insert(0, -1)\n",
    "print(x)\n",
    "# 음수 인덱스도 사용 가능합니다. \n",
    "# -1으로 제일 마지막에 추가할 수 없다는 점에 주의합시다.\n",
    "x.insert(-1, 999)\n",
    "print(x)\n",
    "# 사용 가능한 인덱스의 범위를 벗어나면 제일 앞, 제일 뒤를 의미하게 됩니다.\n",
    "x.insert(-100, -9999)\n",
    "x.insert(100, 9999)\n",
    "print(x)\n"
   ]
  },
  {
   "cell_type": "code",
   "execution_count": null,
   "metadata": {},
   "outputs": [],
   "source": [
    "# code 2-45\n",
    "# remove() 메서드는 리스트에서 지정한 값의 요소를 하나 삭제합니다. (앞에서)\n",
    "x = [0, 1, 2, 3, 2, 1, 0]\n",
    "x.remove(1)\n",
    "print(x)\n",
    "x.remove(1)\n",
    "print(x)\n",
    "# 없는 값을 삭제할 수 없습니다.\n",
    "x.remove(1)"
   ]
  },
  {
   "cell_type": "code",
   "execution_count": null,
   "metadata": {},
   "outputs": [],
   "source": [
    "# code 2-46\n",
    "# del 키워드를 사용해 특정 인덱스의 요소를 삭제할 수 있습니다.\n",
    "x = [0, 1, 2, 3, 4, 5, 6]\n",
    "del x[2]\n",
    "print(x)\n",
    "# 음수 인덱스 가능하며, 유효하지 않은 인덱스는 예외가 발생합니다.\n",
    "del x[-1]\n",
    "print(x)\n",
    "del x[100]"
   ]
  },
  {
   "cell_type": "code",
   "execution_count": null,
   "metadata": {},
   "outputs": [],
   "source": [
    "# code 2-47\n",
    "# del은 파이썬에서 그 용도로만 사용하도록 정해진 키워드입니다.\n",
    "# 이 강의에서는 다음과 같은 키워드를 만날 예정입니다.\n",
    "# if, elif, else, for, while, as, with, import, try, except, finally, from 등\n",
    "# 키워드는 변수 이름 등 다른 용도로 사용할 수 없습니다.\n",
    "del = 10"
   ]
  },
  {
   "cell_type": "code",
   "execution_count": null,
   "metadata": {},
   "outputs": [],
   "source": [
    "# code 2-48\n",
    "# 내장 함수는 다른 용도로 사용할 수 있습니다. \n",
    "# 프로그램에서 다른 용도로 사용하게 되면 원래의 의미를 잊어버립니다.\n",
    "# 흔히 사용되는 내장함수는 가급적 다른 용도로 사용하지 맙시다.\n",
    "len = 10\n",
    "print(len)\n",
    "print(len(\"abcde\"))\n"
   ]
  },
  {
   "cell_type": "markdown",
   "metadata": {},
   "source": [
    "* 다음 셀을 실행하기 전, 이전에 `len`을 다른 용도로 사용하는 바람에 정상 동작하지 않을 수 있습니다. 이어서 실습하기 전, 상단에 Restart 버튼을 한 번 클릭해 줍시다."
   ]
  },
  {
   "cell_type": "code",
   "execution_count": null,
   "metadata": {},
   "outputs": [],
   "source": [
    "\n",
    "# code 2-49\n",
    "# 리스트는 리스트를 요소로 가질 수 있습니다. 이러한 리스트를 다차원 리스트라고 합니다.\n",
    "matrix = [[1, 2, 3], [4, 5, 6]]\n",
    "print(matrix, len(matrix))\n",
    "print(matrix[0])\n",
    "print(matrix[1])\n",
    "inner_matrix = matrix[0]\n",
    "print(inner_matrix[0])\n",
    "print(inner_matrix[1])\n",
    "print(inner_matrix[2])\n",
    "print(matrix[0][0])\n",
    "print(matrix[0][1])\n",
    "print(matrix[0][2])\n",
    "print(matrix[1][0])\n",
    "print(matrix[1][1])\n",
    "print(matrix[1][2])"
   ]
  },
  {
   "cell_type": "code",
   "execution_count": 8,
   "metadata": {},
   "outputs": [
    {
     "name": "stdout",
     "output_type": "stream",
     "text": [
      "3 (1, 2, 3)\n",
      "2 ('Hello', 'Python')\n",
      "1 (1,)\n",
      "0 ()\n",
      "4 (1, 5.3, True, 'Heppy')\n",
      "5 (1, 2, 1, 2, 1)\n",
      "3 ([1, 2, 3], [4, 5, 6], [7, 8, 9])\n",
      "4 (123, 128, (1, 2, 3), [1, 2, 3])\n"
     ]
    }
   ],
   "source": [
    "# code 2-50\n",
    "# 튜플은 리스트와 유사하지만, 값을 바꿀 수 없는 자료형입니다.\n",
    "# 리스트와 기본 사용법은 거의 같습니다. 차이는 괄호를 사용한다는 점입니다.\n",
    "tuple_1 = (1, 2, 3)\n",
    "tuple_2 = (\"Hello\", \"Python\")\n",
    "# 단 요소가 하나인 튜플을 만들 때는 리스트와 달리 마지막에 쉼표를 추가해 줘야 합니다.\n",
    "# 쉼표를 추가하지 않으면 표현식으로 간주해 그냥 1 이라는 숫자가 됩니다.\n",
    "tuple_3 = (1,)\n",
    "tuple_4 = ()\n",
    "tuple_5 = (1, 5.3, True, \"Heppy\")\n",
    "tuple_6 = (1, 2, 1, 2, 1)\n",
    "tuple_7 = ([1, 2, 3], [4, 5, 6], [7, 8, 9])\n",
    "x = 123\n",
    "list_1 = [1, 2, 3]\n",
    "tuple_8 = (x, x + 5, tuple_1, list_1)\n",
    "# tuple의 길이도 len() 함수로 구할 수 있습니다.\n",
    "print(len(tuple_1), tuple_1)\n",
    "print(len(tuple_2), tuple_2)\n",
    "print(len(tuple_3), tuple_3)\n",
    "print(len(tuple_4), tuple_4)\n",
    "print(len(tuple_5), tuple_5)\n",
    "print(len(tuple_6), tuple_6)\n",
    "print(len(tuple_7), tuple_7)\n",
    "print(len(tuple_8), tuple_8)"
   ]
  },
  {
   "cell_type": "code",
   "execution_count": null,
   "metadata": {},
   "outputs": [],
   "source": [
    "# code 2-51\n",
    "# 튜플도 길이와 순서가 있습니다. \n",
    "# 튜플도 인덱싱을 할 수 있습니다.\n",
    "# [0] --> 첫 번째 요소\n",
    "numbers = (0, 1, 2, 3, 4, 5, 6, 7, 8, 9, 10)\n",
    "print(numbers[0])\n",
    "print([0, 1, 2, 3, 4, 5, 6, 7, 8, 9, 10][0])\n",
    "\n",
    "# [1] --> 두 번째 요소\n",
    "print(numbers[1])\n",
    "print([0, 1, 2, 3, 4, 5, 6, 7, 8, 9, 10][1])\n",
    "\n",
    "# 인덱싱에 가능한 범위는 0부터 리스트의 길이 - 1까지입니다.\n",
    "# [10] --> 마지막 요소 (리스트의 길이는 11)\n",
    "print(numbers[10])\n",
    "print([0, 1, 2, 3, 4, 5, 6, 7, 8, 9, 10][10])\n",
    "\n",
    "# 또는 len 함수를 사용해 마지막 요소의 위치를 알 수 있습니다.\n",
    "print(numbers[len(numbers) - 1])\n",
    "\n",
    "# 음수 값을 인덱스로 사용할 수 있습니다.\n",
    "# [-1] --> 첫 번째 요소\n",
    "numbers = [0, 1, 2, 3, 4, 5, 6, 7, 8, 9, 10]\n",
    "print(numbers[-1])\n",
    "print([0, 1, 2, 3, 4, 5, 6, 7, 8, 9, 10][-1])\n",
    "\n",
    "# [-2] --> 두 번째 요소\n",
    "print(numbers[-2])\n",
    "print([0, 1, 2, 3, 4, 5, 6, 7, 8, 9, 10][-2])\n",
    "\n",
    "# 인덱싱에 가능한 범위는 -1 부터 -(리스트의 길이)까지입니다.\n",
    "# [-11] --> 마지막 요소 (리스트의 길이는 11)\n",
    "print(numbers[-11])\n",
    "print([0, 1, 2, 3, 4, 5, 6, 7, 8, 9, 10][-11])\n",
    "\n",
    "# 벗어나면, 예외가 발생합니다.\n",
    "print(numbers[11])\n",
    "print(numbers[len(numbers)])\n",
    "print(numbers[-12])"
   ]
  },
  {
   "cell_type": "code",
   "execution_count": null,
   "metadata": {},
   "outputs": [],
   "source": [
    "# code 2-52\n",
    "# 튜플도 슬라이싱을 할 수 있고\n",
    "# 튜플 끼리의 덧셈 연산, 튜플과 정수의 곱셈 연산이 가능합니다.\n",
    "x = (1, 2, 3, 4, 5)\n",
    "print(x[1:3])\n",
    "print(x[3:1:-1])\n",
    "y = x[::-1]\n",
    "print(x + y)\n",
    "print(x * 2 + 2 * y)"
   ]
  },
  {
   "cell_type": "code",
   "execution_count": null,
   "metadata": {},
   "outputs": [],
   "source": [
    "# code 2-53\n",
    "# 리스트와 튜플이 다른 점 - 튜플은 값을 바꿀 수 없는 '불변형' 객체입니다.\n",
    "# 인덱싱으로 값을 바꿀 수 없습니다.\n",
    "numbers = (0, 1, 2, 3, 4, 5, 6, 7, 8, 9, 10)\n",
    "numbers[0] = 100    # 예외 발생\n",
    "# 불변형 객체이므로 값을 추가, 삭제하는 것도 불가능합니다."
   ]
  },
  {
   "cell_type": "code",
   "execution_count": null,
   "metadata": {},
   "outputs": [],
   "source": [
    "# code 2-54\n",
    "# 세트는 수학의 '집합'에 해당되는 자료형입니다.\n",
    "# 세트는 중괄호{}로 정의할 수 있습니다.\n",
    "set_1 = {1, 2, 3}\n",
    "# 세트는 길이는 있지만 순서는 없습니다. len()으로 길이를 구할 수 있습니다.\n",
    "print(len(set_1), set_1)\n",
    "# 빈 세트는 {}가 아니라 set()입니다.\n",
    "empty_set = set()\n",
    "print(len(empty_set), empty_set)\n",
    "# 세트는 불변 객체만 원소로 가질 수 있습니다. 튜플은 세트의 원소가 될 수 있습니다.\n",
    "set_2 = {1, 2.5, \"Hello\", (3, 4, 5)}\n",
    "print(len(set_2), set_2)\n",
    "# 가변 객체인 리스트나 세트는 원소로 가질 수 없습니다.\n",
    "set_3 = {1, [1, 2, 3]}\n",
    "set_4 = {set_1, set_2}"
   ]
  },
  {
   "cell_type": "code",
   "execution_count": null,
   "metadata": {},
   "outputs": [],
   "source": [
    "# code 2-55\n",
    "# 세트는 순서가 없으므로 인덱스의 개념이 없습니다.\n",
    "set_1 = {0, 1, 2}\n",
    "print(set_1[0])"
   ]
  },
  {
   "cell_type": "code",
   "execution_count": null,
   "metadata": {},
   "outputs": [],
   "source": [
    "# code 2-56\n",
    "# 세트는 집합 연산을 지원합니다.\n",
    "set_1 = {1, 2, 3, 4}\n",
    "set_2 = {3, 4, 5, 6}\n",
    "# 합집합 - union() 메서드 또는 | 연산\n",
    "print(set_1 | set_2)\n",
    "print(set_1.union(set_2))\n",
    "# 교집합 - intersection() 메서드 또는 & 연산\n",
    "print(set_1 & set_2)\n",
    "print(set_1.intersection(set_2))\n",
    "# 차집합 - difference() 메서드 또는 - 연산\n",
    "print(set_1 - set_2)\n",
    "print(set_2 - set_1)\n",
    "print(set_1.difference(set_2))\n",
    "print(set_2.difference(set_1))\n",
    "# 여집합 - symmetric_difference() 메서드 또는 ^ 연산\n",
    "print(set_1 ^ set_2)\n",
    "print(set_1.symmetric_difference(set_2))\n"
   ]
  },
  {
   "cell_type": "code",
   "execution_count": null,
   "metadata": {},
   "outputs": [],
   "source": [
    "# code 2-57\n",
    "set_1 = {1, 2, 3}\n",
    "# 세트에 하나의 요소를 추가할 때는 add() 메서드를 사용합니다.\n",
    "set_1.add(4)\n",
    "print(set_1)\n",
    "# 세트에 하나 이상의 요소를 추가하려면 update() 메서드를 사용합니다.\n",
    "# 이때 인자는 리스트, 세트, 튜플을 사용할 수 있습니다.\n",
    "set_1.update({5, 6})\n",
    "print(set_1)\n",
    "set_1.update([7])\n",
    "print(set_1)\n",
    "set_1.update((8, 9, 10))\n",
    "print(set_1)\n",
    "# remove() 메서드로 지정한 값을 세트에서 제거합니다.\n",
    "set_1.remove(10)\n",
    "print(set_1)\n",
    "# remove() 메서드에서 지정한 값이 없으면 예외가 발생합니다.\n",
    "set_1.remove(10)"
   ]
  },
  {
   "cell_type": "code",
   "execution_count": null,
   "metadata": {},
   "outputs": [],
   "source": [
    "# code 2-58\n",
    "set_1 = {1, 2, 3, 4, 5}\n",
    "# discard() 메서드로도 지정한 값을 세트에서 삭제할 수 있습니다.\n",
    "set_1.discard(3)\n",
    "print(set_1)\n",
    "# discard() 메서드를 사용할 때는 값이 없어도 예외가 발생하지 않습니다.\n",
    "set_1.discard(3)\n",
    "print(set_1)\n",
    "# pop() 메서드는 세트에서 무작위로 아무 값이나 제거한 후, 그 값을 반환합니다.\n",
    "print(set_1.pop())\n",
    "print(set_1)\n",
    "print(set_1.pop())\n",
    "print(set_1)\n",
    "# 마치 처음의 원소를 삭제하는 것 같지만 그건 파이썬 언어 규칙 상 보장할 수 없습니다.\n",
    "# clear() 메서드는 모든 값을 제거합니다.\n",
    "set_1.clear()\n",
    "print(set_1)"
   ]
  },
  {
   "cell_type": "code",
   "execution_count": null,
   "metadata": {},
   "outputs": [],
   "source": [
    "# code 2-59\n",
    "# 딕셔너리는 키와 값으로 구성된 쌍을 저장합니다. len()으로 길이를 구할 수 있습니다.\n",
    "python_dict = {\"이름\" : \"Python\", \"분류\" : \"프로그래밍 언어\", \"주요 변경 버전\" : [2.0, 3.0]}\n",
    "print(len(python_dict), python_dict)\n",
    "# 빈 딕셔너리는 {}입니다. 빈 세트는 set()입니다.\n",
    "empty_dict = {}\n",
    "print(len(empty_dict), empty_dict)\n",
    "# 파이썬의 키는 유일합니다. 같은 키를 두 개 이상 사용하면 덮어씁니다.\n",
    "dict_1 = {\"key1\": 1, \"key2\" : 2, \"key1\" : 3}\n",
    "print(len(dict_1), dict_1)\n",
    "# 인덱스는 없지만 유사한 방법으로 값을 가지고 올 수 있습니다. 이때 키를 사용합니다.\n",
    "print(python_dict[\"이름\"])\n",
    "print(python_dict[\"분류\"])\n",
    "# 존재하지 않는 키는 값을 가지고 오는데 사용할 수 없습니다.\n",
    "print(python_dict[\"주요변경버전\"])"
   ]
  },
  {
   "cell_type": "code",
   "execution_count": null,
   "metadata": {},
   "outputs": [],
   "source": [
    "# code 2-60\n",
    "# 인덱싱과 유사하게 키의 값을 사용해 딕셔너리에 값을 추가할 수 있습니다.\n",
    "# 이 경우 딕셔너리에 존재하지 않는 키를 사용해야 합니다.\n",
    "python_dict = {\"이름\" : \"Python\", \"분류\" : \"프로그래밍 언어\", \"주요 변경 버전\" : [2.0, 3.0]}\n",
    "print(len(python_dict), python_dict)\n",
    "python_dict[\"year_of_birth\"] = 1999\n",
    "print(len(python_dict), python_dict)\n",
    "# 이미 존재하는 키의 값을 사용해 할당하면 값을 덮어씁니다.\n",
    "python_dict[\"year_of_birth\"] = 1991\n",
    "print(len(python_dict), python_dict)\n",
    "# 딕셔너리의 키는 수, 문자열, 튜플 등 불변형 객체만 사용할 수 있습니다.\n",
    "# 값은 어떤 유형의 데이터건 사용 가능합니다.\n",
    "# 딕셔너리는 다음과 같이 여러줄에 걸쳐서 정의할 수 있습니다.\n",
    "dict_2 = {\n",
    "    1 : \"일\",\n",
    "    3.14 : \"파이\",\n",
    "    (0, 0) : \"좌표원점\",\n",
    "    \"list가 값인 항목\" : [1, 2, 3]\n",
    "}\n",
    "print(len(dict_2), dict_2)\n",
    "# 딕셔너리는 리스트, 딕셔너리 등 가변형 객체를 키로 사용할 수 없습니다.\n",
    "dict_3 = {\n",
    "    [1, 2, 3] : \"list가 키인 항목\"\n",
    "}"
   ]
  },
  {
   "cell_type": "code",
   "execution_count": null,
   "metadata": {},
   "outputs": [],
   "source": [
    "# code 2-61\n",
    "# update() 메서드로 딕셔너리에 다른 딕셔너리를 더할 수 있습니다.\n",
    "# 덧셈 연산은 사용할 수 없습니다.\n",
    "my_car = {\"생산년도\" : 2023, \"제조사\" : \"XX자동차\"}\n",
    "my_car_stat = {\"파워트레인\" : \"EV\", \"이동거리\" : \"400km\"}\n",
    "my_car.update(my_car_stat)\n",
    "print(len(my_car), my_car)\n",
    "# 이때 추가하는 딕셔너리의 키가 중복되면 덮어 씁니다.\n",
    "my_car_info = {\"이동거리\" : \"410km\", \"등록지\" : \"경기도\"}\n",
    "my_car.update(my_car_info)\n",
    "print(len(my_car), my_car)\n",
    "# pop() 메서드로 주어진 키의 키-값 쌍을 삭제합니다. 이때 값을 반환합니다.\n",
    "print(my_car.pop(\"이동거리\"))\n",
    "print(len(my_car), my_car)\n",
    "# del 키워드로 주어진 키의 키-값 쌍을 삭제할 수 있습니다.\n",
    "del my_car[\"생산년도\"]\n",
    "print(len(my_car), my_car)\n",
    "# 삭제 메서드에 사용하는 키가 존재하지 않으면 예외가 발생합니다.\n",
    "my_car.pop(\"아무키1\")\n",
    "del my_car[\"아무키2\"]\n"
   ]
  },
  {
   "cell_type": "markdown",
   "metadata": {},
   "source": [
    "* 컬렉션을 활용한 루프와 컴프리헨션 관련 실습 노트북은 일단 보류합니다. \n",
    "* 제어 컨트롤 이후에 확인 바랍니다. (2_3b.example.ipynb 파일)"
   ]
  }
 ],
 "metadata": {
  "kernelspec": {
   "display_name": "Python 3",
   "language": "python",
   "name": "python3"
  },
  "language_info": {
   "codemirror_mode": {
    "name": "ipython",
    "version": 3
   },
   "file_extension": ".py",
   "mimetype": "text/x-python",
   "name": "python",
   "nbconvert_exporter": "python",
   "pygments_lexer": "ipython3",
   "version": "3.12.5"
  }
 },
 "nbformat": 4,
 "nbformat_minor": 2
}
