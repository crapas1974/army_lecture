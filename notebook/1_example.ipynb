{
 "cells": [
  {
   "cell_type": "markdown",
   "metadata": {},
   "source": [
    "# 1. 파이썬 프로그램의 구조\n",
    "<hr>\n",
    "\n",
    "## 1.1 들여쓰기"
   ]
  },
  {
   "cell_type": "code",
   "execution_count": null,
   "metadata": {},
   "outputs": [],
   "source": [
    "# 들여쓰기는 항상 일치해야 합니다.\n",
    "print(1 + 2)\n",
    "print(3 + 4)\n"
   ]
  },
  {
   "cell_type": "code",
   "execution_count": null,
   "metadata": {},
   "outputs": [],
   "source": [
    "# 잘못된 들여쓰기\n",
    "print(1 + 2)\n",
    " print(1 + 2)"
   ]
  },
  {
   "cell_type": "code",
   "execution_count": null,
   "metadata": {},
   "outputs": [],
   "source": [
    "# 프로그램의 가장 최상위 블록은 들여쓰기를 하지 않습니다.\n",
    " print(1 + 2)\n"
   ]
  },
  {
   "cell_type": "code",
   "execution_count": null,
   "metadata": {},
   "outputs": [],
   "source": [
    "# 키워드 ~ : 형태로 하위 블록이 만들어지며, 하위 블록도 같은 들여쓰기를 유지해야 합니다.\n",
    "# 아래 코드의 요소는 뒤에서 설명합니다.\n",
    "x = 10\n",
    "if x > 5:\n",
    "    print(\"x는 5보다 큽니다.\")\n",
    "    print(\"5는 X보다 작습니다.\")"
   ]
  },
  {
   "cell_type": "code",
   "execution_count": null,
   "metadata": {},
   "outputs": [],
   "source": [
    "# 잘못된 하위블록 들여쓰기 1\n",
    "x = 10\n",
    "if x > 5:\n",
    "    print(\"x는 5보다 큽니다.\")\n",
    "     print(\"5는 X보다 작습니다.\")"
   ]
  },
  {
   "cell_type": "code",
   "execution_count": null,
   "metadata": {},
   "outputs": [],
   "source": [
    "# 잘못된 하위블록 들여쓰기 2\n",
    "x = 10\n",
    "if x > 5:\n",
    "    print(\"x는 5보다 큽니다.\")\n",
    "\tprint(\"5는 X보다 작습니다.\")\n",
    "# 같아 보일 수 있지만 사실 다릅니다. \n",
    "# 첫 번째 print는 스페이스바를 네 번 눌러 만든 들여쓰기입니다.\n",
    "# 두 번째 print는 탭으로 만든 들여쓰기입니다.\n",
    "# 이렇게 보이는게 같아도 다르게 만든 들여쓰기는 오류가 발생합니다.\n",
    "# 단 Visual Studio Code의 프로그래밍 환경에서 탭 키를 누르면 \n",
    "# 자동으로 스페이스바 공백으로 변경됩니다."
   ]
  },
  {
   "cell_type": "code",
   "execution_count": null,
   "metadata": {},
   "outputs": [],
   "source": [
    "# 하위 블록 아래에 하위 블록이 위치 할 수 있습니다. \n",
    "# 들여쓰기가 종료되면 하위블록이 끝납니다.\n",
    "# 하위블록이 종료되면 원래의 들여쓰기를 다시 유지해야 합니다.\n",
    "\n",
    "# level 0 하위블록 (최상위 블록) 시작\n",
    "x = 10\n",
    "if x > 5:\n",
    "    print(\"x는 5보다 큽니다.\")          # Level 1 하위블록 시작\n",
    "    if x < 15:\n",
    "        print(\"x는 15보다 작습니다.\")   # Level 2 하위블록 시작\n",
    "        print(\"15는 x보다 큽니다.\")\n",
    "    print(\"5는 X보다 작습니다.\")        # Lever 1 하위블록으로 복귀\n",
    "print(\"들여쓰기가 끝났습니다.\")         # Level 0으로 복귀"
   ]
  },
  {
   "cell_type": "code",
   "execution_count": null,
   "metadata": {},
   "outputs": [],
   "source": [
    "# 하위 블록은 여러개 배치될 수 있습니다.\n",
    "x = 10\n",
    "y = 10\n",
    "if x > 5:\n",
    "    print(\"x는 5보다 큽니다.\")\n",
    "    print(\"5는 X보다 작습니다.\")\n",
    "if y > 5:\n",
    "    print(\"y는 5보다 큽니다.\")\n",
    "    print(\"5는 y보다 작습니다.\")\n"
   ]
  },
  {
   "cell_type": "markdown",
   "metadata": {},
   "source": [
    "## 1.2 주석 또는 코멘트"
   ]
  },
  {
   "cell_type": "code",
   "execution_count": null,
   "metadata": {},
   "outputs": [],
   "source": [
    "# 코드에서 #으로 시작하는 부분은 주석 또는 코멘트이며\n",
    "# 프로그램의 동작에 아무련 영향을 주지 않습니다. 바로 이 부분처럼 말이죠.\n",
    "print(\"Hello, Python!\")"
   ]
  },
  {
   "cell_type": "code",
   "execution_count": null,
   "metadata": {},
   "outputs": [],
   "source": [
    "print(\"이 뒤에 코멘트가 있습니다.\") # 각 행의 뒤에 코멘트를 덧붙일 수 있습니다."
   ]
  },
  {
   "cell_type": "markdown",
   "metadata": {},
   "source": [
    "## 1.3 표현식과 표현식이 아닌 것"
   ]
  },
  {
   "cell_type": "code",
   "execution_count": null,
   "metadata": {},
   "outputs": [],
   "source": [
    "# 표현식은 값을 반환하는 코드를 말합니다. 아래는 모두 표현식의 예 입니다.\n",
    "3 + 5            # 계산됩니다.\n",
    "\"Hello\"          # 문자열 또는 숫자 리터럴도 그 자체를 반환하는 표현식 입니다.\n",
    "3                # 문자열 또는 숫자 리터럴도 그 자체를 반환하는 표현식 입니다.\n",
    "x                # 변수의 값도 표현식 입니다. (물론 변수가 정의되어 있어야 합니다.)\n",
    "len(\"Hello\")     # 함수 호출도 표현식 입니다. (함수가 반환하는 값이 결괏값입니다.)\n",
    "3 + len(\"Hello\") # 표현식은 다른 표현식을 포함할 수 있습니다.\n"
   ]
  },
  {
   "cell_type": "code",
   "execution_count": null,
   "metadata": {},
   "outputs": [],
   "source": [
    "# 다음 코드는 표현식인 것과 표현식이 아닌 것이 섞여 있습니다.\n",
    "del arr[len(arr) - 1]\n",
    "# len(arr) - 1은 표현식입니다.\n",
    "# del arr[]은 표현식이 아니며, 표현식의 결과를 활용해 프로그램이 동작합니다.\n",
    "\n",
    "if x > 5:\n",
    "    print(\"x는 5보다 큽니다.\")\n",
    "    print(\"5는 X보다 작습니다.\")\n",
    "# x > 5는 표현식입니다. True 또는 False라는 결과가 발생합니다.\n",
    "# if는 표현식이 아니라 '문' 입니다."
   ]
  },
  {
   "cell_type": "markdown",
   "metadata": {},
   "source": [
    "## 파이썬 프로그램의 실행 순서"
   ]
  },
  {
   "cell_type": "code",
   "execution_count": null,
   "metadata": {},
   "outputs": [],
   "source": [
    "# 위에서 아래로 실행되는 것이 기본 원칙입니다.\n",
    "print(\"1\")\n",
    "print(\"2\")\n",
    "print(\"3\")"
   ]
  },
  {
   "cell_type": "code",
   "execution_count": null,
   "metadata": {},
   "outputs": [],
   "source": [
    "# 함수 정의 (def ~ :), 클래스 정의 (class ~ :)는 실행 대신 '기억'합니다.\n",
    "def my_function():\n",
    "    print(\"함수가 호출되었습니다.\")\n",
    "# 이 코드는 실행되지 않으며, \n",
    "# 파이썬은 대신 my_function이라는 이름의 함수가 어떤 내용이라는 사실을 기억해 둡니다."
   ]
  },
  {
   "cell_type": "code",
   "execution_count": null,
   "metadata": {},
   "outputs": [],
   "source": [
    "def my_function():\n",
    "    print(\"함수가\")\n",
    "    print(\"호출되었습니다.\")\n",
    "\n",
    "my_function()\n",
    "# 기억해 둔 함수는 나중에 사용('호출')할 수 있습니다.\n",
    "# 이 때 기억해 둔 내용이 실행됩니다. 이 때도 순서대로 실행됩니다."
   ]
  },
  {
   "cell_type": "code",
   "execution_count": null,
   "metadata": {},
   "outputs": [],
   "source": [
    "# 실행 순서에 따라 '기억해 두지 못한 것'을 파이썬은 알 수 없습니다.\n",
    "# 아래 코드에서 파이썬은 미리 foo()라는 함수를 알 수 없으므로 오류가 발생합니다.\n",
    "\n",
    "foo()\n",
    "\n",
    "def foo():\n",
    "    print(\"foo 함수가 호출되었습니다.\")"
   ]
  },
  {
   "cell_type": "code",
   "execution_count": null,
   "metadata": {},
   "outputs": [],
   "source": [
    "# 함수 뿐 아니라 파이썬에서 미리 정해둔 것 이외에는 모두\n",
    "# 미리 사용하겠다고 알려준 것만 사용할 수 있습니다.\n",
    "# 아래 코드를 실행해본 후, 두 코드의 순서를 바꾸고 다시 실행 해 봅시다.\n",
    "print(name, \"입니다.\")\n",
    "name = \"파이썬\""
   ]
  },
  {
   "cell_type": "code",
   "execution_count": null,
   "metadata": {},
   "outputs": [],
   "source": [
    "# 프로그램은 다음의 경우 종료됩니다. (1)\n",
    "# 더 이상 실행할 코드가 없을 때\n",
    "print(\"첫 번째\")\n",
    "print(\"두 번째\")\n",
    "print(\"마지막\")"
   ]
  },
  {
   "cell_type": "code",
   "execution_count": null,
   "metadata": {},
   "outputs": [],
   "source": [
    "# 프로그램은 다음의 경우 종료됩니다. (2)\n",
    "# sys.exit() 함수를 호출할 때\n",
    "import sys\n",
    "print(\"첫 번째\")\n",
    "sys.exit()          # 단, 파이썬 노트북에서는 sys.exit()를 사용할 수 없습니다.\n",
    "print(\"두 번째\")"
   ]
  },
  {
   "cell_type": "code",
   "execution_count": null,
   "metadata": {},
   "outputs": [],
   "source": [
    "# 프로그램은 다음의 경우 종료됩니다. (3-1)\n",
    "# 처리되지 않은 예외가 발생했을 때, 이때 그 전까지는 실행된다는 사실을 기억해둡니다.\n",
    "print(10 / 5)\n",
    "print(10 / 0)\n",
    "print(10 / -5)"
   ]
  },
  {
   "cell_type": "code",
   "execution_count": null,
   "metadata": {},
   "outputs": [],
   "source": [
    "# 프로그램은 다음의 경우 종료됩니다. (3-2)\n",
    "# 처리되지 않은 예외가 발생했을 때, 그 에러가 SyntaxError인 경우는\n",
    "# 그 전까지도 실행되지 않습니다.\n",
    "print(\"SyntaxError가 발생시킬 겁니다.\")\n",
    "else:\n",
    "    print(\"SyntaxError가 발생합니다.\")"
   ]
  }
 ],
 "metadata": {
  "kernelspec": {
   "display_name": "Python 3",
   "language": "python",
   "name": "python3"
  },
  "language_info": {
   "codemirror_mode": {
    "name": "ipython",
    "version": 3
   },
   "file_extension": ".py",
   "mimetype": "text/x-python",
   "name": "python",
   "nbconvert_exporter": "python",
   "pygments_lexer": "ipython3",
   "version": "3.12.5"
  }
 },
 "nbformat": 4,
 "nbformat_minor": 2
}
