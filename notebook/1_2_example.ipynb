{
 "cells": [
  {
   "cell_type": "markdown",
   "metadata": {},
   "source": [
    "# 2. 파이썬의 변수, 연산, 자료형\n",
    "<hr>\n",
    "\n",
    "## 2.1 변수와 할당 연산"
   ]
  },
  {
   "cell_type": "code",
   "execution_count": null,
   "metadata": {},
   "outputs": [],
   "source": [
    "# code 2-1\n",
    "# 그냥 수, 문자열 등을 '리터럴'이라고 합니다. 다음은 리터럴 입니다.\n",
    "1\n",
    "1.0\n",
    "\"Python\"\n",
    "True\n",
    "False\n",
    "[1, 2, 3]\n",
    "{1, 2, 3}\n",
    "{1: \"one\", 2: \"two\", 3: \"three\"}\n",
    "(1, 2, 3)"
   ]
  },
  {
   "cell_type": "code",
   "execution_count": null,
   "metadata": {},
   "outputs": [],
   "source": [
    "# code 2-2\n",
    "# 리터럴을 계속 사용하기 위해서 변수에 저장합니다.\n",
    "# 할당 연산을 통해 변수를 만들고 값을 저장할 수 있습니다.\n",
    "one = 1\n",
    "one_point_zero = 1.0\n",
    "python = \"Python\"\n",
    "true = True\n",
    "false = False\n",
    "one_two_three = [1, 2, 3]\n",
    "one_two_three_set = {1, 2, 3}\n",
    "one_two_three_dict = {1: \"one\", 2: \"two\", 3: \"three\"}\n",
    "one_two_three_tuple = (1, 2, 3)"
   ]
  },
  {
   "cell_type": "code",
   "execution_count": null,
   "metadata": {},
   "outputs": [],
   "source": [
    "# code 2-3\n",
    "# 변수의 이름은 값으로 바뀌어 사용됩니다.\n",
    "print(one)\n",
    "print(one_point_zero)\n",
    "# 단, 문자열 내에 위치한 변수의 이름은 해당되지 않습니다.\n",
    "print(\"one\")"
   ]
  },
  {
   "cell_type": "code",
   "execution_count": null,
   "metadata": {},
   "outputs": [],
   "source": [
    "# code 2-4\n",
    "# 한 번 정의한 변수에 다른 값을 할당할 수 있습니다.\n",
    "now = \"2024-09-25\"\n",
    "now = \"2024-09-26\"\n",
    "temperature = 25\n",
    "temperature = 20"
   ]
  },
  {
   "cell_type": "code",
   "execution_count": null,
   "metadata": {},
   "outputs": [],
   "source": [
    "# code 2-5\n",
    "# 변수 자신을 사용해 변수의 값을 바꿀 수 있습니다.\n",
    "tempearture = 25\n",
    "print(temperature)\n",
    "temperature = temperature - 5\n",
    "# 여기서 왼쪽 temperature와 오른쪽 temperature는 다릅니다.\n",
    "print(temperature)\n"
   ]
  },
  {
   "cell_type": "code",
   "execution_count": null,
   "metadata": {},
   "outputs": [],
   "source": [
    "# code 2-6\n",
    "# 자신의 값에 다른 수를 더하고, 빼고, 곱하고, 나눈 후 다시 할당할 때는\n",
    "# 복합 할당 연산자를 사용할 수 있습니다.\n",
    "temperature = 25\n",
    "temperature += 5\n",
    "# temperature = temperature + 5 와 같습니다.\n",
    "print(temperature)\n",
    "temperature -= 5\n",
    "# temperature = temperature - 5 와 같습니다.\n",
    "print(temperature)\n",
    "temperature *= 5\n",
    "# temperature = temperature * 5 와 같습니다.\n",
    "print(temperature)\n",
    "temperature /= 5\n",
    "# temperature = temperature / 5 와 같습니다.\n",
    "print(temperature)"
   ]
  },
  {
   "cell_type": "code",
   "execution_count": null,
   "metadata": {},
   "outputs": [],
   "source": [
    "# code 2-7\n",
    "# (아래 내용이 이해가 되지 않으면 리스트를 공부하고 난 후 다시 읽어봅시다.)\n",
    "# 리스트의 할당 연산과 수의 할당 연산은 다릅니다.\n",
    "number = 10\n",
    "number_list = [1, 2, 3]\n",
    "number_copy = number\n",
    "number_list_copy = number_list\n",
    "number = 20\n",
    "number_list[0] = 10\n",
    "print(number, number_copy)\n",
    "print(number_list, number_list_copy)\n",
    "# 이는 리스트가 '가변형' 객체인데, 가변형 객체는 할당 연산을 할 때 '참조'만 하기 때문입니다.\n",
    "# 숫자는 '불변형' 객체이며, 불변형 객체는 할당 연산을 할 때 실제 값을 새로 만듭니다. '복사'"
   ]
  },
  {
   "cell_type": "markdown",
   "metadata": {},
   "source": [
    "## 불변 기본 자료형"
   ]
  },
  {
   "cell_type": "code",
   "execution_count": null,
   "metadata": {},
   "outputs": [],
   "source": [
    "# code 2-8\n",
    "# 참거짓형 데이터는 True, False 두 가지입니다.\n",
    "print(5 == 5)\n",
    "print(5 < 5)"
   ]
  },
  {
   "cell_type": "code",
   "execution_count": null,
   "metadata": {},
   "outputs": [],
   "source": [
    "# code 2-9\n",
    "# 다음 값들은 모두 '거짓으로 평가 되는'(Falsy) 값입니다.\n",
    "# 형변환 함수 bool()은 뒤의 내장형 함수에서 다루지만, \n",
    "# 평가 결과에 따라 True 또는 False로 바꾸는 함수로 알아둡시다.\n",
    "print(bool(0))              # 나머지 정수는 모두 True로 평가 (Truthy)\n",
    "print(bool(0.0))            # 나머지 실수는 모두 True로 평가 (Truthy)\n",
    "print(bool(\"\"))             # 나머지 문자열은 모두 True로 평가 (Truthy) \" \"도 True\n",
    "print(bool([]))             # 나머지 리스트는 모두 True로 평가 (Truthy)\n",
    "print(bool({}))             # 나머지 딕셔너리는 모두 True로 평가 (Truthy)\n",
    "print(bool(()))             # 나머지 튜플은 모두 True로 평가 (Truthy)\n",
    "print(bool(None))           # None은 특수한 객체로 뒤에서 설명합니다."
   ]
  },
  {
   "cell_type": "code",
   "execution_count": null,
   "metadata": {},
   "outputs": [],
   "source": [
    "# code 2-10\n",
    "# 비교 연산은 두 값의 크기를 비교하고, 그 결과로 True 또는 False를 반환합니다.\n",
    "print(5 == 5)\n",
    "print(5 != 5)\n",
    "print(5 < 6)\n",
    "print(5 > 6)\n",
    "print(5 <= 5)\n",
    "print(5 <= 6)\n",
    "print(5 >= 5)\n",
    "print(5 >= 6)"
   ]
  },
  {
   "cell_type": "code",
   "execution_count": null,
   "metadata": {},
   "outputs": [],
   "source": [
    "# code 2-10-1\n",
    "# <= 대신 =<, >= 대신 =>를 사용할 수 없습니다.\n",
    "print(5 =< 6)\n",
    "print(6 => 5)"
   ]
  },
  {
   "cell_type": "code",
   "execution_count": null,
   "metadata": {},
   "outputs": [],
   "source": [
    "# code 2-11\n",
    "# 정수 자료형과 실수 자료형은 다르지만, 비교 연산은 값만 따집니다.\n",
    "print(5 == 5.0)"
   ]
  },
  {
   "cell_type": "code",
   "execution_count": null,
   "metadata": {},
   "outputs": [],
   "source": [
    "# code 2-12\n",
    "# 숫자형 데이터끼리 사칙연산을 할 수 있습니다.\n",
    "# 괄호를 사용하는 경우를 제외한 나머지 경우 일반적인 사칙연산 순서대로 계산합니다.\n",
    "print(2 + 3 * 5)\n",
    "print((2 + 3) * 5) "
   ]
  },
  {
   "cell_type": "code",
   "execution_count": null,
   "metadata": {},
   "outputs": [],
   "source": [
    "# code 2-13\n",
    "# 나누기 연산은 항상 결과가 실수값입니다.\n",
    "print(4 / 2)\n",
    "print(5 / 2)"
   ]
  },
  {
   "cell_type": "code",
   "execution_count": null,
   "metadata": {},
   "outputs": [],
   "source": [
    "# code 2-14\n",
    "# 내림 나눗셈 연산과 나머지 연산도 사용할 수 있습니다.\n",
    "print(5 // 2)\n",
    "print(5 % 2)"
   ]
  },
  {
   "cell_type": "code",
   "execution_count": null,
   "metadata": {},
   "outputs": [],
   "source": [
    "# code 2-15\n",
    "# 덧셈, 뺄셈, 곱셈 연산은 두 피연산자 모두 정수인 경우만 결과가 정수입니다.\n",
    "# 이외의 경우 실수입니다.\n",
    "print(5 + 2)\n",
    "print(5.0 + 2)\n",
    "print(5 + 2.0)\n",
    "print(5.0 + 2.0)"
   ]
  },
  {
   "cell_type": "code",
   "execution_count": null,
   "metadata": {},
   "outputs": [],
   "source": [
    "# code 2-16\n",
    "# 내림 나눗셈 연산과 나머지 연산도 두 연산자 모두 정수인 경우만 결과가 정수입니다.\n",
    "print(5.0 // 2)\n",
    "print(5 % 2.0)"
   ]
  },
  {
   "cell_type": "code",
   "execution_count": null,
   "metadata": {},
   "outputs": [],
   "source": [
    "# code 2-17\n",
    "# **는 거듭제곱 연산입니다. 거듭제곱 연산은 우선순위가 가장 높은 산술 연산입니다.\n",
    "# 거듭제곱 연산은 두 피연산자 중 하나라도 실수인 경우 결과가 실수입니다.\n",
    "# 두 피연산자 모두 정수인 경우에도 계산 결과는 실수일 수 있습니다.\n",
    "print(2 ** 3)\n",
    "print(2 ** 3 ** 2)\n",
    "print((2 ** 3) ** 2)\n",
    "print(2 ** (1/2))       # 루트 2\n",
    "print(2 ** 0.5)         # 루트 2\n",
    "print(2 ** -1)          # 1/2"
   ]
  },
  {
   "cell_type": "code",
   "execution_count": null,
   "metadata": {},
   "outputs": [],
   "source": [
    "# code 2-18\n",
    "# 문자열은 텍스트를 다루는 자료형입니다. \"...\" 또는 '...' 형태로 만들 수 있습니다.\n",
    "x = \"Python\"         # Python이라는 여섯 글자 문자열을 변수 x에 할당합니다.\n",
    "print(x)"
   ]
  },
  {
   "cell_type": "code",
   "execution_count": null,
   "metadata": {},
   "outputs": [],
   "source": [
    "# code 2-19\n",
    "# 대화형 파이썬 환경, 주피터 노트북 환경에서 print() 함수 사용 유무에 따라 \n",
    "# 결과가 다르게 나옵니다. 특히 문자열은 그렇습니다.\n",
    "x = \"Python\" \n",
    "x"
   ]
  },
  {
   "cell_type": "code",
   "execution_count": null,
   "metadata": {},
   "outputs": [],
   "source": [
    "# code 2-20\n",
    "# 문자열에 \\n를 사용하면 줄바꿈을 의미합니다.\n",
    "# 파이썬 대화형 환경에서는 줄바꿈이 적용되지 않고 \\n이 그대로 출력됩니다.\n",
    "# print() 함수를 사용해 출력하면 줄바꿈이 표현됩니다.\n",
    "a_line = \"Hello\\nPython\"\n",
    "print(a_line)\n",
    "a_line"
   ]
  },
  {
   "cell_type": "code",
   "execution_count": null,
   "metadata": {},
   "outputs": [],
   "source": [
    "# code 2-21\n",
    "# 내장함수 len()을 사용해서 문자열의 길이를 구할 수 있습니다.\n",
    "x = \"Python\"\n",
    "print(len(x))"
   ]
  },
  {
   "cell_type": "code",
   "execution_count": null,
   "metadata": {},
   "outputs": [],
   "source": [
    "# code 2-22\n",
    "# 한 글자로 된 문자열, 공백문자만 있는 문자열, 심지어 아무것도 없는 문자열도 만들 수 있습니다.\n",
    "str_1 = \"1\"\n",
    "str_2 = \" \"\n",
    "str_3 = \"   \"\n",
    "str_4 = \"\"      # 아무것도 없는 문자열을 '빈 문자열'이라고 합니다.\n",
    "print(len(str_1), len(str_2), len(str_3), len(str_4))"
   ]
  },
  {
   "cell_type": "code",
   "execution_count": null,
   "metadata": {},
   "outputs": [],
   "source": [
    "# code 2-23\n",
    "# \"...\" 형태로 문자열을 정의하면 문자열 내에 '를 사용할 수 있습니다.\n",
    "# '...' 형태로 문자열을 정의하면 문자열 내에 \"를 사용할 수 있습니다.\n",
    "print(\"그는 생각했다. '내가 생각하고 있네?'\")\n",
    "print('그는 말했다. \"내가 말하고 있구나.\"')"
   ]
  },
  {
   "cell_type": "code",
   "execution_count": null,
   "metadata": {},
   "outputs": [],
   "source": [
    "# code 2-24\n",
    "# 문자열은 반드시 한 줄로 만들어야 합니다.\n",
    "greetings = \"Hello\n",
    "Python\""
   ]
  },
  {
   "cell_type": "code",
   "execution_count": null,
   "metadata": {},
   "outputs": [],
   "source": [
    "# code 2-25\n",
    "# 두 줄 이상으로 문자열을 만들 때는 \\+엔터 키를 입력합니다. \n",
    "# 단, 이 입력은 문자열에 반영되지 않습니다.\n",
    "# 또한 이렇게 두 줄에 걸쳐 문자열을 만들 때는 들여쓰기 규칙이 반영되지 않고\n",
    "# 문자열 내에 들여쓰기가 들어간 것으로 인식됩니다.\n",
    "greetings_1 = \"Hello\\\n",
    "Python\"\n",
    "greetings_2 = \"Hello\\\n",
    "               Python\"\n",
    "print(greetings_1)\n",
    "print(greetings_2)"
   ]
  },
  {
   "cell_type": "code",
   "execution_count": null,
   "metadata": {},
   "outputs": [],
   "source": [
    "# code 2-26\n",
    "# \\ 뒤에 어떤 글자가 오면 특수한 의미를 가집니다.\n",
    "# 이를 이스케이프 시퀀스라고 합니다.\n",
    "# \\\" : 큰따옴표\n",
    "print(\"그는 말했다. \\\"내가 말하고 있구나?\\\"\")\n",
    "# \\' : 작은따옴표\n",
    "print('그는 생각했다. \\'내가 생각하고 있네?\\'')\n",
    "# \\\\ : 역슬래시\n",
    "print(\"\\\\ - 이건 역슬래시 하나만 출력된다구!\")\n",
    "# \\n : 줄바꿈\n",
    "print(\"음...\\n줄바꿈도 사실 이스케이프 시퀀스였어.\")\n",
    "# \\ + enter : 문자열 작성을 여러 줄에 걸쳐서 할 수 있게 해줄 뿐...\n",
    "string = \"음...\\\n",
    "사실 아무 것도 안하잖아?\"\n",
    "print(string)\n",
    "# \\t : 탭, \\n : 백스페이스\n",
    "tab_string1 = \"1\\t2\\t3\\t4\\t5\"\n",
    "tab_string2 = \"one\\ttwo\\tthree\\tfour\\tfive\"\n",
    "bs_string = \"123\\n456\"\n",
    "print(tab_string1)\n",
    "print(tab_string2)\n",
    "print(bs_string)\n",
    "# 이스케이프 시퀀스를 포함한 문자열의 길이를 확인합시다.\n",
    "print(len(tab_string1))\n",
    "print(len(tab_string2))\n",
    "print(len(bs_string))"
   ]
  },
  {
   "cell_type": "code",
   "execution_count": null,
   "metadata": {},
   "outputs": [],
   "source": [
    "# code 2-27\n",
    "# 삼중따옴표로 문자열을 만들 수 있습니다.\n",
    "# 삼중따옴표로 만든 문자열은 여러 줄로 만들 수 있습니다. 줄바꿈은 자동으로 \\n이 추가됩니다.\n",
    "# 아래 두 문자열의 차이점을 확인해봅시다.\n",
    "long_string = \"\"\"아주 아주 오랜 옛날\n",
    "호랑이가 나쁜 것을 피던 그 시절에...\"\"\"\n",
    "print(long_string)\n",
    "long_string = '''\n",
    "아주 아주 오랜 옛날\n",
    "호랑이가 나쁜 것을 피던 그 시절에...\n",
    "'''\n",
    "print(long_string)\n",
    "long_string"
   ]
  },
  {
   "cell_type": "code",
   "execution_count": null,
   "metadata": {},
   "outputs": [],
   "source": [
    "# code 2-28\n",
    "# 문자열을 만들 때 \"와 '를 섞어 쓰면 안됩니다. \n",
    "# 아래 4개 모두 잘못된 문자열 리터럴입니다.\n",
    "\"python'\n",
    "\n",
    "'Python\"\n",
    "\n",
    "\"\"\"Python\n",
    "'''\n",
    "\n",
    "'''\n",
    "Python\n",
    "\"\"\""
   ]
  },
  {
   "cell_type": "code",
   "execution_count": null,
   "metadata": {},
   "outputs": [],
   "source": [
    "# code 2-29\n",
    "# 문자열끼리 더하거나, 문자열과 정수를 곱할 수 있습니다.\n",
    "last_name = \"홍\"\n",
    "first_name_1 = \"길동\"\n",
    "first_name_2 = \"보\"\n",
    "print(last_name + first_name_1)\n",
    "print(last_name + first_name_2)\n",
    "print((last_name + first_name_2 +\"가 기가막혀,\") * 3)\n",
    "print((last_name + first_name_2 +\"가 기가막혀, \") * 3)\n",
    "print((last_name + first_name_2 +\"가 기가막혀, \") * 3 + \"\\b\\b!\")"
   ]
  },
  {
   "cell_type": "code",
   "execution_count": null,
   "metadata": {},
   "outputs": [],
   "source": [
    "# code 2-30\n",
    "# 문자열끼리 비교할 수 있습니다. 단, 문자열이 아닌 것과 '크기 비교'는 불가합니다.\n",
    "# 비교는 변형된 '사전 순서'입니다.\n",
    "# 대문자가 소문자보다 작고, 숫자가 대문자보다 작습니다.\n",
    "# 대소문자가 섞여 있는 경우 일반 사전과 달리 완전히 다른 글자처럼 취급합니다.\n",
    "# 다른 언어도 비교할 수 있습니다. 언어간 비교는 '유니코드' 표의 순서를 기준으로 합니다.\n",
    "# 아래는 마지막만 제외하고 모두 참 입니다.\n",
    "print(\"a\" < \"b\")\n",
    "print(\"a\" > \"A\")\n",
    "print(\"abc\" < \"abcd\")\n",
    "print(\"abc\" > \"Abcd\")\n",
    "print(\"1\" < \"A\")\n",
    "print(\"나라의 말이\" < \"중국과 달라\")\n",
    "print(\"English\" < \"한글\")\n",
    "print(123 != \"123\")     # ==와 !=는 가능\n",
    "print(123 < \"234\")      # 크기 비교는 불가능"
   ]
  },
  {
   "cell_type": "code",
   "execution_count": 21,
   "metadata": {},
   "outputs": [
    {
     "name": "stdout",
     "output_type": "stream",
     "text": [
      "H\n",
      "H\n",
      "e\n",
      "e\n",
      "!\n",
      "!\n"
     ]
    },
    {
     "ename": "IndexError",
     "evalue": "string index out of range",
     "output_type": "error",
     "traceback": [
      "\u001b[0;31m---------------------------------------------------------------------------\u001b[0m",
      "\u001b[0;31mIndexError\u001b[0m                                Traceback (most recent call last)",
      "Cell \u001b[0;32mIn[21], line 18\u001b[0m\n\u001b[1;32m     15\u001b[0m \u001b[38;5;28mprint\u001b[39m(\u001b[38;5;124m\"\u001b[39m\u001b[38;5;124mHello, Python!\u001b[39m\u001b[38;5;124m\"\u001b[39m[\u001b[38;5;241m13\u001b[39m])\n\u001b[1;32m     17\u001b[0m \u001b[38;5;66;03m# 벗어나면, 예외가 발생합니다.\u001b[39;00m\n\u001b[0;32m---> 18\u001b[0m \u001b[38;5;28mprint\u001b[39m(\u001b[43mgreetings\u001b[49m\u001b[43m[\u001b[49m\u001b[38;5;241;43m14\u001b[39;49m\u001b[43m]\u001b[49m)\n",
      "\u001b[0;31mIndexError\u001b[0m: string index out of range"
     ]
    }
   ],
   "source": [
    "# code 2-31\n",
    "# 문자열은 인덱싱이 가능합니다.\n",
    "# [0] --> 첫 번째 글자\n",
    "greetings = \"Hello, Python!\"\n",
    "print(greetings[0])\n",
    "print(\"Hello, Python!\"[0])\n",
    "\n",
    "# [1] --> 두 번째 글자\n",
    "print(greetings[1])\n",
    "print(\"Hello, Python!\"[1])\n",
    "\n",
    "# 인덱싱에 가능한 범위는 0부터 문자열 길이 - 1까지입니다.\n",
    "# [13] --> 마지막 글자\n",
    "print(greetings[13])\n",
    "print(\"Hello, Python!\"[13])\n",
    "\n",
    "# 벗어나면, 예외가 발생합니다.\n",
    "print(greetings[14])\n"
   ]
  }
 ],
 "metadata": {
  "kernelspec": {
   "display_name": "Python 3",
   "language": "python",
   "name": "python3"
  },
  "language_info": {
   "codemirror_mode": {
    "name": "ipython",
    "version": 3
   },
   "file_extension": ".py",
   "mimetype": "text/x-python",
   "name": "python",
   "nbconvert_exporter": "python",
   "pygments_lexer": "ipython3",
   "version": "3.12.5"
  }
 },
 "nbformat": 4,
 "nbformat_minor": 2
}
