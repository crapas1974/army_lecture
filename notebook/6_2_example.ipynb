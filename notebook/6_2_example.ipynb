{
 "cells": [
  {
   "cell_type": "markdown",
   "metadata": {},
   "source": [
    "# 6. 모듈\n",
    "<hr>\n",
    "\n",
    "## 6.1 모듈, 라이브러리, 패키지\n",
    "## 6.2 표준 라이브러리에 포함된 모듈 사용해보기"
   ]
  },
  {
   "cell_type": "code",
   "execution_count": 22,
   "metadata": {},
   "outputs": [
    {
     "name": "stdout",
     "output_type": "stream",
     "text": [
      "2.718281828459045\n",
      "7.38905609893065\n",
      "4\n",
      "3\n",
      "3\n",
      "-3\n",
      "-4\n",
      "-3\n"
     ]
    }
   ],
   "source": [
    "# code 6-1\n",
    "# 모듈을 사용할 때는 import 키워드를 사용해 미리 모듈을 사용하겠다고 선언해야 합니다.\n",
    "# math 모듈 - 수학 계산에 사용되는 표준 라이브러리 모듈\n",
    "import math\n",
    "# 이렇게 선언한 모듈의 함수를 사용할 때는 모듈이름에 점표기법으로 함수를 사용합니다.\n",
    "# math.exp() - 밑이 자연상수 e인 지수함수\n",
    "print(math.exp(1))\n",
    "print(math.exp(2))\n",
    "# math.ceil() - 올림 -> 인자 값보다 같거나 큰 가장 작은 정수\n",
    "# math.floor() - 내림 -> 인자 값보다 같거나 작은 가장 큰 정수 \n",
    "# math.trunc() - 버림 -> 소수점 아래를 그냥 버림\n",
    "print(math.ceil(3.14))\n",
    "print(math.floor(3.14))\n",
    "print(math.trunc(3.14))\n",
    "print(math.ceil(-3.14))\n",
    "print(math.floor(-3.14))\n",
    "print(math.trunc(-3.14))\n",
    "# 모듈에는 함수만 사용할 수 있는 것은 아닙니다.\n",
    "# 모듈에는 변수도 포함되어 있습니다.\n",
    "print(math.pi)  # 원주율"
   ]
  },
  {
   "cell_type": "code",
   "execution_count": 24,
   "metadata": {},
   "outputs": [
    {
     "name": "stdout",
     "output_type": "stream",
     "text": [
      "1727246106.7732668\n",
      "실행 시간:  0.1640300750732422 초\n"
     ]
    }
   ],
   "source": [
    "# code 6-2\n",
    "# from 모듈이름 import 함수이름으로 함수를 불러올 수 있습니다.\n",
    "from time import time\n",
    "# time은 시각과 관련된 기본 모듈이며, time.time() 함수는 현재 시간을 초 단위로 반환합니다.\n",
    "# time.time()이 반환하는 값은 1970년 1월 1일 0시 0분 0초부터 현재까지의 시간을 초 단위로 계산한 값입니다.\n",
    "\n",
    "# 그리고 from ~ import 형태로 불러온 함수는 점 표기법을 사용하지 않습니다.\n",
    "print(time())\n",
    "# time.time() 함수를 사용해 프로그램의 실행 시간을 측정할 수 있습니다.\n",
    "start_time = time()\n",
    "sum = 0\n",
    "for i in range(1000000):\n",
    "    sum += i\n",
    "end_time = time()\n",
    "print(\"실행 시간: \", end_time - start_time, \"초\")"
   ]
  },
  {
   "cell_type": "code",
   "execution_count": 33,
   "metadata": {},
   "outputs": [
    {
     "name": "stdout",
     "output_type": "stream",
     "text": [
      "0.31139161907622614\n",
      "2.4666730783646127\n",
      "5\n",
      "4\n",
      "[2, 6, 3, 4, 1]\n",
      "[3, 2, 4, 1, 6, 5]\n"
     ]
    }
   ],
   "source": [
    "# code 6-3\n",
    "# random 모듈은 무작위로 선택을 해야 할 때 사용하는 묘듈입니다.\n",
    "import random\n",
    "# random.random() 함수는 0과 1 사이의 무작위 실수를 반환합니다.\n",
    "print(random.random())\n",
    "# random.uniform(a, b) 함수는 a와 b 사이의 무작위 실수를 반환합니다.\n",
    "print(random.uniform(1, 6))\n",
    "# random.randint(a, b) 함수는 a와 b 사이의 무작위 정수를 반환합니다.\n",
    "print(random.randint(1, 6))\n",
    "# random.choice(리스트) 함수는 리스트의 요소 중 하나를 무작위로 선택합니다.\n",
    "print(random.choice([1, 2, 3, 4, 5, 6]))\n",
    "# random.sample(리스트, n) 함수는 리스트의 요소 중 n개를 무작위로 선택합니다.\n",
    "# 이때 중복을 허용하지 않고 선택하며 순서도 무작위입니다.\n",
    "print(random.sample([1, 2, 3, 4, 5, 6], 5))\n",
    "# random.shuffle(리스트) 함수는 리스트의 요소를 무작위로 섞습니다.\n",
    "# 이때 리스트 자체를 변경하며, 반환값은 없습니다.\n",
    "list = [1, 2, 3, 4, 5, 6]\n",
    "random.shuffle(list)\n",
    "print(list)\n"
   ]
  },
  {
   "cell_type": "code",
   "execution_count": 34,
   "metadata": {},
   "outputs": [
    {
     "name": "stdout",
     "output_type": "stream",
     "text": [
      "0.4520514638310211\n",
      "4.781483057658267\n",
      "3\n",
      "2\n",
      "[1, 3, 4, 5, 2]\n",
      "[5, 2, 3, 4, 6, 1]\n"
     ]
    }
   ],
   "source": [
    "# code 6-4\n",
    "# from ~ import * 형태로 모듈의 모든 함수를 사용할 수 있습니다.\n",
    "from random import *\n",
    "print(random())\n",
    "print(uniform(1, 6))\n",
    "print(randint(1, 6))\n",
    "print(choice([1, 2, 3, 4, 5, 6]))\n",
    "print(sample([1, 2, 3, 4, 5, 6], 5))\n",
    "list = [1, 2, 3, 4, 5, 6]\n",
    "shuffle(list)\n",
    "print(list)\n"
   ]
  },
  {
   "cell_type": "code",
   "execution_count": 36,
   "metadata": {},
   "outputs": [
    {
     "name": "stdout",
     "output_type": "stream",
     "text": [
      "f{arr}과 셔플 댄스를 춰요!\n"
     ]
    }
   ],
   "source": [
    "# code 6-5\n",
    "# 하지만 from ~ import * 형태로 사용할 때는 매우 조심해야 합니다.\n",
    "# 모듈에 같은 이름의 함수가 있을 경우 덮어씌워지기 때문입니다.\n",
    "def shuffle(arr):\n",
    "    print(\"f{arr}과 셔플 댄스를 춰요!\")\n",
    "list = [\"김철수\", \"홍길동\", \"이영희\"]\n",
    "shuffle(list)\n",
    "from random import *\n",
    "shuffle(list)           # 이 shuffle은 의도했건, 의도하지 않았건 random.shuffle()이 호출됩니다.\n"
   ]
  },
  {
   "cell_type": "code",
   "execution_count": 38,
   "metadata": {},
   "outputs": [
    {
     "name": "stdout",
     "output_type": "stream",
     "text": [
      "1 5 6 4 3 \n",
      "4 4 1 3 5 \n",
      "2 5 1 3 1 \n",
      "4 4 1 3 5 \n",
      "2 5 1 3 1 \n"
     ]
    }
   ],
   "source": [
    "# code 6-6\n",
    "# random 모듈의 결과는 실행할 때 마다 달라집니다.\n",
    "# 하지만 seed 값을 지정하면, 실행할 때 마다 같은 순서로 선택이 이루어집니다.\n",
    "# 시드 지정은 random.seed() 함수를 사용합니다.\n",
    "import random\n",
    "for i in range(5):\n",
    "    print(random.randint(1, 6), end = \" \")\n",
    "print()\n",
    "\n",
    "random.seed(0)\n",
    "for i in range(5):\n",
    "    print(random.randint(1, 6), end = \" \")\n",
    "print()\n",
    "\n",
    "random.seed(1)\n",
    "for i in range(5):\n",
    "    print(random.randint(1, 6), end = \" \")\n",
    "print()\n",
    "\n",
    "random.seed(0)\n",
    "for i in range(5):\n",
    "    print(random.randint(1, 6), end = \" \")\n",
    "print()\n",
    "\n",
    "random.seed(1)\n",
    "for i in range(5):\n",
    "    print(random.randint(1, 6), end = \" \")\n",
    "print()\n"
   ]
  }
 ],
 "metadata": {
  "kernelspec": {
   "display_name": "Python 3",
   "language": "python",
   "name": "python3"
  },
  "language_info": {
   "codemirror_mode": {
    "name": "ipython",
    "version": 3
   },
   "file_extension": ".py",
   "mimetype": "text/x-python",
   "name": "python",
   "nbconvert_exporter": "python",
   "pygments_lexer": "ipython3",
   "version": "3.12.5"
  }
 },
 "nbformat": 4,
 "nbformat_minor": 2
}
