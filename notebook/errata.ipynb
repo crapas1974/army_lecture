{
 "cells": [
  {
   "cell_type": "markdown",
   "metadata": {},
   "source": [
    "# 2-5강 관련\n",
    "<hr>\n",
    "\n",
    "* 동영상 오류로 일부 소리가 나지 않는 부분이 있습니다.\n",
    "* 가급적 빠르게 수정하겠습니다만 우선..."
   ]
  },
  {
   "cell_type": "code",
   "execution_count": null,
   "metadata": {},
   "outputs": [],
   "source": [
    "# 파이썬은 할당연산에 두 개 이상의 값을 동시에 할당할 수 있습니다.\n",
    "a, b = 10, 20\n",
    "print(a, b)\n"
   ]
  },
  {
   "cell_type": "code",
   "execution_count": null,
   "metadata": {},
   "outputs": [],
   "source": [
    "# 두 변수를 동시에 할당할 때 두 변수의 선후관계 등등은 고민하지 않아도 됩니다.\n",
    "a, b = 10, 20\n",
    "print(a, b)\n",
    "a, b = b + 10, 30\n",
    "print(a, b)\n",
    "a, b = a + 10 , 50\n",
    "print(a, b)"
   ]
  },
  {
   "cell_type": "code",
   "execution_count": null,
   "metadata": {},
   "outputs": [],
   "source": [
    "# 대부분의 프로그래밍 언어에서 두 변수의 값을 맞바꿀 때 다음과 같이 임시 변수를 하나 사용합니다.\n",
    "a = 10\n",
    "b = 20\n",
    "\n",
    "temp = a\n",
    "a = b\n",
    "b = temp\n",
    "print(a, b)"
   ]
  },
  {
   "cell_type": "code",
   "execution_count": null,
   "metadata": {},
   "outputs": [],
   "source": [
    "# 하지만 파이썬에서는 동시에 할당을 사용하면 간단하게 두 변수의 값을 맞바꿀 수 있습니다.\n",
    "a = 10\n",
    "b = 20\n",
    "a, b = b, a\n",
    "print(a, b)"
   ]
  }
 ],
 "metadata": {
  "kernelspec": {
   "display_name": "Python 3",
   "language": "python",
   "name": "python3"
  },
  "language_info": {
   "codemirror_mode": {
    "name": "ipython",
    "version": 3
   },
   "file_extension": ".py",
   "mimetype": "text/x-python",
   "name": "python",
   "nbconvert_exporter": "python",
   "pygments_lexer": "ipython3",
   "version": "3.12.5"
  }
 },
 "nbformat": 4,
 "nbformat_minor": 2
}
