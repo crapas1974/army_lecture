{
 "cells": [
  {
   "cell_type": "markdown",
   "metadata": {},
   "source": [
    "# 2. 파이썬의 변수, 연산, 자료형\n",
    "<hr>\n",
    "\n",
    "## 2.4 표현식, 연산과 연산자"
   ]
  },
  {
   "cell_type": "code",
   "execution_count": null,
   "metadata": {},
   "outputs": [],
   "source": [
    "# code 2-62\n",
    "# 피연산자가 하나인 연산을 단항 연산이라고 합니다. \n",
    "# 파이썬의 단항 연산자는 4개가 있습니다.\n",
    "x = -10\n",
    "# 단항 플러스 연산\n",
    "print(+x)\n",
    "# 단항 마이너스 연산\n",
    "print(-x)\n",
    "\n",
    "truth = True\n",
    "# 논리 not 연산\n",
    "print(not truth)\n",
    "\n",
    "# 비트 연산은 예제에서 제외합니다."
   ]
  },
  {
   "cell_type": "code",
   "execution_count": null,
   "metadata": {},
   "outputs": [],
   "source": [
    "# code 2-63\n",
    "# 파이썬에서 피연산자가 3개인 삼항 연산은 조건 표현식 연산 하나 뿐 입니다.\n",
    "# A if condition else B 연산의 결과는 조건이 True이면 A, False이면 B 입니다.\n",
    "condition = True\n",
    "print(10 if condition else 20)\n",
    "condition = False\n",
    "print(10 if condition else 20)"
   ]
  },
  {
   "cell_type": "code",
   "execution_count": null,
   "metadata": {},
   "outputs": [],
   "source": [
    "# code 2-64\n",
    "# 피연산자가 2개인 이항 연산자 대부분 왼쪽에서 오른쪽 순서로 계산이 이루어집니다.\n",
    "# 단 거듭제곱 연산과 할당 연산은 에외입니다.\n",
    "# 멤버십 연산 in은 콜렉션에 값이 존재하는지를 검사하는 연산입니다.\n",
    "test_list = [1, 2, 3, 4, 5]\n",
    "print(0 in test_list)\n",
    "print(1 in test_list)\n",
    "# not in은 in의 반대입니다.\n",
    "print(0 not in test_list)\n",
    "print(1 not in test_list)"
   ]
  },
  {
   "cell_type": "code",
   "execution_count": null,
   "metadata": {},
   "outputs": [],
   "source": [
    "# code 2-65\n",
    "# 논리 연산은 '그리고', '또는', '반대' 세 가지가 있습니다. \n",
    "# \"그리고\"는 and 입니다.\n",
    "print(True and True)\n",
    "print(True and False)\n",
    "print(False and True)\n",
    "print(False and False)\n",
    "# \"또는\"은 or 입니다.\n",
    "print(True or True)\n",
    "print(True or False)\n",
    "print(False or True)\n",
    "print(False or False)\n",
    "# \"반대\"는 not 입니다.\n",
    "print(not True)\n",
    "print(not False)"
   ]
  },
  {
   "cell_type": "code",
   "execution_count": null,
   "metadata": {},
   "outputs": [],
   "source": [
    "# code 2-66\n",
    "# 이 세 가지 논리 연산으로 모든 논리 연산을 만들 수 있습니다. \n",
    "# 예를 들어 A NAND B는 다음과 같이 표현할 수 있습니다. \n",
    "# (NAND는 두 입력이 모두 참일 때만 거짓이 되는 연산입니다.)\n",
    "A = True\n",
    "B = True\n",
    "print(not(A and B))\n",
    "print((not A) or (not B))   # 위 두 논리 연산을 활용한 표현식은 동치입니다."
   ]
  },
  {
   "cell_type": "code",
   "execution_count": null,
   "metadata": {},
   "outputs": [],
   "source": [
    "# code 2-67\n",
    "# 논리 연산은 우선 순위가 모두 다릅니다. not > and > or 순서입니다.\n",
    "print(True or False and False)     \n",
    "print(True or (False and False))    # 괄호가 없어도 이 순서로 계산됩니다. \n",
    "print((True or False) and False)\n"
   ]
  }
 ],
 "metadata": {
  "kernelspec": {
   "display_name": "Python 3",
   "language": "python",
   "name": "python3"
  },
  "language_info": {
   "codemirror_mode": {
    "name": "ipython",
    "version": 3
   },
   "file_extension": ".py",
   "mimetype": "text/x-python",
   "name": "python",
   "nbconvert_exporter": "python",
   "pygments_lexer": "ipython3",
   "version": "3.12.5"
  }
 },
 "nbformat": 4,
 "nbformat_minor": 2
}
