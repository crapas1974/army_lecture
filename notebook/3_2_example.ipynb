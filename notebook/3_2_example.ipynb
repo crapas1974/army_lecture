{
 "cells": [
  {
   "cell_type": "markdown",
   "metadata": {},
   "source": [
    "# 3. 파이썬 제어 컨트롤\n",
    "<hr>\n",
    "\n",
    "## 3.2 조건 제어"
   ]
  },
  {
   "cell_type": "code",
   "execution_count": null,
   "metadata": {},
   "outputs": [],
   "source": [
    "# code 3-1\n",
    "# input() 함수를 사용해 사용자에게 입력을 받을 수 있습니다.\n",
    "# visual studio code에서 주피터노트북을 실행하는 경우 \n",
    "# 입력창은 명령 팔레트 위치에 나타납니다.\n",
    "input()"
   ]
  },
  {
   "cell_type": "code",
   "execution_count": null,
   "metadata": {},
   "outputs": [],
   "source": [
    "# code 3-2\n",
    "# input() 함수를 사용해 입력받은 값을 변수에 할당해 사용할 수 있습니다.\n",
    "user_input = input()\n",
    "print(user_input)\n",
    "# 입력받은 값의 자료형은 문자열입니다. int() 함수를 사용해 숫자형으로 바꿀 수 있습니다.\n",
    "# 단 숫자로 바꿀 수 있는 것만 가능합니다.\n",
    "user_input = int(user_input)\n",
    "print(user_input, user_input + 1)\n",
    "# 실행할 때 숫자인 것과 숫자가 아닌 것을 각각 입력하고 결과를 확인해 봅시다."
   ]
  },
  {
   "cell_type": "code",
   "execution_count": null,
   "metadata": {},
   "outputs": [],
   "source": [
    "# code 3-3\n",
    "# if 조건식 :\n",
    "#   하위 블록을 만듭니다.\n",
    "#   조건식이 참일 때 하위 블록이 실행됩니다.\n",
    "#   10 미만의 수와 10 이상의 수를 각각 입력하고 결과를 확인해봅시다.\n",
    "user_input = int(input())\n",
    "if user_input < 10:\n",
    "    print(\"10 미만의 수를 입력했습니다.\")\n",
    "    print(\"입력한 수:\", user_input)\n",
    "print(\"무엇을 입력하건 출력될 겁니다.\")"
   ]
  },
  {
   "cell_type": "code",
   "execution_count": null,
   "metadata": {},
   "outputs": [],
   "source": [
    "# code 3-4\n",
    "# if 조건식:\n",
    "#   하위블록 1\n",
    "# else:\n",
    "#   하위블록 2\n",
    "# 조건식이 참이면 하위블록 1, 거짓이면 하위블록 2가 실행됩니다.\n",
    "user_input = int(input())\n",
    "if user_input < 10:\n",
    "    print(\"10 미만의 수를 입력했습니다.\")\n",
    "    print(\"입력한 수:\", user_input)\n",
    "else:\n",
    "    print(\"10 이상의 수를 입력했습니다.\")\n",
    "    print(\"number you submitted:\", user_input)\n",
    "print(\"무엇을 입력하건 출력될 겁니다.\")"
   ]
  },
  {
   "cell_type": "code",
   "execution_count": null,
   "metadata": {},
   "outputs": [],
   "source": [
    "# code 3-5\n",
    "# if와 else 사이에 elif 조건식:을 사용해 \n",
    "# if 조건식이 거짓인 경우 추가적인 경우를 따져볼 수 있습니다.\n",
    "    # 단, if 조건식이 참이면 실행되지 않습니다.\n",
    "user_input = int(input())\n",
    "if user_input < 10:\n",
    "    print(\"10 미만의 수를 입력했습니다.\")\n",
    "    print(\"입력한 수:\", user_input)\n",
    "elif user_input < 15:\n",
    "    print(\"10 이상 15 미만의 수를 입력했습니다.\")\n",
    "    print(\"입력한 수:\", user_input)\n",
    "else:\n",
    "    print(\"15 이상의 수를 입력했습니다.\")\n",
    "print(\"무엇을 입력하건 출력될 겁니다.\")"
   ]
  },
  {
   "cell_type": "code",
   "execution_count": null,
   "metadata": {},
   "outputs": [],
   "source": [
    "# code 3-6\n",
    "# elif와 else는 반드시 if가 뒤에 옵니다.\n",
    "# elif 보다 else가 먼저 올 수 없습니다.\n",
    "# if elif else 를 사용해 제한없는 개수의 하위 블록을 만들 수 있지만, \n",
    "# 그 중 오로지 하나만 실행됩니다.\n",
    "\n",
    "user_input = int(input())\n",
    "if user_input < 15:\n",
    "    print(\"15 미만의 수를 입력했습니다.\")\n",
    "    print(\"입력한 수:\", user_input)\n",
    "elif user_input < 14:\n",
    "    print(\"어떠한 경우에도 이 메시지는 출력되지 않습니다.\")\n",
    "    print(\"선행한 if의 하위블록이 실행되었으므로...\")\n",
    "elif user_input < 13:\n",
    "    print(\"어떠한 경우에도 이 메시지는 출력되지 않습니다.\")\n",
    "    print(\"선행한 if의 하위블록이 실행되었으므로...\")\n",
    "elif user_input < 12:\n",
    "    print(\"어떠한 경우에도 이 메시지는 출력되지 않습니다.\")\n",
    "    print(\"선행한 if의 하위블록이 실행되었으므로...\")\n",
    "elif user_input < 11:\n",
    "    print(\"어떠한 경우에도 이 메시지는 출력되지 않습니다.\")\n",
    "    print(\"선행한 if의 하위블록이 실행되었으므로...\")\n",
    "elif user_input < 10:\n",
    "    print(\"어떠한 경우에도 이 메시지는 출력되지 않습니다.\")\n",
    "    print(\"선행한 if의 하위블록이 실행되었으므로...\")\n",
    "else:\n",
    "    print(\"15 이상의 수를 입력했습니다.\")\n",
    "print(\"무엇을 입력하건 출력될 겁니다.\")"
   ]
  },
  {
   "cell_type": "code",
   "execution_count": null,
   "metadata": {},
   "outputs": [],
   "source": [
    "# code 3-7\n",
    "# 하위 블록 아래에 또 다른 하위 블록을 만들 수 있습니다.\n",
    "user_input = int(input())\n",
    "if user_input < 15:\n",
    "    if user_input >= 10:\n",
    "        print(\"10 이상 15 미만의 수를 입력했습니다.\")\n",
    "    else:\n",
    "        print(\"10 미만의 수를 입력했습니다.\")\n",
    "else:\n",
    "    if user_input < 20:\n",
    "        print(\"15 이상 20 미만의 수를 입력했습니다.\")\n",
    "    else:\n",
    "        print(\"20 이상의 수를 입력했습니다.\")"
   ]
  },
  {
   "cell_type": "code",
   "execution_count": null,
   "metadata": {},
   "outputs": [],
   "source": [
    "# code 3-8\n",
    "# 다음은 코드 3-7과 동일한 일을 하는 코드입니다.\n",
    "# 논리 연산을 사용해 조건식에 여러 조건을 한 번에 확인할 수 있습니다.\n",
    "user_input = int(input())\n",
    "if user_input >= 10 and user_input < 15:\n",
    "    print(\"10 이상 15 미만의 수를 입력했습니다.\")\n",
    "elif user_input >= 15 and user_input < 20:\n",
    "    print(\"15 이상 20 미만의 수를 입력했습니다.\")\n",
    "elif user_input < 10:\n",
    "    print(\"10 미만의 수를 입력했습니다.\")\n",
    "else:\n",
    "    print(\"20 이상의 수를 입력했습니다.\")"
   ]
  },
  {
   "cell_type": "code",
   "execution_count": null,
   "metadata": {},
   "outputs": [],
   "source": [
    "# code 3-9\n",
    "# 코드 3-7, 3-8은 다음과 같이 작성하는게 가장 바람직합니다.\n",
    "# 실수의 가능성이 제일 작기 때문입니다.\n",
    "user_input = int(input())\n",
    "if user_input < 10:\n",
    "    print(\"10 미만의 수를 입력했습니다.\")\n",
    "elif user_input < 15:\n",
    "    print(\"10 이상 15 미만의 수를 입력했습니다.\")\n",
    "elif user_input < 20:\n",
    "    print(\"15 이상 20 미만의 수를 입력했습니다.\")\n",
    "else:\n",
    "    print(\"20 이상의 수를 입력했습니다.\")    "
   ]
  },
  {
   "cell_type": "code",
   "execution_count": 19,
   "metadata": {},
   "outputs": [
    {
     "name": "stdout",
     "output_type": "stream",
     "text": [
      "ㅠ 을 입력했군요.\n",
      "지킬 것은 좀 지켜주세요!\n"
     ]
    }
   ],
   "source": [
    "# code 3-10\n",
    "# match ~ case는 3.10 버전 이후 파이썬에서 사용 가능한 편리한 조건 분기 구문입니다.\n",
    "# 다음은 user_input 값에 따라 지정된 하위 블록 하나를 실행합니다.\n",
    "user_input = input(\"A, a, 1 중 하나를 입력하세요.\")\n",
    "match user_input:\n",
    "    case 'a':\n",
    "        print(\"a를 입력했군요.\")\n",
    "        print(\"소문자입니다.\")\n",
    "    case 'A':\n",
    "        print(\"A를 입력했군요.\")\n",
    "        print(\"대문자입니다.\")\n",
    "    case '1':\n",
    "        print(\"1을 입력했군요.\")\n",
    "        print(\"숫자입니다.\")\n",
    "    case _:\n",
    "        print(user_input, \"을 입력했군요.\")\n",
    "        print(\"지킬 것은 좀 지켜주세요!\")\n",
    "\n",
    "\n"
   ]
  }
 ],
 "metadata": {
  "kernelspec": {
   "display_name": "Python 3",
   "language": "python",
   "name": "python3"
  },
  "language_info": {
   "codemirror_mode": {
    "name": "ipython",
    "version": 3
   },
   "file_extension": ".py",
   "mimetype": "text/x-python",
   "name": "python",
   "nbconvert_exporter": "python",
   "pygments_lexer": "ipython3",
   "version": "3.12.5"
  }
 },
 "nbformat": 4,
 "nbformat_minor": 2
}
