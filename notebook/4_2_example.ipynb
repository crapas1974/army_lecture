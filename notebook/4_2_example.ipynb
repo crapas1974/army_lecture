{
 "cells": [
  {
   "cell_type": "markdown",
   "metadata": {},
   "source": [
    "# 4. 파이썬 함수\n",
    "<hr>\n",
    "\n",
    "## 4.2 함수의 사용법"
   ]
  },
  {
   "cell_type": "code",
   "execution_count": null,
   "metadata": {},
   "outputs": [],
   "source": [
    "# code 4-1\n",
    "# 함수는 def 키워드를 사용해 정의합니다.\n",
    "# 이어지는 하위블록은 종료 전까지 모두 함수에 속합니다.\n",
    "# 함수의 이름과 괄호를 def와 콜론 사이에 사용하는데,\n",
    "# 괄호 안의 변수는 함수가 동작하는 조건, 즉 매개변수(parameter) 입니다.\n",
    "# 아래는 주어진 두 값이 각각 변수 a, b에 할당되고\n",
    "# a와 b를 더하는 결과를 출력하는 함수입니다.\n",
    "def sum_of_two_numbers(a, b):\n",
    "    result = a + b\n",
    "    print(result)"
   ]
  },
  {
   "cell_type": "code",
   "execution_count": null,
   "metadata": {},
   "outputs": [],
   "source": [
    "# code 4-2\n",
    "# 함수는 함수의 이름을 불러서 사용합니다.\n",
    "# 이때, 매개변수에 대응되는 값을 괄호에 제시해야 합니다.\n",
    "# 함수를 호출하는 입장에서는 이를 인자라고 합니다.\n",
    "def sum_of_two_numbers(a, b):\n",
    "    result = a + b\n",
    "    print(result)\n",
    "\n",
    "# 인자 10, 20을 사용해 함수를 호출합니다.\n",
    "# 순서대로 대응되는 매개변수인 a에 10, b에 20이 할당됩니다.\n",
    "sum_of_two_numbers(10, 20)"
   ]
  },
  {
   "cell_type": "code",
   "execution_count": null,
   "metadata": {},
   "outputs": [],
   "source": [
    "# code 4-3\n",
    "# 파이썬은 미리 '기억해 둔' 함수만 실행할 수 있습니다.\n",
    "# 그리고 함수의 이름 규칙은 변수의 이름 규칙과 동일합니다.\n",
    "sum_of_two_numbers(10, 20) #  안됨.\n",
    "\n",
    "def sum_of_two_numbers(a, b):\n",
    "    result = a + b\n",
    "    print(result)"
   ]
  },
  {
   "cell_type": "code",
   "execution_count": null,
   "metadata": {},
   "outputs": [],
   "source": [
    "# code 4-4\n",
    "# 함수는 '무엇인가를 하고', '무엇인가를 돌려줍'니다.\n",
    "# 둘 다 할 수도 있고, 하나만 할 수도 있습니다.\n",
    "# 돌려줄 때는 return을 사용합니다.\n",
    "\n",
    "# 무엇인가를 하지 않고(즉, 출력하지 않고)\n",
    "# 돌려주기만 합니다. (이를 반환한다고 하고, 돌려주는 값을 반환값이라고 합니다.)\n",
    "def sum_of_two_numbers(a, b):\n",
    "    result = a + b\n",
    "    return result\n",
    "\n",
    "x = sum_of_two_numbers(10, 20)\n",
    "print(x)"
   ]
  },
  {
   "cell_type": "code",
   "execution_count": null,
   "metadata": {},
   "outputs": [],
   "source": [
    "# code 4-5\n",
    "# return은 아무것도 반환하지 않을 수 있습니다.\n",
    "# 프로그램이 실행되다가 return을 만나면 함수를 즉시 종료합니다.\n",
    "# 함수가 종료되면, 호출한 함수 그 다음 명령을 실행합니다.\n",
    "\n",
    "# 다음은 출력도 하고 값도 돌려주는 함수입니다.\n",
    "def sum_of_two_numbers(a, b):\n",
    "    if a + b < 0:\n",
    "        return\n",
    "    print(a, \"와\", b, \"를 더합니다.\")\n",
    "    result = a + b\n",
    "    return result\n",
    "    print(\"return 뒤니까... 이건 실행이 안되겠지?\")\n",
    "\n",
    "sum_result = sum_of_two_numbers(0, 2) + sum_of_two_numbers(2, 1) + sum_of_two_numbers(2, 0)\n",
    "print(sum_result)\n",
    "print(sum_of_two_numbers(-1, -1))\n",
    "# None은 \"아무것도 반환되지 않음\"을 의미합니다.\n"
   ]
  },
  {
   "cell_type": "code",
   "execution_count": null,
   "metadata": {},
   "outputs": [],
   "source": [
    "# code 4-6\n",
    "# 함수는 둘 이상의 값을 반환할 수 있습니다.\n",
    "def sum_power_and_divide(a, b):\n",
    "    return a + b, a ** b, a / b\n",
    "sum_result, power_result, division_result = sum_power_and_divide(2, 3)\n",
    "print(sum_result, power_result, division_result)\n",
    "# 여러 개의 반환값을 하나의 변수로 받으면, 튜플 자료형이 됩니다.\n",
    "tuple_result = sum_power_and_divide(2, 3)\n",
    "print(tuple_result)\n",
    "# 여러 개의 반환값을 받을 때 숫자가 맞지 않으면 예외가 발생합니다.\n",
    "# 숫자를 맞추거나, 하나의 변수로만 받아야 합니다.\n",
    "sum_result, power_result = sum_power_and_divide(2, 3)"
   ]
  },
  {
   "cell_type": "code",
   "execution_count": null,
   "metadata": {},
   "outputs": [],
   "source": [
    "# code 4-7\n",
    "# 함수 정의시에 매개변수에 기본 값을 지정할 수 있습니다.\n",
    "def foo(name = \"Python\"):\n",
    "    print(\"이름은\", name, \"입니다.\")\n",
    "\n",
    "foo(\"파이썬\")\n",
    "foo()\n",
    "\n",
    "def bar(a, b = None):\n",
    "    if b == None:\n",
    "        print(\"인자 두개를 사용해서 호출하세요.\")\n",
    "        return\n",
    "    print(a, b)\n",
    "\n",
    "bar(\"파이썬\", \"입니다.\")\n",
    "bar(\"파이썬\")"
   ]
  },
  {
   "cell_type": "code",
   "execution_count": null,
   "metadata": {},
   "outputs": [],
   "source": [
    "# code 4-8\n",
    "# 기본값을 지정한 매개변수가 다른 매개변수보다 앞에 위치할 수 없습니다.\n",
    "def bar(a = None, b):\n",
    "    if a == None:\n",
    "        print(\"인자 두개를 사용해서 호출하세요.\")\n",
    "        return\n",
    "    print(a, b)"
   ]
  },
  {
   "cell_type": "code",
   "execution_count": null,
   "metadata": {},
   "outputs": [],
   "source": [
    "# code 4-9\n",
    "# 기본값을 지정한 매개변수가 둘 이상일 때, \n",
    "# 앞의 변수만 생략하고 뒤의 변수를 지정할 수 없습니다.\n",
    "def foo(a, b = \"는\", c = \"프로그래밍 언어입니다.\"):\n",
    "    print(a, b, c)\n",
    "\n",
    "foo(\"자바\")\n",
    "foo(\"파이썬\", \"은\")\n",
    "foo (\"윈도우\", \"는\", \"프로그래밍 언어가 아닙니다.\") \n"
   ]
  },
  {
   "cell_type": "code",
   "execution_count": null,
   "metadata": {},
   "outputs": [],
   "source": [
    "# code 4-10\n",
    "# 함수를 호출할 때 매개변수를 지정하면 순서를 지키지 않아도 됩니다.\n",
    "def foo(a, b = \"는\", c = \"프로그래밍 언어입니다.\"):\n",
    "    print(a, b, c)\n",
    "foo(c = \"들어가십니다.\", b = \"가방에\", a = \"아버지\")\n",
    "# 이 경우, 가운데 위치한 기본값 매개변수의 기본값을 사용할 수 있습니다.\n",
    "foo(\"윈도우\", c = \"프로그래밍 언어가 아닙니다.\")"
   ]
  },
  {
   "cell_type": "code",
   "execution_count": null,
   "metadata": {},
   "outputs": [],
   "source": [
    "# code 4-11\n",
    "# 함수는 자기 자신을 호출할 수 있습니다. 재귀호출이라고 합니다.\n",
    "\n",
    "def foo(i):\n",
    "    if i < 0:\n",
    "        return\n",
    "    print(i)\n",
    "    foo(i - 1)\n",
    "\n",
    "foo(10) "
   ]
  },
  {
   "cell_type": "code",
   "execution_count": null,
   "metadata": {},
   "outputs": [],
   "source": [
    "# code 4-12\n",
    "# 너무 깊은 재귀 호출은 금지되어 있습니다.\n",
    "def foo(i):\n",
    "    if i < 0:\n",
    "        return\n",
    "    print(i)\n",
    "    foo(i - 1)\n",
    "\n",
    "foo(10000) "
   ]
  }
 ],
 "metadata": {
  "kernelspec": {
   "display_name": "Python 3",
   "language": "python",
   "name": "python3"
  },
  "language_info": {
   "codemirror_mode": {
    "name": "ipython",
    "version": 3
   },
   "file_extension": ".py",
   "mimetype": "text/x-python",
   "name": "python",
   "nbconvert_exporter": "python",
   "pygments_lexer": "ipython3",
   "version": "3.12.5"
  }
 },
 "nbformat": 4,
 "nbformat_minor": 2
}
