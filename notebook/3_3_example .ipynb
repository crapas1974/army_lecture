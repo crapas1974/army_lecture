{
 "cells": [
  {
   "cell_type": "markdown",
   "metadata": {},
   "source": [
    "# 3. 파이썬 제어 컨트롤\n",
    "<hr>\n",
    "\n",
    "## 3.3 반복 제어 (루프 생성)"
   ]
  },
  {
   "cell_type": "code",
   "execution_count": null,
   "metadata": {},
   "outputs": [],
   "source": [
    "# code 3-11\n",
    "# while 조건식 : - 조건식이 참인 경우 하위 블록을 반복해서 실행\n",
    "count = 10\n",
    "while count > 0:\n",
    "    print(count)\n",
    "    count -= 1"
   ]
  },
  {
   "cell_type": "code",
   "execution_count": null,
   "metadata": {},
   "outputs": [],
   "source": [
    "# code 3-12\n",
    "# 영원히 끝나지 않는 반복을 무한루프라고 하며,\n",
    "# 무한루프는 거의 잘못된 실수로부터 만들어집니다.\n",
    "count = 10\n",
    "while count > 0:\n",
    "    print(count)\n",
    "    # count 감소를 잊어버림"
   ]
  },
  {
   "cell_type": "code",
   "execution_count": null,
   "metadata": {},
   "outputs": [],
   "source": [
    "# code 3-13\n",
    "# break는 루프를 즉시 빠져 나옵니다.\n",
    "count = 10\n",
    "while count > 0:\n",
    "    print(count)\n",
    "    break\n",
    "    count -= 1"
   ]
  },
  {
   "cell_type": "code",
   "execution_count": null,
   "metadata": {},
   "outputs": [],
   "source": [
    "# code 3-14\n",
    "# while True는 무한루프를 생성합니다.\n",
    "# break를 잘 사용하면 적절한 시점에 루프에서 빠져 나오게 제어할 수 있습니다.\n",
    "while True:\n",
    "    user_input = input(\"1을 입력하세요.\")\n",
    "    if user_input == \"1\":\n",
    "        break\n",
    "    else:\n",
    "        print(\"잘못 입력하셨군요!\")\n",
    "print(\"1을 입력했습니다.\")"
   ]
  },
  {
   "cell_type": "code",
   "execution_count": null,
   "metadata": {},
   "outputs": [],
   "source": [
    "# code 3-15\n",
    "# continue는 즉시 조건을 확인하는 while의 위치로 되돌아갑니다.\n",
    "count = 10\n",
    "while count < 0:\n",
    "    if count % 2 == 0:\n",
    "        continue\n",
    "    print(count)\n",
    "\n",
    "# 위 while은 다음과 같습니다.\n",
    "# while count < 0:\n",
    "#   if count % 2 != 0:\n",
    "#       print(count)"
   ]
  },
  {
   "cell_type": "code",
   "execution_count": null,
   "metadata": {},
   "outputs": [],
   "source": [
    "# code 3-16\n",
    "# while 반복문으로 구구단을 만드려면 이중 중첩된 while 루프를 사용하면 됩니다.\n",
    "x = 2\n",
    "while x <= 9:\n",
    "    y = 2\n",
    "    while y <= 9:\n",
    "        print(x, \"X\", y, \"=\", x * y)\n",
    "        y += 1\n",
    "    x += 1\n",
    "# 주피터 노트북에서는 너무 출력 결과가 길면 중간에 생략을 하고 보여줍니다. \n",
    "# 출력 아래 링크를 눌러보세요."
   ]
  },
  {
   "cell_type": "code",
   "execution_count": null,
   "metadata": {},
   "outputs": [],
   "source": [
    "# code 3-17(a)\n",
    "# 중첩된 루프 속의 break와 continue는\n",
    "# 가장 직접적인 while에 대해서 동작합니다.\n",
    "# (a)와 (b)의 실행 결과를 비교해봅시다.\n",
    "x = 2\n",
    "while x <= 9:\n",
    "    y = 2\n",
    "    while y <= 9:\n",
    "        print(x, \"X\", y, \"=\", x * y)\n",
    "        y += 1\n",
    "        if x * y > 20:\n",
    "           break\n",
    "    x += 1"
   ]
  },
  {
   "cell_type": "code",
   "execution_count": null,
   "metadata": {},
   "outputs": [],
   "source": [
    "# code 3-17(b)\n",
    "# 중첩된 루프 속의 break와 continue는\n",
    "# 가장 직접적인 while에 대해서 동작합니다.\n",
    "x = 2\n",
    "while x <= 9:\n",
    "    y = 2\n",
    "    while y <= 9:\n",
    "        print(x, \"X\", y, \"=\", x * y)\n",
    "        y += 1\n",
    "    if x * y > 20:\n",
    "        break\n",
    "\n",
    "    x += 1"
   ]
  },
  {
   "cell_type": "code",
   "execution_count": null,
   "metadata": {},
   "outputs": [],
   "source": [
    "# code 3-18\n",
    "# for 루프변수 in 리스트:\n",
    "#   리스트의 요소를 차례대로 루프변수에 넣어가며 반복합니다.\n",
    "list_1 = [1, 2, 3, 4, 5]\n",
    "for x in list_1:\n",
    "    print(x)"
   ]
  },
  {
   "cell_type": "code",
   "execution_count": null,
   "metadata": {},
   "outputs": [],
   "source": [
    "# code 3-19\n",
    "# for 루프변수 in 문자열:\n",
    "#   가능합니다. 한 글자씩 사용합니다.\n",
    "greetings = \"Hello, Python!\"\n",
    "count = 0\n",
    "for c in greetings:\n",
    "    print(\" \" * count + c)\n",
    "    count += 1"
   ]
  },
  {
   "cell_type": "code",
   "execution_count": null,
   "metadata": {},
   "outputs": [],
   "source": [
    "# code 3-20\n",
    "# range() 함수는 수열을 만듭니다.\n",
    "# list() 함수는 수열을 리스트 자료형으로 변환합니다.\n",
    "print(list(range(10)))          # 0에서 9까지 연속된 수\n",
    "print(list(range(5, 10)))       # 5에서 9까지 연속된 수\n",
    "print(list(range(5, 10, 2)))    # 간격을 2로 지정\n",
    "print(list(range(10, 5, -1)))   # 간격이 음수면 역방향\n"
   ]
  },
  {
   "cell_type": "code",
   "execution_count": null,
   "metadata": {},
   "outputs": [],
   "source": [
    "# code 3-21\n",
    "# 내장함수 print()는 두 개 이상의 대상을 출력할 수 있습니다.\n",
    "print(1)\n",
    "print(1, \"1\")\n",
    "print(1, \"1\", \"one\")\n",
    "print(1, \"1\", \"one\", \"하나\")\n",
    "# sep = 를 지정해서 사이에 무엇으로 구분할지를 지정할 수 있습니다.\n",
    "# 기본값은 한칸 띄움 입니다.\n",
    "print(1, \"1\", \"one\", \"하나\", sep = \",\")\n",
    "print(1, \"1\", \"one\", sep = \", \")\n",
    "print(1, \"1\", sep = \" / \")\n",
    "# end = 를 지정해서 출력을 마친 뒤에 무엇을 덧붙일지를 지정할 수 있습니다.\n",
    "# 기본값은 줄 바꿈 입니다.\n",
    "print(\"Hello,\", end = \" \")\n",
    "print(\"Python!\")\n",
    "print()\n",
    "print(\"Hello,\", end=\"\\n\\n\\n\\n\")\n",
    "print(\"Python!\")"
   ]
  },
  {
   "cell_type": "code",
   "execution_count": null,
   "metadata": {},
   "outputs": [],
   "source": [
    "# code 3-22\n",
    "# range와 for를 함께 사용해 간편하게 루프를 만들 수 있습니다.\n",
    "for x in range(10):\n",
    "    print(x, end = \" \")     # 출력 뒤에 줄바꿈 대신 공백을 추가\n",
    "print()\n",
    "\n",
    "for x in range(2, 10, 2):\n",
    "    print(x, end = \" \")\n",
    "print()"
   ]
  },
  {
   "cell_type": "code",
   "execution_count": null,
   "metadata": {},
   "outputs": [],
   "source": [
    "# code 3-23\n",
    "# for 루프에서도 break와 continue를 사용할 수 있습니다.\n",
    "\n",
    "peoples = [\"시민\", \"시민\", \"도둑\", \"시민\", \"스파이\", \"깡패\"]\n",
    "for people in peoples:\n",
    "    print(\"현재의 멤버 :\", people)\n",
    "    if people == \"스파이\":\n",
    "        print(\"루프를 돌릴 때가 이니야!\")\n",
    "        break\n",
    "    if people == \"시민\":\n",
    "        continue\n",
    "    print(\"잡았다, 이놈!\")\n"
   ]
  },
  {
   "cell_type": "code",
   "execution_count": null,
   "metadata": {},
   "outputs": [],
   "source": [
    "# code 3-24\n",
    "# 이중 for 루프는 이중 리스트를 다루는데 적합합니다.\n",
    "# 이중 리스트를 우선 만들어 봅시다.\n",
    "arr = []\n",
    "for i in range(5):\n",
    "    inner_list = []\n",
    "    for j in range(5):\n",
    "        inner_list.append((i, j))   # 튜플을 요소로 가집니다.\n",
    "    arr.append(inner_list)\n",
    "\n",
    "# 생성한 이중 리스트를 좌표에 맞춰 출력합니다.\n",
    "for i in range(5):\n",
    "    for j in range(5):\n",
    "        print(arr[i][j], end = \" \")\n",
    "    print()\n"
   ]
  },
  {
   "cell_type": "code",
   "execution_count": null,
   "metadata": {},
   "outputs": [],
   "source": [
    "# code 3-25\n",
    "# 원은 반지름 r에 대해서 a ^ 2 + b ^ 2 < r ^ 2 인 내부 영역을 말합니다.\n",
    "# print 문에서 end=\"\"가 있을 때와 없을 때를 각각 비교해 봅시다.\n",
    "r = 40\n",
    "for i in range(-r, r):\n",
    "    for j in range(-r, r):\n",
    "        if i ** 2 + j ** 2 < r ** 2:\n",
    "            print(\"+\", end = \"\")\n",
    "        else:\n",
    "            print(\" \", end = \"\")\n",
    "    print()\n"
   ]
  },
  {
   "cell_type": "code",
   "execution_count": null,
   "metadata": {},
   "outputs": [],
   "source": [
    "# code 3-26\n",
    "# code 3-16의 구구단 프로그램을 for 루프로도 만들 수 있습니다.\n",
    "for x in range(2, 10):\n",
    "    for y in range(2, 10):\n",
    "        print(x, \"X\", y, \"=\", x * y)"
   ]
  }
 ],
 "metadata": {
  "kernelspec": {
   "display_name": "Python 3",
   "language": "python",
   "name": "python3"
  },
  "language_info": {
   "codemirror_mode": {
    "name": "ipython",
    "version": 3
   },
   "file_extension": ".py",
   "mimetype": "text/x-python",
   "name": "python",
   "nbconvert_exporter": "python",
   "pygments_lexer": "ipython3",
   "version": "3.12.5"
  }
 },
 "nbformat": 4,
 "nbformat_minor": 2
}
