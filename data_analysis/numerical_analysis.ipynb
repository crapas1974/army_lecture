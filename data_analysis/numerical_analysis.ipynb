{
 "cells": [
  {
   "cell_type": "code",
   "execution_count": null,
   "metadata": {},
   "outputs": [],
   "source": [
    "# pandas 사용 선언\n",
    "# 미리 설치되어 있어야 합니다. conda install pandas 또는 pip install pandas\n",
    "import pandas as pd"
   ]
  },
  {
   "cell_type": "code",
   "execution_count": null,
   "metadata": {},
   "outputs": [],
   "source": [
    "# CSV 파일을 읽어옵니다.\n",
    "gfp_df = pd.read_csv(\"GlobalFirePower.csv\")\n",
    "gfp_df.describe()"
   ]
  },
  {
   "cell_type": "code",
   "execution_count": null,
   "metadata": {},
   "outputs": [],
   "source": [
    "# 데이터프레임의 처음 5개 행을 출력합니다. 데이터의 구조를 파악하기 위해 사용합니다.\n",
    "gfp_df.head()"
   ]
  },
  {
   "cell_type": "code",
   "execution_count": null,
   "metadata": {},
   "outputs": [],
   "source": [
    "# 데이터의 각 컬럼의 정보를 출력합니다.\n",
    "gfp_df.info()"
   ]
  },
  {
   "cell_type": "code",
   "execution_count": null,
   "metadata": {},
   "outputs": [],
   "source": [
    "# 데이터프레임을 다루는 간단한 예쩨\n",
    "ISO3 = gfp_df['ISO3']\n",
    "country_and_code = gfp_df[['Country', 'ISO3']]\n",
    "gfp_df[0:3]\n",
    "gfp_df.loc[0:2]\n",
    "gfp_df.iloc[0:3]\n",
    "gfp_df[gfp_df['Active Personnel'] > 500000][['Country', 'ISO3', 'Active Personnel']]"
   ]
  },
  {
   "cell_type": "code",
   "execution_count": null,
   "metadata": {},
   "outputs": [],
   "source": [
    "# 결측치가 있는지 확인해 볼까요?\n",
    "gfp_df.isnull()"
   ]
  },
  {
   "cell_type": "code",
   "execution_count": null,
   "metadata": {},
   "outputs": [],
   "source": [
    "# 결측치가 있는 행만 출력하려면\n",
    "gfp_df[gfp_df.isnull().any(axis=1)]"
   ]
  },
  {
   "cell_type": "code",
   "execution_count": null,
   "metadata": {},
   "outputs": [],
   "source": [
    "# 결측치가 있는 컬럼을 확인하려면\n",
    "missing_in_columns = gfp_df.isnull().sum()\n",
    "print(missing_in_columns[missing_in_columns > 0])"
   ]
  },
  {
   "cell_type": "code",
   "execution_count": null,
   "metadata": {},
   "outputs": [],
   "source": [
    "# 함수로 만들어서 한 번 사용해 볼까요? (이후 셀에서 재사용 가능))\n",
    "def report_missing_data(df):\n",
    "    missing_in_columns = df.isnull().sum()\n",
    "    print(\"--- Columns with missing value ---\")\n",
    "    print(missing_in_columns[missing_in_columns > 0])\n",
    "\n",
    "    missing_in_rows = df[df.isnull().any(axis = 1)]\n",
    "    print(\"--- Rows with missing value ---\")\n",
    "    print(missing_in_rows)\n",
    "\n",
    "report_missing_data(gfp_df)"
   ]
  },
  {
   "cell_type": "code",
   "execution_count": null,
   "metadata": {},
   "outputs": [],
   "source": [
    "# 리마인드\n",
    "gfp_df.info()"
   ]
  },
  {
   "cell_type": "code",
   "execution_count": null,
   "metadata": {},
   "outputs": [],
   "source": [
    "# 숫자여야 하는데 숫자가 아닌 경우... (Total Population 컬럼에서...)\n",
    "checking_df = pd.DataFrame()\n",
    "checking_df['Total Population'] = pd.to_numeric(gfp_df['Total Population'], errors='coerce')\n",
    "invalid_rows = checking_df[checking_df['Total Population'].isnull()]\n",
    "print(invalid_rows)"
   ]
  },
  {
   "cell_type": "code",
   "execution_count": null,
   "metadata": {},
   "outputs": [],
   "source": [
    "# 숫자여야 하는데 숫자가 아닌 경우... (전체에서.)\n",
    "checking_df = pd.DataFrame()\n",
    "non_numeric_value_location = []\n",
    "for col in gfp_df.columns:\n",
    "    if col == 'Country' or col == 'ISO3':\n",
    "        continue\n",
    "    for idx, value in gfp_df[col].items():\n",
    "        if isinstance(value, (int, float)):\n",
    "            break\n",
    "        try:\n",
    "            int(value)\n",
    "            float(value)\n",
    "        except ValueError:\n",
    "            non_numeric_value_location.append((col, idx))\n",
    "\n",
    "print(len(non_numeric_value_location))\n",
    "print(non_numeric_value_location)"
   ]
  },
  {
   "cell_type": "code",
   "execution_count": null,
   "metadata": {},
   "outputs": [],
   "source": [
    "# 데이터를 살펴본 후... \n",
    "#       Costline (km)의 Landlocked\n",
    "#       Waterways (km)의 Minimum not met.\n",
    "#       이 녀석들을 뭘로 정제할 것인가의 이슈\n",
    "#       0 또는 NAN...\n",
    "#       NAN으로 바꾸기로 한다.\n",
    "\n",
    "gfp_df['Coastline (km)'] = pd.to_numeric(gfp_df['Coastline (km)'], errors='coerce')\n",
    "gfp_df['Waterways (km)'] = pd.to_numeric(gfp_df['Waterways (km)'], errors='coerce')\n",
    "\n",
    "print(gfp_df['Coastline (km)'])\n",
    "print(gfp_df['Waterways (km)'])\n",
    "\n"
   ]
  },
  {
   "cell_type": "code",
   "execution_count": null,
   "metadata": {},
   "outputs": [],
   "source": [
    "# 이제 남은거 두개. 두 개는 손으로 일일이 바꿔주는게 낫다.\n",
    "\n",
    "checking_df = pd.DataFrame()\n",
    "non_numeric_value_location = []\n",
    "for col in gfp_df.columns:\n",
    "    if col == 'Country' or col == 'ISO3':\n",
    "        continue\n",
    "    for idx, value in gfp_df[col].items():\n",
    "        if isinstance(value, (int, float)):\n",
    "            break\n",
    "        try:\n",
    "            int(value)\n",
    "            float(value)\n",
    "        except ValueError:\n",
    "            non_numeric_value_location.append((col, idx))\n",
    "\n",
    "for col, idx in non_numeric_value_location:\n",
    "    print(idx, col, gfp_df.loc[idx, col])"
   ]
  },
  {
   "cell_type": "code",
   "execution_count": null,
   "metadata": {},
   "outputs": [],
   "source": [
    "label = \"Total Population\"\n",
    "gfp_df.loc[14, label] = 8174527\n",
    "gfp_df.at[16, label] = 205823665\n",
    "\n",
    "for col, idx in non_numeric_value_location:\n",
    "    print(idx, col, gfp_df.loc[idx, col])"
   ]
  },
  {
   "cell_type": "code",
   "execution_count": null,
   "metadata": {},
   "outputs": [],
   "source": [
    "# 그 다음 결측치. 우리는 처음에 Non-Null Count에서 Active Personnel과 \n",
    "# Total Aircraft Strength 에 값이 하나씩 빠져 있는 것을 확인했다.\n",
    "\n",
    "# 결측치를 어떻게 할 것인가?\n",
    "# 일반적인 방법\n",
    "    # 그 데이터를 무시한다. 또는 해당 행과 열을 삭제한다.\n",
    "    # 특정한 값으로 대체한다.\n",
    "        # 평균값으로 대체 (mean)\n",
    "        # 중앙값으로 대체 (median)\n",
    "        # 최빈값으로 대체 (mode)\n",
    "    # 추정값으로 대체\n",
    "    # 보간법\n",
    "# 결측치 자체를 하나의 값으로 취급\n",
    "# 결측치를 예측 변수로 지정\n",
    "\n",
    "# 평균값으로 대체\n",
    "temp_df = gfp_df.copy()     # copy를 해야 함. 파이썬 객체니까. DF에서 copy 메서드 제공\n",
    "label = 'Active Personnel'\n",
    "idx = 43\n",
    "print(temp_df.loc[idx, label])\n",
    "temp_df.fillna({label: temp_df[label].mean()}, inplace=True)\n",
    "print(temp_df.loc[idx, label])\n"
   ]
  },
  {
   "cell_type": "code",
   "execution_count": null,
   "metadata": {},
   "outputs": [],
   "source": [
    "# 중앙값으로 대체\n",
    "temp_df = gfp_df.copy()     \n",
    "label = 'Active Personnel'\n",
    "idx = 43\n",
    "print(temp_df.loc[idx, label])\n",
    "temp_df.fillna({label: temp_df[label].median()}, inplace=True)\n",
    "print(temp_df.loc[idx, label])\n"
   ]
  },
  {
   "cell_type": "code",
   "execution_count": null,
   "metadata": {},
   "outputs": [],
   "source": [
    "# 중앙값으로 대체\n",
    "temp_df = gfp_df.copy()     \n",
    "label = 'Active Personnel'\n",
    "idx = 43\n",
    "print(temp_df.loc[idx, label])\n",
    "temp_df.fillna({label: temp_df[label].mode()[0]}, inplace=True)\n",
    "print(temp_df.loc[idx, label])\n"
   ]
  },
  {
   "cell_type": "code",
   "execution_count": null,
   "metadata": {},
   "outputs": [],
   "source": [
    "# 하지만, 최후의 방법은 직접 값을 확인하고 수정하는 것. 가능하다면 이게 가장 좋다.\n",
    "# 생략된 시리아의 Active Personnel의 값은 154000이다.\n",
    "print(gfp_df.loc[idx, label])\n",
    "gfp_df.loc[idx, label] = 154000\n",
    "print(gfp_df.loc[idx, label])\n"
   ]
  },
  {
   "cell_type": "code",
   "execution_count": null,
   "metadata": {},
   "outputs": [],
   "source": [
    "# Active Perssonnel / Total Population으로 AP Ratio라는 컬럼을 추가해보자.\n",
    "\n",
    "temp_df = gfp_df.copy()\n",
    "temp_df['Total Population'] = temp_df['Total Population'].astype('int64')\n",
    "\n",
    "\n",
    "temp_df['AP Ratio'] = temp_df['Active Personnel'] / temp_df['Total Population']\n",
    "temp_df.info()\n"
   ]
  },
  {
   "cell_type": "code",
   "execution_count": null,
   "metadata": {},
   "outputs": [],
   "source": [
    "temp_df['AP Ratio']"
   ]
  },
  {
   "cell_type": "code",
   "execution_count": null,
   "metadata": {},
   "outputs": [],
   "source": [
    "# 데이터 정렬\n",
    "pd.set_option('display.max_rows', None)  # Set the maximum number of rows to display as None\n",
    "temp_df = temp_df.sort_values(by='AP Ratio', ascending=False)\n",
    "temp_df[['Country', 'AP Ratio']]\n"
   ]
  },
  {
   "cell_type": "code",
   "execution_count": null,
   "metadata": {},
   "outputs": [],
   "source": [
    "# 1등부터 100등까지 줄을 세운 후\n",
    "# 25등의 비율, 75등의 비율을 기준으로 그 위, 그 아래가 비정상이라고 판단하면 어떨까?\n",
    "percentile_75, percentile_25 = temp_df['AP Ratio'].quantile(0.75), temp_df['AP Ratio'].quantile(0.25)\n",
    "print(percentile_75, percentile_25)\n",
    "temp_df[temp_df['AP Ratio'] > percentile_75]"
   ]
  },
  {
   "cell_type": "code",
   "execution_count": null,
   "metadata": {},
   "outputs": [],
   "source": [
    "temp_df[temp_df['AP Ratio'] < percentile_25]"
   ]
  },
  {
   "cell_type": "code",
   "execution_count": null,
   "metadata": {},
   "outputs": [],
   "source": [
    "# AP Ratio 컬럼을 기준으로, X 축에는 0에서 1까지의 값을 가지고\n",
    "# 각각의 나라의 점을 찍고 싶은데, 점 위에는 ISO3 레이블이 표시되도록 그림을 matplotlib으로 그릴 수 있을까?\n",
    "\n",
    "import matplotlib.pyplot as plt\n",
    "\n",
    "# Set the x-axis range from 0 to 1\n",
    "plt.xlim(0, 1)\n",
    "\n",
    "# Plot the data points\n",
    "plt.scatter(temp_df['AP Ratio'], temp_df['ISO3'])\n",
    "\n",
    "# Add labels to each point\n",
    "for i, iso3 in enumerate(temp_df['ISO3']):\n",
    "    plt.annotate(iso3, (temp_df['AP Ratio'].iloc[i], temp_df['ISO3'].iloc[i]), textcoords=\"offset points\", xytext=(0,10), ha='center')\n",
    "\n",
    "# plt.annotate는 각 점에 레이블을 붙이는 함수로 plt.text와 비슷하지만, 좀 더 세밀한 조정이 가능하다.\n",
    "    \n",
    "# Set the x-axis label\n",
    "plt.xlabel('AP Ratio')\n",
    "\n",
    "# Set the title\n",
    "plt.title('AP Ratio by Country')\n",
    "\n",
    "# Show the plot\n",
    "plt.show()\n",
    "\n",
    "# 존 튜키의 제안 - 75 퍼센타일 값의 1.5배를 넘거나, 25 퍼센타일 값의 1.5배 이하면 \n",
    "\n"
   ]
  },
  {
   "cell_type": "code",
   "execution_count": null,
   "metadata": {},
   "outputs": [],
   "source": [
    "upper_bound = temp_df['AP Ratio'].max()\n",
    "lower_bound = temp_df['AP Ratio'].min()\n",
    "\n",
    "\n",
    "# Set the x-axis range from 0 to 1\n",
    "plt.figure(figsize=(50, 6))\n",
    "\n",
    "plt.xlim(lower_bound, upper_bound)\n",
    "# Plot the data points\n",
    "plt.scatter(temp_df['AP Ratio'], temp_df['ISO3'])\n",
    "\n",
    "# Add labels to each point\n",
    "for i, iso3 in enumerate(temp_df['ISO3']):\n",
    "    plt.annotate(iso3, (temp_df['AP Ratio'].iloc[i], temp_df['ISO3'].iloc[i]), textcoords=\"offset points\", xytext=(0,10), ha='center')\n",
    "\n",
    "# Set the x-axis label\n",
    "plt.xlabel('AP Ratio')\n",
    "\n",
    "# Set the title\n",
    "plt.title('AP Ratio by Country')\n",
    "\n",
    "# Show the plot\n",
    "plt.show()\n",
    "\n",
    "# 존 튜키의 제안 - 75 퍼센타일 값의 1.5배를 넘거나, 25 퍼센타일 값의 1.5배 이하면 "
   ]
  },
  {
   "cell_type": "code",
   "execution_count": null,
   "metadata": {},
   "outputs": [],
   "source": [
    "# Set the x-axis range from 0 to 1\n",
    "plt.figure(figsize=(50, 6))\n",
    "\n",
    "plt.xlim(lower_bound, upper_bound)\n",
    "\n",
    "\n",
    "# percentile_75 초과 또는 percentile_25 미만은 빨간색, 나머지는 파란색으로 표시\n",
    "# Plot the data points with color based on AP Ratio values\n",
    "plt.scatter(temp_df['AP Ratio'], temp_df['ISO3'], c=['red' if x > percentile_75 or x < percentile_25 else 'blue' for x in temp_df['AP Ratio']], cmap='coolwarm')\n",
    "#plt.scatter(temp_df['AP Ratio'], temp_df['ISO3'], c=temp_df['AP Ratio'], cmap='coolwarm')\n",
    "\n",
    "# Add labels to each point\n",
    "for i, iso3 in enumerate(temp_df['ISO3']):\n",
    "    plt.annotate(iso3, (temp_df['AP Ratio'].iloc[i], temp_df['ISO3'].iloc[i]), textcoords=\"offset points\", xytext=(0,10), ha='center')\n",
    "\n",
    "# Set the x-axis label\n",
    "plt.xlabel('AP Ratio')\n",
    "\n",
    "# Set the title\n",
    "plt.title('AP Ratio by Country')\n",
    "\n",
    "# Show the colorbar\n",
    "plt.colorbar()\n",
    "\n",
    "# Show the plot\n",
    "plt.show()\n"
   ]
  },
  {
   "cell_type": "code",
   "execution_count": null,
   "metadata": {},
   "outputs": [],
   "source": [
    "# 너무 가혹하다. 낮은 국가들은 비슷비슷한데...\n",
    "IQR = percentile_75 - percentile_25\n",
    "upper_outlier = percentile_75 + (IQR * 1.5)\n",
    "lower_outlier = percentile_25 - (IQR * 1.5)\n",
    "\n",
    "print(upper_outlier, lower_outlier)\n",
    "# Set the x-axis range from 0 to 1\n",
    "plt.figure(figsize=(50, 6))\n",
    "\n",
    "plt.xlim(lower_bound, upper_bound)\n",
    "\n",
    "\n",
    "# percentile_75 초과 또는 percentile_25 미만은 빨간색, 나머지는 파란색으로 표시\n",
    "# Plot the data points with color based on AP Ratio values\n",
    "plt.scatter(temp_df['AP Ratio'], temp_df['ISO3'], c=['red' if x > upper_outlier or x < lower_outlier else 'blue' for x in temp_df['AP Ratio']], cmap='coolwarm')\n",
    "#plt.scatter(temp_df['AP Ratio'], temp_df['ISO3'], c=temp_df['AP Ratio'], cmap='coolwarm')\n",
    "\n",
    "# Add labels to each point\n",
    "for i, iso3 in enumerate(temp_df['ISO3']):\n",
    "    plt.annotate(iso3, (temp_df['AP Ratio'].iloc[i], temp_df['ISO3'].iloc[i]), textcoords=\"offset points\", xytext=(0,10), ha='center')\n",
    "\n",
    "# Set the x-axis label\n",
    "plt.xlabel('AP Ratio')\n",
    "\n",
    "# Set the title\n",
    "plt.title('AP Ratio by Country')\n",
    "\n",
    "# Show the colorbar\n",
    "plt.colorbar()\n",
    "\n",
    "# Show the plot\n",
    "plt.show()\n"
   ]
  },
  {
   "cell_type": "markdown",
   "metadata": {},
   "source": [
    "# IQR의 문제점\n"
   ]
  },
  {
   "cell_type": "code",
   "execution_count": null,
   "metadata": {},
   "outputs": [],
   "source": [
    "# Z 점수 : 어떤 데이터가 평균으로부터 얼마나 떨어져 있는지를 검사하는 통계적 지표\n",
    "# Z = (X - μ) / σ , X는 개별 데이터, μ는 평균, σ는 표준편차\n",
    "# Z 점수가 -1 ~ 1인 데이터 : 통계적으로 68%의 데이터가 이 범위에 속함\n",
    "# Z 점수가 -2 ~ 2인 데이터 : 통계적으로 95%의 데이터가 이 범위에 속함\n",
    "# Z 점수가 -3 ~ 3인 데이터 : 통계적으로 99.7%의 데이터가 이 범위에 속함\n",
    "\n",
    "# AP Ratio의 평균값 \n",
    "mean = temp_df['AP Ratio'].mean()\n",
    "# AP Ratio의 표준편차\n",
    "std = temp_df['AP Ratio'].std()\n",
    "\n",
    "# 다음 함수는 개별 데이터의 Z 점수를 반환함\n",
    "def z_score(x, mean, std):\n",
    "    return (x - mean) / std\n",
    "\n",
    "# Z 점수가 -2 미만, 2 초과인 데이터를 이상치로 판단하고 빨간색으로 표시해서 그래프를 그림\n",
    "plt.figure(figsize=(50, 6))\n",
    "plt.xlim(lower_bound, upper_bound)\n",
    "plt.scatter(temp_df['AP Ratio'], temp_df['ISO3'], c=['red' if abs(z_score(x, mean, std)) > 2 else 'blue' for x in temp_df['AP Ratio']], cmap='coolwarm')\n",
    "for i, iso3 in enumerate(temp_df['ISO3']):\n",
    "    plt.annotate(iso3, (temp_df['AP Ratio'].iloc[i], temp_df['ISO3'].iloc[i]), textcoords=\"offset points\", xytext=(0,10), ha='center')\n",
    "plt.xlabel('AP Ratio')\n",
    "plt.title('AP Ratio by Country')\n",
    "plt.show()\n"
   ]
  },
  {
   "cell_type": "markdown",
   "metadata": {},
   "source": [
    "- 인구대비 지나치게 병력이 많은 이상국가는 있지만, 인구대비 지나치게 병력이 작은 이상 국가는 찾을 수 없다.\n",
    "- 무엇이 문제일까?\n",
    "- 일단 이 데이터가 Z 분포로 조사가 가능한 데이터인지를 확인해보자. 정규분포 여부를 조사해보자.\n"
   ]
  },
  {
   "cell_type": "code",
   "execution_count": null,
   "metadata": {},
   "outputs": [],
   "source": [
    "# AP Ratio가 정규 분포를 따르는지를 확인\n",
    "import seaborn as sns\n",
    "sns.histplot(temp_df['AP Ratio'], kde=True)\n",
    "plt.show()\n"
   ]
  },
  {
   "cell_type": "markdown",
   "metadata": {},
   "source": [
    "- 일반적으로 말하는 정규분포와 거리가 있다.\n"
   ]
  },
  {
   "cell_type": "code",
   "execution_count": null,
   "metadata": {},
   "outputs": [],
   "source": [
    "# 만약 NKO를 제외하면 어떨까? NKO를 제외하고 정규분포를 따르는지 확인해보자.\n",
    "temp_df_without_nko = temp_df[temp_df['ISO3'] != 'NKO']\n",
    "sns.histplot(temp_df_without_nko['AP Ratio'], kde=True)\n",
    "plt.show()\n"
   ]
  },
  {
   "cell_type": "code",
   "execution_count": null,
   "metadata": {},
   "outputs": [],
   "source": [
    "import numpy as np\n",
    "# 역시 정규분포와 거리가 멀다. 이런 경우에는 로그 변환을 해보는 것도 방법이다.\n",
    "temp_df['AP Ratio LOG'] = temp_df['AP Ratio'].apply(lambda x: np.log(x))\n",
    "sns.histplot(temp_df['AP Ratio LOG'], kde=True)\n",
    "plt.show()\n"
   ]
  },
  {
   "cell_type": "code",
   "execution_count": null,
   "metadata": {},
   "outputs": [],
   "source": [
    "outlier_level = 2\n",
    "# 이제 이 LOG값을 기준으로 이상치를 찾아보자.\n",
    "mean = temp_df['AP Ratio LOG'].mean()\n",
    "std = temp_df['AP Ratio LOG'].std()\n",
    "temp_df['Z Score'] = temp_df['AP Ratio LOG'].apply(lambda x: z_score(x, mean, std))\n",
    "\n",
    "plt.figure(figsize=(50, 6))\n",
    "plt.xlim(temp_df['AP Ratio LOG'].min(), temp_df['AP Ratio LOG'].max())\n",
    "plt.scatter(temp_df['AP Ratio LOG'], temp_df['ISO3'], c=['red' if abs(x) > outlier_level else 'blue' for x in temp_df['Z Score']], cmap='coolwarm')\n",
    "\n",
    "# plt.scatter(temp_df['AP Ratio LOG'], temp_df['ISO3'], c=['red' if abs(z_score(x, mean, std)) > outlier_lever else 'blue' for x in temp_df['AP Ratio LOG']], cmap='coolwarm')\n",
    "for i, iso3 in enumerate(temp_df['ISO3']):\n",
    "    plt.annotate(iso3, (temp_df['AP Ratio LOG'].iloc[i], temp_df['ISO3'].iloc[i]), textcoords=\"offset points\", xytext=(0,10), ha='center')\n",
    "plt.xlabel('AP Ratio LOG')\n",
    "plt.title('AP Ratio by Country')\n",
    "plt.show()\n",
    "\n",
    "# 이상치에 해당하는 값의 Country, ISO3, AP_RATIO값과 Z 점수를 출력\n",
    "print(f\"평균: {mean}, 표준편차: {std}\")\n",
    "outliers = temp_df[np.abs(temp_df['Z Score']) > outlier_level]\n",
    "print(outliers[['Country', 'ISO3', 'AP Ratio', 'AP Ratio LOG', 'Z Score']].sort_values(by='AP Ratio LOG'))\n",
    "\n",
    "\n"
   ]
  },
  {
   "cell_type": "code",
   "execution_count": null,
   "metadata": {},
   "outputs": [],
   "source": [
    "# AP RATIO LOG가 정말 정규 분포를 따르는지 통계적으로 검증해보자.\n",
    "from scipy.stats import shapiro\n",
    "shapiro_test = shapiro(temp_df['AP Ratio LOG'])\n",
    "print(shapiro_test) "
   ]
  },
  {
   "cell_type": "markdown",
   "metadata": {},
   "source": [
    "- shaipro 함수는 두 개의 값을 반환한다. 첫 번째 값은 통계량, 두 번째 값은 p-value.\n",
    "- 통계량은 이 데이터가 얼마나 정규분포를 따르는지를 계산한 것이며\n",
    "- p-value는 통계량을 기준으로 귀무가설 검정을 위한 유의확률을 계산한 것이다.\n",
    "\n",
    "- 가설 검정에 대하여\n",
    "- 귀무가설 : AP Ratio LOG는 정규분포를 따른다.\n",
    "- 대립가설 : AP Ratio LOG는 정규분포를 따르지 않는다.\n",
    "- p-value < 0.05 : 귀무가설을 기각 (95% 유의수준)\n",
    "- p-value >= 0.05 : 대립가설을 기각\n",
    "- 테스트 결과는 p value가 0.2857 이므로 95% 신뢰수준에서 정규분포를 따른다고 볼 수 있다.\n"
   ]
  },
  {
   "cell_type": "code",
   "execution_count": null,
   "metadata": {},
   "outputs": [],
   "source": [
    "# 위의 분석을 NKO를 제외하고 다시 해 보자.\n",
    "temp_df_without_nko['AP Ratio LOG'] = temp_df_without_nko['AP Ratio'].apply(lambda x: np.log(x))\n",
    "sns.histplot(temp_df_without_nko['AP Ratio LOG'], kde=True)\n",
    "plt.show()\n"
   ]
  },
  {
   "cell_type": "code",
   "execution_count": null,
   "metadata": {},
   "outputs": [],
   "source": [
    "# 평균과 표준편차는 NKO를 제외하고 계산하지만, 이상치를 찾을 때는 NKO를 포함해서 찾는다.\n",
    "mean_without_nko = temp_df_without_nko['AP Ratio LOG'].mean()\n",
    "std_without_nko = temp_df_without_nko['AP Ratio LOG'].std()\n",
    "\n",
    "\n",
    "temp_df['Z Score WO NKO'] = temp_df['AP Ratio LOG'].apply(lambda x: z_score(x, mean_without_nko, std_without_nko))\n",
    "\n",
    "plt.figure(figsize=(50, 6))\n",
    "plt.xlim(temp_df['AP Ratio LOG'].min(), temp_df['AP Ratio LOG'].max())\n",
    "plt.scatter(temp_df['AP Ratio LOG'], temp_df['ISO3'], c=['red' if abs(x) > outlier_level else 'blue' for x in temp_df['Z Score WO NKO']], cmap='coolwarm')\n",
    "\n",
    "# plt.scatter(temp_df['AP Ratio LOG'], temp_df['ISO3'], c=['red' if abs(z_score(x, mean, std)) > outlier_lever else 'blue' for x in temp_df['AP Ratio LOG']], cmap='coolwarm')\n",
    "for i, iso3 in enumerate(temp_df['ISO3']):\n",
    "    plt.annotate(iso3, (temp_df['AP Ratio LOG'].iloc[i], temp_df['ISO3'].iloc[i]), textcoords=\"offset points\", xytext=(0,10), ha='center')\n",
    "plt.xlabel('AP Ratio LOG')\n",
    "plt.title('AP Ratio by Country')\n",
    "plt.show()\n",
    "\n",
    "# 이상치에 해당하는 값의 Country, ISO3, AP_RATIO값과 Z 점수를 출력\n",
    "print(f\"평균: {mean_without_nko}, 표준편차: {std_without_nko}\")\n",
    "outliers = temp_df[np.abs(temp_df['Z Score WO NKO']) > outlier_level]\n",
    "print(outliers[['Country', 'ISO3', 'AP Ratio', 'AP Ratio LOG', 'Z Score WO NKO']].sort_values(by='AP Ratio LOG'))\n",
    "\n",
    "\n"
   ]
  },
  {
   "cell_type": "markdown",
   "metadata": {},
   "source": [
    "- NKO라는 특이점을 배제하고 분석한 결과 TAN이 이상치에 포함되었다.\n",
    "- 제외하는 것이 옳은지의 판단은 데이터 과학자의 감이다. 이를 합리적으로 설명할 수 있어야 한다.\n"
   ]
  },
  {
   "cell_type": "markdown",
   "metadata": {},
   "source": [
    "# 상관관계 분석\n",
    "\n",
    "- 두 번째 분석. 해군력에 대해서 분석해보자.\n"
   ]
  },
  {
   "cell_type": "code",
   "execution_count": null,
   "metadata": {},
   "outputs": [],
   "source": [
    "# gfp_df에서 해군력과 관련된 컬럼만 추출해서 새로운 df를 만든다.\n",
    "# 추출할 컬럼은 다음과 같다.\n",
    "#   Country, ISO3, Rank, Total Naval Assets, Aircraft Carriers, Frigates, Destroyers, Corvettes, Submarines, Patrol Craft, Mine Warfare Vessels\n",
    "navy_df = gfp_df[['Country', 'ISO3', 'Rank', 'Total Naval Assets', 'Aircraft Carriers', 'Frigates', 'Destroyers', 'Corvettes', 'Submarines', 'Patrol Craft', 'Mine Warfare Vessels']]\n",
    "navy_df.info()"
   ]
  },
  {
   "cell_type": "code",
   "execution_count": null,
   "metadata": {},
   "outputs": [],
   "source": [
    "# navy_df의 각 변수의 상관관계를 구해보자.\n",
    "# 단 상관관계는 숫자가 아닌 데이터에서 구할 수 없으므로 Country, ISO3는 제외한다.\n",
    "navy_df_corr = navy_df.drop(['Country', 'ISO3'], axis=1).corr()\n",
    "navy_df_corr\n"
   ]
  },
  {
   "cell_type": "code",
   "execution_count": null,
   "metadata": {},
   "outputs": [],
   "source": [
    "# 상관관계를 시각화해보자.\n",
    "sns.heatmap(navy_df_corr, annot=True, cmap='coolwarm')\n",
    "plt.show()\n"
   ]
  },
  {
   "cell_type": "code",
   "execution_count": null,
   "metadata": {},
   "outputs": [],
   "source": [
    "# 모두 양의 상관관계를 가지고 있고, 어떤 컬럼은 매우 높은, 어떤 컬럼은 매우 낮은 상관관계를 보인다.\n",
    "# 그렇다면 total navel assets을 RANK, ISO3, Country를 제외한 나머지 컬럼으로 예측할 수 있을까?\n",
    "# statsmodels 라이브러리를 사용해서 회귀분석을 해보자.\n",
    "import statsmodels.api as sm\n",
    "dependent_variable = 'Total Naval Assets'\n",
    "columns = ['Aircraft Carriers', 'Frigates', 'Destroyers', 'Corvettes', 'Submarines', 'Patrol Craft', 'Mine Warfare Vessels']\n",
    "X = navy_df[columns]\n",
    "X = sm.add_constant(X)\n",
    "y = navy_df[dependent_variable]\n",
    "\n",
    "model = sm.OLS(y, X).fit()\n",
    "model.summary()"
   ]
  },
  {
   "cell_type": "code",
   "execution_count": null,
   "metadata": {},
   "outputs": [],
   "source": [
    "# R-squared 값이 0.905인데, 이는 90.5%의 설명력을 가진다는 것을 의미한다.\n",
    "# 이 모델은 설명력이 매우 높다고 볼 수 있다.\n",
    "\n",
    "# 이제 이 모델을 사용해서 모든 국가의 Total Naval Assets을 예측해보자.\n",
    "# 예측값과 실제값을 비교해보자.\n",
    "navy_df['Predicted Total Naval Assets'] = model.predict(X)\n",
    "navy_df[['Country', 'Total Naval Assets', 'Predicted Total Naval Assets']]\n",
    "navy_df['Difference'] = navy_df['Total Naval Assets'] - navy_df['Predicted Total Naval Assets']\n",
    "navy_df[['Country', 'Total Naval Assets', 'Predicted Total Naval Assets', 'Difference']]\n",
    "for c, t, p, d in navy_df[['Country', 'Total Naval Assets', 'Predicted Total Naval Assets', 'Difference']].values:\n",
    "    print(f\"{c} - {t} - {p} - {d}\")\n",
    "print(navy_df[['Country', 'Total Naval Assets', 'Predicted Total Naval Assets', 'Difference']])\n",
    "\n"
   ]
  },
  {
   "cell_type": "code",
   "execution_count": null,
   "metadata": {},
   "outputs": [],
   "source": [
    "# 잘 모르겠으니 각 국가별로 차이를 그래프로 그려보자.\n",
    "plt.figure(figsize=(50, 6))\n",
    "plt.bar(navy_df['Country'], navy_df['Difference'])\n",
    "plt.xticks(rotation=90)\n",
    "plt.show()\n"
   ]
  },
  {
   "cell_type": "markdown",
   "metadata": {},
   "source": [
    "- 단순한 회귀 분석으로 분석 결과를 얻을 수 없다는 것은 자명하다.\n",
    "- 분석 측에서는 공개하지 않은 추가적인 고려 사항이 있다.\n"
   ]
  }
 ],
 "metadata": {
  "kernelspec": {
   "display_name": ".venv",
   "language": "python",
   "name": "python3"
  },
  "language_info": {
   "codemirror_mode": {
    "name": "ipython",
    "version": 3
   },
   "file_extension": ".py",
   "mimetype": "text/x-python",
   "name": "python",
   "nbconvert_exporter": "python",
   "pygments_lexer": "ipython3",
   "version": "3.12.5"
  }
 },
 "nbformat": 4,
 "nbformat_minor": 2
}
