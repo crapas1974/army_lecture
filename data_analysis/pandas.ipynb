{
 "cells": [
  {
   "cell_type": "code",
   "execution_count": 1,
   "metadata": {},
   "outputs": [],
   "source": [
    "# 판다스 사용 선언\n",
    "import pandas as pd"
   ]
  },
  {
   "cell_type": "code",
   "execution_count": null,
   "metadata": {},
   "outputs": [],
   "source": [
    "# 빈 데이터 프레임 생성\n",
    "empty_df = pd.DataFrame()\n",
    "print(empty_df)"
   ]
  },
  {
   "cell_type": "code",
   "execution_count": null,
   "metadata": {},
   "outputs": [],
   "source": [
    "# GlobalFirePower.csv 파일에서 읽어와 데이터 프레임 생성\n",
    "\n",
    "df = pd.read_csv('GlobalFirePower.csv')\n",
    "# 데이터 프레임 요약 정보\n",
    "print(df.info())"
   ]
  },
  {
   "cell_type": "code",
   "execution_count": 4,
   "metadata": {},
   "outputs": [],
   "source": [
    "# Excel 파일에서 읽어와 데이터 프레임 생성\n",
    "# df = pd.read_excel('GlobalFirePower.xlsx')"
   ]
  },
  {
   "cell_type": "code",
   "execution_count": null,
   "metadata": {},
   "outputs": [],
   "source": [
    "# 데이터 프레임 출력\n",
    "print(df)"
   ]
  },
  {
   "cell_type": "code",
   "execution_count": null,
   "metadata": {},
   "outputs": [],
   "source": [
    "# 주피터 노트북에서 데이터 프레임을 예쁘게 출력하는 방법\n",
    "display(df)"
   ]
  },
  {
   "cell_type": "code",
   "execution_count": null,
   "metadata": {},
   "outputs": [],
   "source": [
    "# 모든 행과 열을 다 출력하려면\n",
    "pd.set_option('display.max_rows', None)\n",
    "pd.set_option('display.max_columns', None)\n",
    "display(df)"
   ]
  },
  {
   "cell_type": "code",
   "execution_count": 8,
   "metadata": {},
   "outputs": [],
   "source": [
    "# 데이터 프레임을 csv 파일로 저장\n",
    "df.to_csv('GlobalFirePowerCopy.csv', index=False)   # 인덱스(고윳값) 저장하지 않음"
   ]
  },
  {
   "cell_type": "code",
   "execution_count": null,
   "metadata": {},
   "outputs": [],
   "source": [
    "# 데이터 프레임의 처음 몇 행을 출력해 데이터 구조를 미리 확인 (기본 값 5)\\\n",
    "df.head()"
   ]
  },
  {
   "cell_type": "code",
   "execution_count": null,
   "metadata": {},
   "outputs": [],
   "source": [
    "# 데이터 프레임의 기초 통계정보\n",
    "df.describe()   # 단 수치형 데이터 컬럼만 출력"
   ]
  },
  {
   "cell_type": "code",
   "execution_count": null,
   "metadata": {},
   "outputs": [],
   "source": [
    "# 데이터 프레임의 형태\n",
    "print(df.shape)   # (행, 열)"
   ]
  },
  {
   "cell_type": "code",
   "execution_count": null,
   "metadata": {},
   "outputs": [],
   "source": [
    "# 데이터 프레임의 컬럼 이름의 목록\n",
    "print(df.columns)"
   ]
  },
  {
   "cell_type": "code",
   "execution_count": null,
   "metadata": {},
   "outputs": [],
   "source": [
    "# 결측치 확인 법\n",
    "df.isnull()"
   ]
  },
  {
   "cell_type": "code",
   "execution_count": null,
   "metadata": {},
   "outputs": [],
   "source": [
    "# 결측치 개수 확인\n",
    "print(df.isnull().sum())"
   ]
  },
  {
   "cell_type": "code",
   "execution_count": null,
   "metadata": {},
   "outputs": [],
   "source": [
    "# 결측치 있는 행을 완전히 삭제하고 싶다면?\n",
    "# df를 복사\n",
    "df_copy = df.copy()\n",
    "# 결측치 있는 행 삭제\n",
    "df_copy = df_copy.dropna()\n",
    "df_copy.shape"
   ]
  },
  {
   "cell_type": "code",
   "execution_count": null,
   "metadata": {},
   "outputs": [],
   "source": [
    "# 결측치가 있는 열을 완전히 삭제하고 싶다면?\n",
    "df_copy = df.copy()\n",
    "df_copy = df_copy.dropna(axis=1)\n",
    "# axis = 1은 열을 의미\n",
    "# axis = 0은 행을 의미 (기본 값)\n",
    "df_copy.shape"
   ]
  },
  {
   "cell_type": "code",
   "execution_count": null,
   "metadata": {},
   "outputs": [],
   "source": [
    "# 특정 행을 선택\n",
    "df.iloc[0]   # 첫 번째 행 선택\n",
    "df.iloc[0:5]   # 0번째부터 4번째 행 선택"
   ]
  },
  {
   "cell_type": "code",
   "execution_count": null,
   "metadata": {},
   "outputs": [],
   "source": [
    "# 특정 컬럼을 이름으로 선택\n",
    "df['Country']   # Country 컬럼 선택"
   ]
  },
  {
   "cell_type": "code",
   "execution_count": null,
   "metadata": {},
   "outputs": [],
   "source": [
    "# 특정 컬럼의 특정 행을 선택\n",
    "df['Country'][0]   # Country 컬럼의 0번째 행 선택\n",
    "df.iloc[0]['Country']   # 0번째 행의 Country 컬럼 선택\n",
    "df.iloc[0, 1]\n",
    "df.at[0, 'Country']\n",
    "# loc -> 컬럼 이름으로 선택\n",
    "# iloc -> 인덱스로 선택\n",
    "# at -> 빠르게 선택 (유연하지 못함)"
   ]
  },
  {
   "cell_type": "code",
   "execution_count": null,
   "metadata": {},
   "outputs": [],
   "source": [
    "# 특정 컬럼을 인덱스로 선택\n",
    "df.iloc[:, 0]   # 0번째 열 선택"
   ]
  },
  {
   "cell_type": "code",
   "execution_count": null,
   "metadata": {},
   "outputs": [],
   "source": [
    "# 특정 셀의 값을 바꾸려면?\n",
    "df.iloc[0, 0] = 'America'\n",
    "df"
   ]
  },
  {
   "cell_type": "code",
   "execution_count": null,
   "metadata": {},
   "outputs": [],
   "source": [
    "df.loc[0, 'Country'] = 'United States'\n",
    "df"
   ]
  },
  {
   "cell_type": "code",
   "execution_count": null,
   "metadata": {},
   "outputs": [],
   "source": [
    "# 데이터를 특정 컬럼 기준으로 정렬\n",
    "df_copy = df.copy()\n",
    "df_copy = df_copy.sort_values(by='Country', ascending=True)\n",
    "df_copy"
   ]
  },
  {
   "cell_type": "code",
   "execution_count": null,
   "metadata": {},
   "outputs": [],
   "source": [
    "# 데이터를 특정 열 기준으로 그룹화\n",
    "sale_result = {'제품': ['A', 'B', 'A', 'B', 'C', 'A'],\n",
    "               '판매량': [100, 200, 150, 220, 180, 130],\n",
    "               '가격': [10, 20, 10, 20, 15, 10]}\n",
    "sales_df = pd.DataFrame(sale_result)  # 딕셔너리로부터 데이터 프레임 생성\n",
    "sales_df\n"
   ]
  },
  {
   "cell_type": "code",
   "execution_count": null,
   "metadata": {},
   "outputs": [],
   "source": [
    "sales_df.groupby('제품').sum()"
   ]
  },
  {
   "cell_type": "code",
   "execution_count": null,
   "metadata": {},
   "outputs": [],
   "source": [
    "sales_df.groupby('제품')['판매량'].sum()"
   ]
  },
  {
   "cell_type": "code",
   "execution_count": null,
   "metadata": {},
   "outputs": [],
   "source": [
    "sales_df.groupby('제품')[['판매량']].sum()"
   ]
  },
  {
   "cell_type": "code",
   "execution_count": null,
   "metadata": {},
   "outputs": [],
   "source": [
    "sales_df.groupby('제품')[['판매량', '가격']].mean()\n"
   ]
  },
  {
   "cell_type": "code",
   "execution_count": null,
   "metadata": {},
   "outputs": [],
   "source": [
    "# 데이터 프레임에 함수를 적용해보기\n",
    "df['Country'].apply(len)   # Country 컬럼의 각 행에 대해 문자열 길이를 반환\n"
   ]
  },
  {
   "cell_type": "code",
   "execution_count": null,
   "metadata": {},
   "outputs": [],
   "source": [
    "df['Country'].apply(lambda x: x.upper())\n",
    "# lambda - 파이썬 익명 함수\n",
    "# 일회용으로 사용할 함수를 만들 때 축약해서 사용\n",
    "# x는 입력값, x.upper()는 x의 대문자 변환\n",
    "# 다음 코드와 동일한 의미\n",
    "# def upper(x):\n",
    "#     return x.upper()\n",
    "# df['Country'].apply(upper)\n"
   ]
  },
  {
   "cell_type": "code",
   "execution_count": null,
   "metadata": {},
   "outputs": [],
   "source": [
    "# 데이터 프레임을 병합\n",
    "df1 = pd.DataFrame({'A': ['A0', 'A1', 'A2'],\n",
    "                    'B': ['B0', 'B1', 'B2'],\n",
    "                    'C': ['C0', 'C1', 'C2']},\n",
    "                   index=[0, 1, 2])\n",
    "df2 = pd.DataFrame({'A': ['A3', 'A4', 'A5'],\n",
    "                    'B': ['B3', 'B4', 'B5'],\n",
    "                    'C': ['C3', 'C4', 'C5']},\n",
    "                     index=[3, 4, 5])\n",
    "df3 = pd.DataFrame({'A': ['A6', 'A7', 'A8'],\n",
    "                    'B': ['B6', 'B7', 'B8'],\n",
    "                    'C': ['C6', 'C7', 'C8']},\n",
    "                   index=[6, 7, 8])\n",
    "print(df1)\n",
    "print(df2)\n",
    "print(df3)\n",
    "result = pd.concat([df1, df2, df3])\n",
    "result"
   ]
  },
  {
   "cell_type": "code",
   "execution_count": null,
   "metadata": {},
   "outputs": [],
   "source": [
    "# 데이터 프레임을 특정 컬럼 기준으로 병합\n",
    "left = pd.DataFrame({'key': ['K0', 'K1', 'K2', 'K3'],\n",
    "                     'A': ['A0', 'A1', 'A2', 'A3'],\n",
    "                     'B': ['B0', 'B1', 'B2', 'B3']})\n",
    "right = pd.DataFrame({'key': ['K0', 'K1', 'K2', 'K3'],\n",
    "                      'C': ['C0', 'C1', 'C2', 'C3'],\n",
    "                      'D': ['D0', 'D1', 'D2', 'D3']})\n",
    "print(left)\n",
    "print(right)\n",
    "result = pd.merge(left, right, on='key')\n",
    "result\n"
   ]
  },
  {
   "cell_type": "code",
   "execution_count": null,
   "metadata": {},
   "outputs": [],
   "source": [
    "# 아주 간단한 데이터프레임 시각화\n",
    "# 각 데이터에 ISO3 컬럼값 표시\n",
    "import matplotlib\n",
    "df['Active Personnel'].plot(kind='hist', bins=50, figsize=(12, 6), color='blue', edgecolor='black')\n"
   ]
  },
  {
   "cell_type": "code",
   "execution_count": null,
   "metadata": {},
   "outputs": [],
   "source": [
    "# 결측치 채우기 (NAN 값을 대체)\n",
    "df_copy = df.copy()\n",
    "df_copy.fillna(value=0, inplace=True)   # 0으로 결측치 대체\n",
    "df_copy.fillna(value='No Value', inplace=True)   # 'No Value'로 결측치 대체\n",
    "df_copy.fillna(value=df_copy.mean(), inplace=True)   # 평균값으로 결측치 대체\n",
    "df_copy.fillna(value=df_copy.median(), inplace=True)   # 중앙값으로 결측치 대체\n",
    "df_copy.fillna(value=df_copy.mode(), inplace=True)   # 최빈값으로 결측치 대체\n",
    "df_copy.fillna(method='ffill', inplace=True)    # 앞의 값을 사용\n",
    "df_copy.fillna(method='bfill', inplace=True)    # 뒤의 값을 사용"
   ]
  },
  {
   "cell_type": "code",
   "execution_count": null,
   "metadata": {},
   "outputs": [],
   "source": [
    "# 데이터 타입 변환\n",
    "df_copy = df.copy()\n",
    "df_copy['Active Personnel'] = df_copy['Active Personnel'].astype('float64') "
   ]
  },
  {
   "cell_type": "code",
   "execution_count": null,
   "metadata": {},
   "outputs": [],
   "source": [
    "# 행 삭제\n",
    "df_copy = df.copy()\n",
    "df_copy.drop(0, inplace=True)   # 0번째 행 삭제\n",
    "# 열 삭제\n",
    "df_copy.drop('Active Personnel', axis=1, inplace=True)   # 'Active Personnel' 열\n",
    "# inplace = True의 의미는 원본 데이터프레임을 변경하겠다는 의미\n",
    "# False인 경우 변경된 데이터프레임을 반환"
   ]
  },
  {
   "cell_type": "code",
   "execution_count": null,
   "metadata": {},
   "outputs": [],
   "source": [
    "# 피벗 테이블이란 데이터를 특정 기준에 따라 요약해서 보기 쉽게 재구성한 테이블\n",
    "# 예시 데이터 프레임 생성\n",
    "data = {\n",
    "    'Date': ['2021-01-01', '2021-01-01', '2021-01-02', '2021-01-02', '2021-01-03', '2021-01-03'],\n",
    "    'City': ['Seoul', 'Busan', 'Seoul', 'Busan', 'Seoul', 'Busan'],\n",
    "    'Temperature': [5, 7, 6, 8, 7, 9],\n",
    "    'Humidity': [55, 60, 58, 65, 60, 70]\n",
    "}\n",
    "df_pivot = pd.DataFrame(data)\n",
    "print(df_pivot)\n",
    "# 피벗 테이블 생성\n",
    "# values : 요약하고자 하는 데이터\n",
    "# index : 행 인덱스로 사용할 데이터\n",
    "# columns : 열 인덱스로 사용할 데이터\n",
    "# aggfunc : 요약 시 사용할 함수 (기본값은 평균, mean)\n",
    "#   sum, count, min, max, median, std, var, first, last\n",
    "\n",
    "pivot_table = df_pivot.pivot_table(values='Temperature', index='Date', columns='City', aggfunc='mean')\n",
    "print(pivot_table)"
   ]
  },
  {
   "cell_type": "code",
   "execution_count": null,
   "metadata": {},
   "outputs": [],
   "source": [
    "# 중복 확인 및 제거\n",
    "data_with_duplicates = {\n",
    "    'Name': ['Alice', 'Bob', 'Charlie', 'Alice', 'Bob'],\n",
    "    'Age': [25, 30, 35, 25, 30],\n",
    "    'Gender': ['F', 'M', 'M', 'F', 'M']\n",
    "}\n",
    "df_with_duplicates = pd.DataFrame(data_with_duplicates)\n",
    "print(\"중복 제거 전:\")\n",
    "print(df_with_duplicates)\n",
    "print()\n",
    "# 중복 확인\n",
    "print(df_with_duplicates.duplicated())\n",
    "print()\n",
    "# 중복 제거\n",
    "df_without_duplicates = df_with_duplicates.drop_duplicates()\n",
    "print(\"중복 제거 후:\")\n",
    "print(df_without_duplicates)"
   ]
  },
  {
   "cell_type": "code",
   "execution_count": null,
   "metadata": {},
   "outputs": [],
   "source": [
    "# 교차표 작성 - 범주형 데이터 간의 관계 요약\n",
    "data_crosstab = {\n",
    "    'Name': ['Alice', 'Bob', 'Charlie', 'Alice', 'Bob', 'Charlie'],\n",
    "    'Subject': ['Math', 'Math', 'Math', 'Science', 'Science', 'Science'],\n",
    "    'Score': [85, 90, 95, 80, 85, 90]\n",
    "}\n",
    "df_crosstab = pd.DataFrame(data_crosstab)\n",
    "print(df_crosstab)\n",
    "print()\n",
    "# 교차표 작성\n",
    "crosstab_result = pd.crosstab(df_crosstab['Name'], df_crosstab['Subject'], values=df_crosstab['Score'], aggfunc='mean')\n",
    "print(crosstab_result)"
   ]
  }
 ],
 "metadata": {
  "kernelspec": {
   "display_name": "p_study",
   "language": "python",
   "name": "python3"
  },
  "language_info": {
   "codemirror_mode": {
    "name": "ipython",
    "version": 3
   },
   "file_extension": ".py",
   "mimetype": "text/x-python",
   "name": "python",
   "nbconvert_exporter": "python",
   "pygments_lexer": "ipython3",
   "version": "3.12.5"
  }
 },
 "nbformat": 4,
 "nbformat_minor": 2
}
