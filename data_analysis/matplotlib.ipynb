{
 "cells": [
  {
   "cell_type": "code",
   "execution_count": null,
   "metadata": {},
   "outputs": [],
   "source": [
    "# matplotlib 사용 선언\n",
    "import matplotlib.pyplot as plt\n"
   ]
  },
  {
   "cell_type": "code",
   "execution_count": null,
   "metadata": {},
   "outputs": [],
   "source": [
    "# 선 그래프\n",
    "from random import randint\n",
    "y = [randint(0, 10) for _ in range(5)]\n",
    "x = [1, 2, 3, 4, 5]\n",
    "\n",
    "plt.plot(x, y)\n",
    "plt.title('Line Graph')\n",
    "plt.xlabel('X Axis')\n",
    "plt.ylabel('Y Axis')\n",
    "plt.show()\n"
   ]
  },
  {
   "cell_type": "code",
   "execution_count": null,
   "metadata": {},
   "outputs": [],
   "source": [
    "# 막대 그래프\n",
    "categories = ['A', 'B', 'C']\n",
    "values = [10, 20, 15]\n",
    "\n",
    "plt.bar(categories, values)\n",
    "plt.title('Bar Plot Example')\n",
    "plt.show()\n"
   ]
  },
  {
   "cell_type": "code",
   "execution_count": null,
   "metadata": {},
   "outputs": [],
   "source": [
    "# 히스토그램\n",
    "data = [1, 2, 2, 3, 3, 3, 4, 4, 4, 4, 5, 5, 5, 5, 5]\n",
    "\n",
    "plt.hist(data, bins=5)\n",
    "plt.title('Histogram Example')\n",
    "plt.show()\n"
   ]
  },
  {
   "cell_type": "code",
   "execution_count": null,
   "metadata": {},
   "outputs": [],
   "source": [
    "# 산포도\n",
    "x = [randint(0, 1000) for _ in range(1000)]\n",
    "y = [randint(0, 1000) for _ in range(1000)]\n",
    "\n",
    "plt.scatter(x, y)\n",
    "plt.title('Scatter Plot Example')\n",
    "plt.show()\n"
   ]
  },
  {
   "cell_type": "code",
   "execution_count": null,
   "metadata": {},
   "outputs": [],
   "source": [
    "# 파이차트\n",
    "sizes = [30, 40, 20, 10]\n",
    "labels = ['A', 'B', 'C', 'D']\n",
    "\n",
    "plt.pie(sizes, labels=labels, autopct='%1.1f%%')\n",
    "plt.title('Pie Chart Example')\n",
    "plt.show()\n"
   ]
  },
  {
   "cell_type": "code",
   "execution_count": null,
   "metadata": {},
   "outputs": [],
   "source": [
    "# 박스플롯\n",
    "data = [1, 2, 2, 3, 3, 3, 4, 4, 4, 5, 5, 5, 6, 7, 8]\n",
    "\n",
    "plt.boxplot(data)\n",
    "plt.title('Box Plot Example')\n",
    "plt.show()\n"
   ]
  },
  {
   "cell_type": "code",
   "execution_count": null,
   "metadata": {},
   "outputs": [],
   "source": [
    "# 히트맵\n",
    "import numpy as np\n",
    "\n",
    "data = np.random.rand(10, 10)\n",
    "\n",
    "plt.imshow(data, cmap='hot', interpolation='nearest')\n",
    "plt.colorbar()\n",
    "plt.title('Heatmap Example')\n",
    "plt.show()\n"
   ]
  },
  {
   "cell_type": "code",
   "execution_count": null,
   "metadata": {},
   "outputs": [],
   "source": [
    "# 컨투어 플롯(등고선 그래프)\n",
    "import numpy as np\n",
    "\n",
    "x = np.linspace(-5, 5, 50)\n",
    "y = np.linspace(-5, 5, 50)\n",
    "X, Y = np.meshgrid(x, y)\n",
    "Z = np.sin(np.sqrt(X**2 + Y**2))\n",
    "\n",
    "plt.contour(X, Y, Z)\n",
    "plt.title('Contour Plot Example')\n",
    "plt.show()\n"
   ]
  },
  {
   "cell_type": "code",
   "execution_count": null,
   "metadata": {},
   "outputs": [],
   "source": [
    "# 밀도 그래프\n",
    "import seaborn as sns\n",
    "import numpy as np\n",
    "\n",
    "data = np.random.randn(1000)\n",
    "sns.kdeplot(data)\n",
    "plt.title('Density Plot Example')\n",
    "plt.show()\n"
   ]
  },
  {
   "cell_type": "code",
   "execution_count": null,
   "metadata": {},
   "outputs": [],
   "source": [
    "# 3D 그래프\n",
    "from mpl_toolkits.mplot3d import Axes3D\n",
    "import numpy as np\n",
    "\n",
    "fig = plt.figure()\n",
    "ax = fig.add_subplot(111, projection='3d')\n",
    "\n",
    "x = np.linspace(-5, 5, 100)\n",
    "y = np.linspace(-5, 5, 100)\n",
    "X, Y = np.meshgrid(x, y)\n",
    "Z = np.sin(np.sqrt(X**2 + Y**2))\n",
    "\n",
    "ax.plot_surface(X, Y, Z, cmap='viridis')\n",
    "plt.title('3D Plot Example')\n",
    "plt.show()\n"
   ]
  },
  {
   "cell_type": "code",
   "execution_count": null,
   "metadata": {},
   "outputs": [],
   "source": [
    "# 레이더 차트\n",
    "import numpy as np\n",
    "labels = np.array(['A', 'B', 'C', 'D', 'E'])\n",
    "values = np.array([4, 3, 2, 5, 4])\n",
    "angles = np.linspace(0, 2 * np.pi, len(labels), endpoint=False).tolist()\n",
    "values = np.concatenate((values,[values[0]]))\n",
    "angles += angles[:1]\n",
    "\n",
    "fig, ax = plt.subplots(figsize=(6, 6), subplot_kw=dict(polar=True))\n",
    "ax.fill(angles, values, color='blue', alpha=0.25)\n",
    "ax.plot(angles, values, color='blue', linewidth=2)\n",
    "ax.set_yticklabels([])\n",
    "ax.set_xticks(angles[:-1])\n",
    "ax.set_xticklabels(labels)\n",
    "plt.title('Radar Chart Example')\n",
    "plt.show()\n"
   ]
  },
  {
   "cell_type": "code",
   "execution_count": null,
   "metadata": {},
   "outputs": [],
   "source": [
    "# 스택 막대 그래프\n",
    "categories = ['A', 'B', 'C']\n",
    "values1 = [10, 20, 15]\n",
    "values2 = [5, 10, 7]\n",
    "\n",
    "plt.bar(categories, values1, label='Group 1')\n",
    "plt.bar(categories, values2, bottom=values1, label='Group 2')\n",
    "plt.title('Stacked Bar Plot Example')\n",
    "plt.legend()\n",
    "plt.show()\n"
   ]
  },
  {
   "cell_type": "code",
   "execution_count": null,
   "metadata": {},
   "outputs": [],
   "source": [
    "# matplotlib의 사용법\n",
    "# 먼저 matplotlib.pyplot을 plt로 import합니다.\n",
    "\n",
    "import matplotlib.pyplot as plt\n",
    "\n",
    "x = [i for i in range(1000, 2000)]\n",
    "initial_y = randint(0, 1000)\n",
    "y = [initial_y]\n",
    "for i in range(999):\n",
    "    y.append(y[i] + randint(-10, 10))\n",
    "# X축의 범위를 설정\n",
    "plt.xlim(min(x), max(x))\n",
    "\n",
    "# Y축의 범위를 설정\n",
    "plt.ylim(min(y), max(y))\n",
    "\n",
    "# X축과 Y축에 레이블을 설정\n",
    "plt.xlabel('X Axis')\n",
    "plt.ylabel('Y Axis')\n",
    "\n",
    "# 그래프의 제목을 설정\n",
    "plt.title('Random Graph (Scatter, Sample)')\n",
    "\n",
    "# 그래프를 그림\n",
    "# 점 색깔은 파란색\n",
    "# 점의 모양은 x\n",
    "# 점의 크기는 10\n",
    "plt.scatter(x, y, color='b', marker='x', s=10)\n",
    "\n",
    "# 각각의 점에 레이블을 붙인다면?\n",
    "# for i in range(1000):\n",
    "#     plt.text(x[i], y[i], f'{x[i]}, {y[i]}')\n",
    "\n",
    "# 그래프를 화면에 표시\n",
    "plt.show()"
   ]
  }
 ],
 "metadata": {
  "kernelspec": {
   "display_name": "p_study",
   "language": "python",
   "name": "python3"
  },
  "language_info": {
   "codemirror_mode": {
    "name": "ipython",
    "version": 3
   },
   "file_extension": ".py",
   "mimetype": "text/x-python",
   "name": "python",
   "nbconvert_exporter": "python",
   "pygments_lexer": "ipython3",
   "version": "3.12.6"
  }
 },
 "nbformat": 4,
 "nbformat_minor": 2
}
