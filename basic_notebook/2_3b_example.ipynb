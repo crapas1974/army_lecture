{
 "cells": [
  {
   "cell_type": "markdown",
   "metadata": {},
   "source": [
    "# 2. 파이썬의 변수, 연산, 자료형\n",
    "<hr>\n",
    "\n",
    "## 2.3 기본 콜렉션 자료형 (계속)\n",
    "* 리스트 이외의 콜렉션으로 만드는 루프 및 컴프리헨션에 관한 내용입니다.\n",
    "* 가급적 함수, 제어 컨트롤을 학습하고 난 후에 이어서 실습 하셨으면 합니다."
   ]
  },
  {
   "cell_type": "code",
   "execution_count": 21,
   "metadata": {},
   "outputs": [
    {
     "name": "stdout",
     "output_type": "stream",
     "text": [
      "4 {0, 1, 2, 3}\n",
      "4 [0, 1, 2, 3]\n",
      "4 (0, 1, 2, 3)\n"
     ]
    }
   ],
   "source": [
    "# code 2-62\n",
    "# 리스트와 마찬가지로 튜플 및 세트로 루프를 만들 수 있습니다.\n",
    "# 단 공식적으로 세트는 순서가 없이 때문에 세트로 만드는 루프의 순서는 보장되지 않습니다.\n",
    "old_tuple = (-3, -2, -1, 0, 1, 2, 3)\n",
    "new_set = set()\n",
    "for i in old_tuple:\n",
    "    if i < 0:\n",
    "        new_set.add(-i)\n",
    "    else:\n",
    "        new_set.add(i)\n",
    "print(len(new_set), new_set)\n",
    "\n",
    "new_list = []\n",
    "for i in new_set:\n",
    "    new_list.append(i)\n",
    "\n",
    "print(len(new_list), new_list)\n",
    "new_tuple = tuple(new_list)\n",
    "print(len(new_tuple), new_tuple)"
   ]
  },
  {
   "cell_type": "code",
   "execution_count": 24,
   "metadata": {},
   "outputs": [
    {
     "name": "stdout",
     "output_type": "stream",
     "text": [
      "1\n",
      "2\n",
      "3\n",
      "4\n",
      "5\n"
     ]
    }
   ],
   "source": [
    "# code 2-63\n",
    "# 세트로 루프를 만들 때 순서가 보장되지 않는다는 것을 확인해보겠습니다.\n",
    "old_set = {3, 2, 1, 4, 5}\n",
    "for i in old_set:\n",
    "    print(i)"
   ]
  },
  {
   "cell_type": "code",
   "execution_count": null,
   "metadata": {},
   "outputs": [],
   "source": [
    "# code 2-64\n",
    "# 딕셔너리로 루프를 만들 수 있습니다.\n",
    "# 키의 값을 사용한 루프를 만들 때는 .keys() 메서드를 사용합니다.\n",
    "my_car = {\n",
    "    \"제조사\" : \"XX자동차\",\n",
    "    \"모델\" : \"짱멋찐차\",\n",
    "    \"파워트레인\" : \"제트엔진\"\n",
    "}\n",
    "for key in my_car.keys():\n",
    "    print(key)"
   ]
  },
  {
   "cell_type": "code",
   "execution_count": null,
   "metadata": {},
   "outputs": [],
   "source": [
    "# code 2-65\n",
    "# 값의 값을 사용한 루프를 만들 때는 .values() 메서드를 사용합니다.\n",
    "my_car = {\n",
    "    \"제조사\" : \"XX자동차\",\n",
    "    \"모델\" : \"짱멋찐차\",\n",
    "    \"파워트레인\" : \"제트엔진\"\n",
    "}\n",
    "for value in my_car.values():\n",
    "    print(value)"
   ]
  },
  {
   "cell_type": "code",
   "execution_count": 25,
   "metadata": {},
   "outputs": [
    {
     "name": "stdout",
     "output_type": "stream",
     "text": [
      "('제조사', 'XX자동차')\n",
      "('모델', '짱멋찐차')\n",
      "('파워트레인', '제트엔진')\n",
      "제조사 - XX자동차\n",
      "모델 - 짱멋찐차\n",
      "파워트레인 - 제트엔진\n"
     ]
    }
   ],
   "source": [
    "# code 2-66\n",
    "# 키와 값을 모두 사용한 루프를 만들 때는 .items() 메서드를 사용합니다.\n",
    "# 루프 변수에는 튜플이 저장됩니다.\n",
    "my_car = {\n",
    "    \"제조사\" : \"XX자동차\",\n",
    "    \"모델\" : \"짱멋찐차\",\n",
    "    \"파워트레인\" : \"제트엔진\"\n",
    "}\n",
    "for item in my_car.items():\n",
    "    print(item)\n",
    "\n",
    "# 튜플 대신 두 개의 변수에 키와 값을 나눠서 받을 수 있습니다.\n",
    "for key, value in my_car.items():\n",
    "    print(f\"{key} - {value}\")\n"
   ]
  },
  {
   "cell_type": "code",
   "execution_count": 2,
   "metadata": {},
   "outputs": [
    {
     "name": "stdout",
     "output_type": "stream",
     "text": [
      "10 [0, 1, 2, 3, 4, 5, 6, 7, 8, 9]\n",
      "10 [0, 2, 4, 6, 8, 10, 12, 14, 16, 18]\n",
      "10 [1, 3, 5, 7, 9, 11, 13, 15, 17, 19]\n",
      "10 [0, 1, 2, 3, 4, 5, 6, 7, 8, 9]\n",
      "10 [0, 2, 4, 6, 8, 10, 12, 14, 16, 18]\n",
      "10 [1, 3, 5, 7, 9, 11, 13, 15, 17, 19]\n",
      "10 ['00', '11', '22', '33', '44', '55', '66', '77', '88', '99']\n",
      "10 [0, 2, 4, 6, 8, 10, 12, 14, 16, 18]\n"
     ]
    }
   ],
   "source": [
    "# code 2-67\n",
    "# 기존의 리스트를 만들어서 새로운 리스트를 만들 때\n",
    "# 컴프리헨션이라는 파이썬의 문법을 사용, 편하게 생성할 수 있습니다.\n",
    "\n",
    "# 기본 구조는 [표현식 for 항목 in 반복가능객체] 입니다.\n",
    "# 반복 가능 객체로는 리스트, 튜플, 문자열, range() 함수, 딕셔너리 등을 사용할 수 있습니다.\n",
    "\n",
    "numbers = []\n",
    "for i in range(10):\n",
    "    numbers.append(i)\n",
    "print(len(numbers), numbers)\n",
    "\n",
    "# 짝수 리스트를 컴프리헨션으로 만듭니다.\n",
    "even_numbers = [i * 2 for i in numbers]\n",
    "print(len(even_numbers), even_numbers)\n",
    "\n",
    "# 홀수 리스트를 컴프리헨션으로 만듭니다.\n",
    "odd_numbers = [i * 2 + 1 for i in numbers]\n",
    "print(len(odd_numbers), odd_numbers)\n",
    "\n",
    "# 사실 굳이 미리 numbers 리스트를 만들지 않아도 됩니다.\n",
    "numbers = [i for i in range(10)]\n",
    "even_numbers = [i * 2 for i in range(10)]\n",
    "odd_numbers = [i * 2 + 1 for i in range(10)]\n",
    "print(len(numbers), numbers)\n",
    "print(len(even_numbers), even_numbers)\n",
    "print(len(odd_numbers), odd_numbers)\n",
    "\n",
    "# 문자열을 사용해 컴프리헨션을 만들 수 있습니다.\n",
    "number_string = \"0123456789\"\n",
    "even_numbers = [c * 2 for c in number_string]\n",
    "print(len(even_numbers), even_numbers)\n",
    "\n",
    "# 뭐가 좀 이상하죠? 형변환 함수로 숫자로 바꿔서 만들어봅시다.\n",
    "even_numbers = [int(c) * 2 for c in number_string]\n",
    "print(len(even_numbers), even_numbers)\n"
   ]
  },
  {
   "cell_type": "code",
   "execution_count": 10,
   "metadata": {},
   "outputs": [
    {
     "name": "stdout",
     "output_type": "stream",
     "text": [
      "3 ['제조사', '모델', '파워트레인']\n",
      "3 ['XX자동차', '짱멋찐차', '제트엔진']\n",
      "3 [('제조사', 'XX자동차'), ('모델', '짱멋찐차'), ('파워트레인', '제트엔진')]\n",
      "3 ['제조사', '모델', '파워트레인']\n",
      "3 ['제조사 - XX자동차', '모델 - 짱멋찐차', '파워트레인 - 제트엔진']\n"
     ]
    }
   ],
   "source": [
    "# code 2-68\n",
    "# 딕셔너리를 사용해 컴프리헨션을 하려면 딕셔너리의 세 가지 메서드를 사용합니다.\n",
    "# 키를 활용하려면 - keys()\n",
    "# 값만 활용하려면 - values()\n",
    "# 키와 값을 모두 활용하려면 - items() (tuple이 반환됩니다.)\n",
    "my_car = {\n",
    "    \"제조사\" : \"XX자동차\",\n",
    "    \"모델\" : \"짱멋찐차\",\n",
    "    \"파워트레인\" : \"제트엔진\"\n",
    "}\n",
    "my_car_key_list = [key for key in my_car.keys()]\n",
    "my_car_value_list = [value for value in my_car.values()]\n",
    "my_car_item_list = [item for item in my_car.items()]\n",
    "print(len(my_car_key_list), my_car_key_list)\n",
    "print(len(my_car_value_list), my_car_value_list)\n",
    "print(len(my_car_item_list), my_car_item_list)\n",
    "\n",
    "# 메서드를 사용하지 않으면 키를 사용하게 됩니다.\n",
    "my_car_key_list = [key for key in my_car]\n",
    "print(len(my_car_key_list), my_car_key_list)\n",
    "\n",
    "# 키와 값을 분리해서 사용할 수도 있습니다.\n",
    "my_car_item_list_2 = [key + \" - \" + value for key, value in my_car.items()]\n",
    "print(len(my_car_item_list_2), my_car_item_list_2)\n"
   ]
  },
  {
   "cell_type": "code",
   "execution_count": null,
   "metadata": {},
   "outputs": [],
   "source": [
    "# code 2-69\n",
    "# 컴프리헨션에 if를 사용해서 값을 골라서 사용할 수 있습니다.\n",
    "numbers = [i for i in range(10)]\n",
    "small_numbers = [i for i in numbers if i < 5]\n",
    "large_numbers = [i for i in numbers if i >= 5]\n",
    "print(len(small_numbers), small_numbers)\n",
    "print(len(large_numbers), large_numbers)"
   ]
  },
  {
   "cell_type": "code",
   "execution_count": 11,
   "metadata": {},
   "outputs": [
    {
     "name": "stdout",
     "output_type": "stream",
     "text": [
      "3 {1, 2, 3}\n",
      "3\n",
      "3\n",
      "4 {0, 1, 2, 3}\n"
     ]
    }
   ],
   "source": [
    "# code 2-70\n",
    "# 컴프리헨션으로 세트를 만들 수 있습니다.\n",
    "numbers = [-3, -2, -1, 0, 1, 2, 3]\n",
    "numbers_set = {i for i in numbers if i > 0}\n",
    "print(len(numbers_set), numbers_set)\n",
    "\n",
    "# 만약 이 과정에서 값이 중복되면 하나 만 들어갑니다.\n",
    "# abs() - 부호를 뺀 절대값을 반환하는 함수입니다.\n",
    "print(abs(-3))\n",
    "print(abs(3))\n",
    "\n",
    "# 컴프리헨션에서 세트를 만들 때는 중복된 값이 있으면 하나만 들어갑니다.\n",
    "number_set_2 = {abs(i) for i in numbers}\n",
    "print(len(number_set_2), number_set_2)\n"
   ]
  },
  {
   "cell_type": "code",
   "execution_count": 14,
   "metadata": {},
   "outputs": [
    {
     "name": "stdout",
     "output_type": "stream",
     "text": [
      "6 {'3': 3, '2': 2, '1': 1, '0': 0, '-1': -1, '-2': -2}\n",
      "4 {'3': 3, '2': -2, '1': -1, '0': 0}\n"
     ]
    },
    {
     "ename": "TypeError",
     "evalue": "unhashable type: 'list'",
     "output_type": "error",
     "traceback": [
      "\u001b[1;31m---------------------------------------------------------------------------\u001b[0m",
      "\u001b[1;31mTypeError\u001b[0m                                 Traceback (most recent call last)",
      "Cell \u001b[1;32mIn[14], line 12\u001b[0m\n\u001b[0;32m      9\u001b[0m \u001b[38;5;28mprint\u001b[39m(\u001b[38;5;28mlen\u001b[39m(numbers_dict_2), numbers_dict_2)\n\u001b[0;32m     11\u001b[0m \u001b[38;5;66;03m# 딕셔너리의 키로 리스트를 사용할 수 없습니다. 컴프리헨션에서도 마찬가지입니다.\u001b[39;00m\n\u001b[1;32m---> 12\u001b[0m numbers_dict_3 \u001b[38;5;241m=\u001b[39m {[i] : i \u001b[38;5;28;01mfor\u001b[39;00m i \u001b[38;5;129;01min\u001b[39;00m \u001b[38;5;28mrange\u001b[39m(\u001b[38;5;241m3\u001b[39m, \u001b[38;5;241m-\u001b[39m\u001b[38;5;241m3\u001b[39m, \u001b[38;5;241m-\u001b[39m\u001b[38;5;241m1\u001b[39m)}\n",
      "\u001b[1;31mTypeError\u001b[0m: unhashable type: 'list'"
     ]
    }
   ],
   "source": [
    "# code 2-71\n",
    "# 컴프리헨션으로 딕셔너리를 만들 수 있습니다.\n",
    "# 추가할 요소에 키:값 형태를 표현하면 됩니다.\n",
    "numbers_dict = {str(i) : i for i in range(3, -3, -1)}\n",
    "print(len(numbers_dict), numbers_dict)\n",
    "\n",
    "# 하지만 이 과정에서 키가 중복되면 뒤에 추가한 값 기준으로 딕셔너리가 만들어집니다.\n",
    "numbers_dict_2 = {str(abs(i)) : i for i in range(3, -3, -1)}\n",
    "print(len(numbers_dict_2), numbers_dict_2)\n",
    "\n",
    "# 딕셔너리의 키로 리스트를 사용할 수 없습니다. 컴프리헨션에서도 마찬가지입니다.\n",
    "numbers_dict_3 = {[i] : i for i in range(3, -3, -1)}\n"
   ]
  },
  {
   "cell_type": "code",
   "execution_count": 16,
   "metadata": {},
   "outputs": [
    {
     "name": "stdout",
     "output_type": "stream",
     "text": [
      "9 [0, 2, 0, 4, 0, 6, 0, 8, 0]\n"
     ]
    }
   ],
   "source": [
    "# code 2-72\n",
    "# if ~ else 삼항 연산자와 컴프리헨션을 함께 사용하면 매우 유용합니다.\n",
    "# 짝수는 그대로, 홀수는 0으로...\n",
    "numbers = [i if i % 2 == 0 else 0 for i in range(1, 10)]\n",
    "print(len(numbers), numbers)\n"
   ]
  },
  {
   "cell_type": "code",
   "execution_count": 18,
   "metadata": {},
   "outputs": [
    {
     "name": "stdout",
     "output_type": "stream",
     "text": [
      "3 {'제조사': 'XX자동차', '모델': '짱멋찐차', '파워트레인': '제트엔진'}\n",
      "3 {'XX자동차': '제조사', '짱멋찐차': '모델', '제트엔진': '파워트레인'}\n"
     ]
    }
   ],
   "source": [
    "# code 2-73\n",
    "# 딕셔너리 컴프리헨션을 사용해 딕셔너리의 키와 값을 맞바꿀 수 있습니다.\n",
    "my_car = {\n",
    "    \"제조사\" : \"XX자동차\",\n",
    "    \"모델\" : \"짱멋찐차\",\n",
    "    \"파워트레인\" : \"제트엔진\"\n",
    "}\n",
    "print(len(my_car), my_car)\n",
    "my_car_reverse = {value : key for key, value in my_car.items()}\n",
    "print(len(my_car_reverse), my_car_reverse)"
   ]
  }
 ],
 "metadata": {
  "kernelspec": {
   "display_name": "Python 3",
   "language": "python",
   "name": "python3"
  },
  "language_info": {
   "codemirror_mode": {
    "name": "ipython",
    "version": 3
   },
   "file_extension": ".py",
   "mimetype": "text/x-python",
   "name": "python",
   "nbconvert_exporter": "python",
   "pygments_lexer": "ipython3",
   "version": "3.12.5"
  }
 },
 "nbformat": 4,
 "nbformat_minor": 2
}
