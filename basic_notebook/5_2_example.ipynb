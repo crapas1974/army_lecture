{
 "cells": [
  {
   "cell_type": "markdown",
   "metadata": {},
   "source": [
    "# 5. 클래스와 객체\n",
    "<hr>\n",
    "\n",
    "## 5.2 파이썬 클래스"
   ]
  },
  {
   "cell_type": "code",
   "execution_count": 1,
   "metadata": {},
   "outputs": [
    {
     "name": "stdout",
     "output_type": "stream",
     "text": [
      "갑시다!\n",
      "주차합니다.\n"
     ]
    }
   ],
   "source": [
    "# code 5-1\n",
    "# 파이썬 클래스는 객체를 만드는 설계도입니다.\n",
    "# class 클래스이름 :으로 정의가 시작되며, 하위블록을 가집니다.\n",
    "# 클래스의 이름은 변수와 달리 CamelCase 방식으로 명명하는 것이 알반적입니다.\n",
    "# 하위 블록은 클래스가 가지는 여러 기능으로 구성되며, 이 기능을 메서드라고 부릅니다.\n",
    "\n",
    "class Car:\n",
    "    def drive(self):\n",
    "        print(\"갑시다!\")\n",
    "\n",
    "    def park(self):\n",
    "        print(\"주차합니다.\")\n",
    "\n",
    "    \n",
    "# 하위 블록이 끝날 때 까지가 클래스의 정의입니다.\n",
    "\n",
    "# 이러한 클래스로 여러 객체를 만들 수 있습니다. \n",
    "# 객체를 만들 때는 클래스를 함수 호출하듯 부릅니다.\n",
    "\n",
    "my_car = Car()\n",
    "your_car = Car()\n",
    "\n",
    "# 메서드 정의할 때 첫 번째 매개변수 self는 '객체 자신'을 말합니다. \n",
    "# my_car에서 self는 my_car, your_car 객체에서 self는 your_car입니다.\n",
    "# 메서드를 호출 할 때는 점 표기법으로 호출하되\n",
    "# self에 대응되는 인자는 전달하지 않습니다.\n",
    "my_car.drive()\n",
    "your_car.park()\n"
   ]
  },
  {
   "cell_type": "code",
   "execution_count": 2,
   "metadata": {},
   "outputs": [
    {
     "name": "stdout",
     "output_type": "stream",
     "text": [
      "판교\n"
     ]
    }
   ],
   "source": [
    "# code 5-2\n",
    "# 클래스의 속성은 인스턴스객체(self)에 만들어져 할당되는 변수를 말합니다.\n",
    "# 예를 들어 목적지 속성은 다음과 같이 만들 수 있습니다.\n",
    "class Car:\n",
    "    def set_destination(self, destination):\n",
    "        # 그냥 destination은 외부에서 호출할 때 사용한 매개변수\n",
    "        # self.destination은 클래스 객체의 속성\n",
    "        self.destination = destination\n",
    "    def get_destination(self):\n",
    "        return self.destination\n",
    "\n",
    "my_car = Car()\n",
    "my_car.set_destination(\"판교\")\n",
    "print(my_car.get_destination())\n",
    "\n",
    "your_car = Car()\n",
    "# 아직 your_car는 destination 속성이 만들어지지 않았습니다.\n",
    "print(your_car.get_destination())\n"
   ]
  },
  {
   "cell_type": "code",
   "execution_count": 1,
   "metadata": {},
   "outputs": [
    {
     "name": "stdout",
     "output_type": "stream",
     "text": [
      "판교\n"
     ]
    }
   ],
   "source": [
    "# code 5-3\n",
    "# 인스턴스 객체의 이름으로 self 대신 다른 이름을 사용할 수 있습니다.\n",
    "class Car:\n",
    "    def set_destination(this, destination):\n",
    "        this.destination = destination\n",
    "    def get_destination(this):\n",
    "        return this.destination\n",
    "    \n",
    "my_car = Car()\n",
    "my_car.set_destination(\"판교\")\n",
    "print(my_car.get_destination())\n",
    "\n",
    "# 하지만 권장하지 않습니다. self를 사용하면 누구나 인스턴스 객체라는 것을 눈치챌 수 있습니다.\n",
    "# self가 관용적인 표현이기 때문입니다."
   ]
  },
  {
   "cell_type": "code",
   "execution_count": 2,
   "metadata": {},
   "outputs": [
    {
     "ename": "TypeError",
     "evalue": "Car.set_destination() takes 2 positional arguments but 3 were given",
     "output_type": "error",
     "traceback": [
      "\u001b[1;31m---------------------------------------------------------------------------\u001b[0m",
      "\u001b[1;31mTypeError\u001b[0m                                 Traceback (most recent call last)",
      "Cell \u001b[1;32mIn[2], line 10\u001b[0m\n\u001b[0;32m      7\u001b[0m         \u001b[38;5;28;01mreturn\u001b[39;00m this\u001b[38;5;241m.\u001b[39mdestination\n\u001b[0;32m      9\u001b[0m my_car \u001b[38;5;241m=\u001b[39m Car()\n\u001b[1;32m---> 10\u001b[0m \u001b[43mmy_car\u001b[49m\u001b[38;5;241;43m.\u001b[39;49m\u001b[43mset_destination\u001b[49m\u001b[43m(\u001b[49m\u001b[43mmy_car\u001b[49m\u001b[43m,\u001b[49m\u001b[43m \u001b[49m\u001b[38;5;124;43m\"\u001b[39;49m\u001b[38;5;124;43m판교\u001b[39;49m\u001b[38;5;124;43m\"\u001b[39;49m\u001b[43m)\u001b[49m\n\u001b[0;32m     11\u001b[0m \u001b[38;5;28mprint\u001b[39m(my_car\u001b[38;5;241m.\u001b[39mget_destination(my_car))\n",
      "\u001b[1;31mTypeError\u001b[0m: Car.set_destination() takes 2 positional arguments but 3 were given"
     ]
    }
   ],
   "source": [
    "# code 5-4\n",
    "# self에 해당하는 인자를 지정하면 예외가 발생합니다.\n",
    "class Car:\n",
    "    def set_destination(this, destination):\n",
    "        this.destination = destination\n",
    "    def get_destination(this):\n",
    "        return this.destination\n",
    "    \n",
    "my_car = Car()\n",
    "my_car.set_destination(my_car, \"판교\")\n",
    "print(my_car.get_destination(my_car))"
   ]
  },
  {
   "cell_type": "code",
   "execution_count": 5,
   "metadata": {},
   "outputs": [
    {
     "ename": "TypeError",
     "evalue": "Car.set_destination() takes 1 positional argument but 2 were given",
     "output_type": "error",
     "traceback": [
      "\u001b[1;31m---------------------------------------------------------------------------\u001b[0m",
      "\u001b[1;31mTypeError\u001b[0m                                 Traceback (most recent call last)",
      "Cell \u001b[1;32mIn[5], line 9\u001b[0m\n\u001b[0;32m      6\u001b[0m         \u001b[38;5;28mprint\u001b[39m(destination)\n\u001b[0;32m      8\u001b[0m my_car \u001b[38;5;241m=\u001b[39m Car()\n\u001b[1;32m----> 9\u001b[0m \u001b[43mmy_car\u001b[49m\u001b[38;5;241;43m.\u001b[39;49m\u001b[43mset_destination\u001b[49m\u001b[43m(\u001b[49m\u001b[38;5;124;43m\"\u001b[39;49m\u001b[38;5;124;43m판교\u001b[39;49m\u001b[38;5;124;43m\"\u001b[39;49m\u001b[43m)\u001b[49m\n",
      "\u001b[1;31mTypeError\u001b[0m: Car.set_destination() takes 1 positional argument but 2 were given"
     ]
    }
   ],
   "source": [
    "# code 5-5\n",
    "# 메서드를 정의할 때 인스턴스 객체를 제외해도,\n",
    "# 예외가 발생할 수도, 발생하지 않을 수도 있지만... 여튼 보통은 문제가 됩니다.\n",
    "class Car:\n",
    "    def set_destination(destination):\n",
    "        print(destination)\n",
    "\n",
    "# 클래스 정의에서는 예외가 발생하지 않습니다. \n",
    "# 왜냐하면 파이썬은 destination이 self 대신 사용된 줄 알기 때문입니다.\n",
    "# 하지만...\n",
    "\n",
    "my_car = Car()\n",
    "my_car.set_destination(\"판교\")\n",
    "\n"
   ]
  },
  {
   "cell_type": "code",
   "execution_count": 6,
   "metadata": {},
   "outputs": [
    {
     "name": "stdout",
     "output_type": "stream",
     "text": [
      "판교\n"
     ]
    }
   ],
   "source": [
    "# code 5-6\n",
    "# 객체의 속성도 점 표기법으로 사용할 수 있습니다.\n",
    "\n",
    "class Car:\n",
    "    def set_destination(self, destination):\n",
    "        self.destination = destination\n",
    "\n",
    "my_car = Car()\n",
    "my_car.set_destination(\"판교\")\n",
    "print(my_car.destination)"
   ]
  },
  {
   "cell_type": "code",
   "execution_count": null,
   "metadata": {},
   "outputs": [],
   "source": [
    "# code 5-7\n",
    "# 생성자는 객체가 생성될 때 자동으로 호출되는 메서드입니다.\n",
    "# 이름은 항상 __init__입니다. (앞 뒤로 언더라인이 두개씩 입니다.)\n",
    "# 생성자는 객체를 초기화하는데 사용되며\n",
    "# 아무것도 반환해서는 안됩니다. (return None 예외)\n",
    "class Car:\n",
    "    def __init__(self, destination):\n",
    "        self.destination = destination\n",
    "\n",
    "my_car = Car(\"판교\")\n",
    "print(my_car.destination)\n",
    "# 클래스를 생성할 때 생성자에 매개변수를 전달해야 합니다.\n",
    "# my_car = Car() 는 예외가 발생합니다."
   ]
  },
  {
   "cell_type": "code",
   "execution_count": 7,
   "metadata": {},
   "outputs": [
    {
     "name": "stdout",
     "output_type": "stream",
     "text": [
      "이름은 철수이고 국적은 한국입니다.\n",
      "이름은 John이고 국적은 USA입니다.\n"
     ]
    }
   ],
   "source": [
    "# code 5-8\n",
    "# 메서드도 함수와 마찬가지로 인자-매개변수 관계를 가집니다.\n",
    "# 당연히 기본값을 가질 수 있으며, 특히 생성자는 기본값을 잘 사용하면 편리합니다.\n",
    "class People:\n",
    "    def __init__(self, name, nationality=\"한국\"):\n",
    "        self.name = name\n",
    "        self.nationality = nationality\n",
    "    # 객체를 print()로 출력할 때, __str__ 메서드의 결과를 출력합니다.\n",
    "    # 생성자나 __str__처럼 미리 역할이 정해져 있는 메서드를 매직 메서드라고 부릅니다.\n",
    "    def __str__(self):\n",
    "        return f\"이름은 {self.name}이고 국적은 {self.nationality}입니다.\"\n",
    "\n",
    "my_best_friend = People(\"철수\")\n",
    "my_best_foreign_friend = People(\"John\", \"USA\")\n",
    "print(my_best_friend)\n",
    "print(my_best_foreign_friend)"
   ]
  },
  {
   "cell_type": "code",
   "execution_count": 10,
   "metadata": {},
   "outputs": [
    {
     "name": "stdout",
     "output_type": "stream",
     "text": [
      "None\n",
      "이름이 없습니다.\n",
      "철수\n",
      "None\n"
     ]
    }
   ],
   "source": [
    "# code 5-8\n",
    "# None은 아무것도 아닌 것을 의미하는 '객체'입니다.\n",
    "# 아무것도 아니지만 무엇인가 있기 때문에 초기화 할 때 유용합니다.\n",
    "class People:\n",
    "    def __init__(self, name = None):\n",
    "        self.name = name\n",
    "\n",
    "a_people = People()\n",
    "print(a_people.name)    # 만약 None으로 초기화하지 않으면 예외가 발생합니다.\n",
    "\n",
    "# None은 False로 평가됩니다.\n",
    "if not a_people.name:\n",
    "    print(\"이름이 없습니다.\")\n",
    "\n",
    "# 필요한 경우 생성자를 메서드처럼 호출할 수 있습니다.\n",
    "return_value = a_people.__init__(\"철수\")\n",
    "print(a_people.name)\n",
    "\n",
    "# 생성자는 아무것도 반환하지 않으므로 None이 반환됩니다.\n",
    "print(return_value)\n"
   ]
  },
  {
   "cell_type": "code",
   "execution_count": 14,
   "metadata": {},
   "outputs": [
    {
     "name": "stdout",
     "output_type": "stream",
     "text": [
      "슈퍼카는 수리비가 비싸요.\n",
      "운전합니다.\n",
      "주차합니다.\n",
      "판교으로 갑니다.\n"
     ]
    }
   ],
   "source": [
    "# code 5-9\n",
    "# 클래스를 상속받아 클래스를 만드는 방식으로 클래스를 재사용할 수 있습니다.\n",
    "# 상속받는 클래스를 자식 클래스, 상속하는 클래스를 부모 클래스라고 부릅니다.\n",
    "# 자식 클래스는 부모 클래스의 모든 속성과 메서드를 가지게 됩니다.\n",
    "# 상속 받을 때는 클래스 이름 옆에 (부모클래스 이름)을 명시합니다.\n",
    "class Car:\n",
    "    def __init__(self, destination):\n",
    "        self.destination = destination\n",
    "    def drive(self):\n",
    "        print(\"운전합니다.\")\n",
    "    def park(self):\n",
    "        print(\"주차합니다.\")\n",
    "    def print_destination(self):\n",
    "        print(f\"{self.destination}으로 갑니다.\")\n",
    "\n",
    "class SuperCar(Car):\n",
    "    def fix(self):\n",
    "        print(\"슈퍼카는 수리비가 비싸요.\")\n",
    "\n",
    "# 클래스를 생성할 때 자식 클래스의 생성자가 없는 경우 부모 클래스의 생성자를 호출합니다.\n",
    "a_super_car = SuperCar(\"판교\")\n",
    "# 즉 a_super_car = SuperCar()는 예외가 발생합니다.\n",
    "a_super_car.fix()\n",
    "a_super_car.drive()\n",
    "a_super_car.park()\n",
    "a_super_car.print_destination()"
   ]
  },
  {
   "cell_type": "code",
   "execution_count": 15,
   "metadata": {},
   "outputs": [
    {
     "name": "stdout",
     "output_type": "stream",
     "text": [
      "슈퍼카는 수리비가 비싸요.\n",
      "운전합니다.\n",
      "주차합니다.\n"
     ]
    },
    {
     "ename": "AttributeError",
     "evalue": "'SuperCar' object has no attribute 'destination'",
     "output_type": "error",
     "traceback": [
      "\u001b[1;31m---------------------------------------------------------------------------\u001b[0m",
      "\u001b[1;31mAttributeError\u001b[0m                            Traceback (most recent call last)",
      "Cell \u001b[1;32mIn[15], line 25\u001b[0m\n\u001b[0;32m     23\u001b[0m a_super_car\u001b[38;5;241m.\u001b[39mdrive()\n\u001b[0;32m     24\u001b[0m a_super_car\u001b[38;5;241m.\u001b[39mpark()\n\u001b[1;32m---> 25\u001b[0m \u001b[43ma_super_car\u001b[49m\u001b[38;5;241;43m.\u001b[39;49m\u001b[43mprint_destination\u001b[49m\u001b[43m(\u001b[49m\u001b[43m)\u001b[49m\n",
      "Cell \u001b[1;32mIn[15], line 11\u001b[0m, in \u001b[0;36mCar.print_destination\u001b[1;34m(self)\u001b[0m\n\u001b[0;32m     10\u001b[0m \u001b[38;5;28;01mdef\u001b[39;00m \u001b[38;5;21mprint_destination\u001b[39m(\u001b[38;5;28mself\u001b[39m):\n\u001b[1;32m---> 11\u001b[0m     \u001b[38;5;28mprint\u001b[39m(\u001b[38;5;124mf\u001b[39m\u001b[38;5;124m\"\u001b[39m\u001b[38;5;132;01m{\u001b[39;00m\u001b[38;5;28;43mself\u001b[39;49m\u001b[38;5;241;43m.\u001b[39;49m\u001b[43mdestination\u001b[49m\u001b[38;5;132;01m}\u001b[39;00m\u001b[38;5;124m으로 갑니다.\u001b[39m\u001b[38;5;124m\"\u001b[39m)\n",
      "\u001b[1;31mAttributeError\u001b[0m: 'SuperCar' object has no attribute 'destination'"
     ]
    }
   ],
   "source": [
    "# code 5-10\n",
    "# 하지만, 자식 클래스의 생성자가 있다면 부모 클래스의 생성자를 호출하지 않습니다.\n",
    "class Car:\n",
    "    def __init__(self, destination):\n",
    "        self.destination = destination\n",
    "    def drive(self):\n",
    "        print(\"운전합니다.\")\n",
    "    def park(self):\n",
    "        print(\"주차합니다.\")\n",
    "    def print_destination(self):\n",
    "        print(f\"{self.destination}으로 갑니다.\")\n",
    "\n",
    "class SuperCar(Car):\n",
    "    def __init__(self):\n",
    "        pass\n",
    "    def fix(self):\n",
    "        print(\"슈퍼카는 수리비가 비싸요.\")\n",
    "\n",
    "# 클래스를 생성할 때 자식 클래스의 생성자가 없는 경우 부모 클래스의 생성자를 호출합니다.\n",
    "a_super_car = SuperCar()\n",
    "# 이 경우 a_super_car = SuperCar(\"판교\")는 예외가 발생합니다.\n",
    "a_super_car.fix()\n",
    "a_super_car.drive()\n",
    "a_super_car.park()\n",
    "# 하지만 부모 클래스의 생성자가 호출되지 않았기 때문에 destination 속성이 없습니다.\n",
    "a_super_car.print_destination()"
   ]
  },
  {
   "cell_type": "code",
   "execution_count": 17,
   "metadata": {},
   "outputs": [
    {
     "name": "stdout",
     "output_type": "stream",
     "text": [
      "슈퍼카는 수리비가 비싸요.\n",
      "유지비용은 10000000입니다.\n",
      "슈퍼카는 시속 300km로 달립니다.\n",
      "주차합니다.\n",
      "슈퍼카 조심...이라고 적어둡니다.\n",
      "판교으로 갑니다.\n"
     ]
    }
   ],
   "source": [
    "# code 5-11\n",
    "# 자식 클래스에서 부모 클래스의 메서드를 호출할 수 있습니다.\n",
    "# super()는 부모 클래스를 가리키는 객체입니다.\n",
    "class Car:\n",
    "    def __init__(self, destination):\n",
    "        self.destination = destination\n",
    "    def drive(self):\n",
    "        print(\"운전합니다.\")\n",
    "    def park(self):\n",
    "        print(\"주차합니다.\")\n",
    "    def print_destination(self):\n",
    "        print(f\"{self.destination}으로 갑니다.\")\n",
    "\n",
    "class SuperCar(Car):\n",
    "    def __init__(self, destination, maintenance_price):\n",
    "        # 부모 클래스의 생성자를 호출합니다.\n",
    "        super().__init__(destination)\n",
    "        self.maintenance_price = maintenance_price\n",
    "\n",
    "    def fix(self):\n",
    "        print(\"슈퍼카는 수리비가 비싸요.\")\n",
    "        print(f\"유지비용은 {self.maintenance_price}입니다.\")\n",
    "\n",
    "    # 자식 클래스에서 부모 클래스의 메서드와 같은 이름의 메서드를 만들면\n",
    "    # 부모 클래스의 메서드를 덮어 씁니다.\n",
    "    def drive(self):\n",
    "        print(\"슈퍼카는 시속 300km로 달립니다.\")\n",
    "\n",
    "    def park(self):\n",
    "        # 이때 super()를 사용해서 부모 클래스의 메서드를 부를 수 있습니다.\n",
    "        super().park()\n",
    "        print(\"슈퍼카 조심...이라고 적어둡니다.\")\n",
    "\n",
    "a_super_car = SuperCar(\"판교\", 10000000)\n",
    "a_super_car.fix()\n",
    "a_super_car.drive()\n",
    "a_super_car.park()\n",
    "a_super_car.print_destination()\n"
   ]
  },
  {
   "cell_type": "code",
   "execution_count": 19,
   "metadata": {},
   "outputs": [
    {
     "ename": "MyException",
     "evalue": "내가 만든 예외 - 예외가 발생했습니다.",
     "output_type": "error",
     "traceback": [
      "\u001b[1;31m---------------------------------------------------------------------------\u001b[0m",
      "\u001b[1;31mMyException\u001b[0m                               Traceback (most recent call last)",
      "Cell \u001b[1;32mIn[19], line 11\u001b[0m\n\u001b[0;32m      8\u001b[0m \u001b[38;5;28;01mdef\u001b[39;00m \u001b[38;5;21mmake_exception\u001b[39m():\n\u001b[0;32m      9\u001b[0m     \u001b[38;5;28;01mraise\u001b[39;00m MyException(\u001b[38;5;124m\"\u001b[39m\u001b[38;5;124m예외가 발생했습니다.\u001b[39m\u001b[38;5;124m\"\u001b[39m)\n\u001b[1;32m---> 11\u001b[0m \u001b[43mmake_exception\u001b[49m\u001b[43m(\u001b[49m\u001b[43m)\u001b[49m\n",
      "Cell \u001b[1;32mIn[19], line 9\u001b[0m, in \u001b[0;36mmake_exception\u001b[1;34m()\u001b[0m\n\u001b[0;32m      8\u001b[0m \u001b[38;5;28;01mdef\u001b[39;00m \u001b[38;5;21mmake_exception\u001b[39m():\n\u001b[1;32m----> 9\u001b[0m     \u001b[38;5;28;01mraise\u001b[39;00m MyException(\u001b[38;5;124m\"\u001b[39m\u001b[38;5;124m예외가 발생했습니다.\u001b[39m\u001b[38;5;124m\"\u001b[39m)\n",
      "\u001b[1;31mMyException\u001b[0m: 내가 만든 예외 - 예외가 발생했습니다."
     ]
    }
   ],
   "source": [
    "# code 5-12\n",
    "# 예외 Exception 클래스를 상속받아서 필요한 예외를 만들 수 있습니다.\n",
    "class MyException(Exception):\n",
    "    def __init__(self, message):\n",
    "        message = \"내가 만든 예외 - \" + message\n",
    "        super().__init__(message)\n",
    "\n",
    "def make_exception():\n",
    "    raise MyException(\"예외가 발생했습니다.\")\n",
    "\n",
    "make_exception()"
   ]
  },
  {
   "cell_type": "code",
   "execution_count": 21,
   "metadata": {},
   "outputs": [
    {
     "name": "stdout",
     "output_type": "stream",
     "text": [
      "27.77777777777778\n",
      "27.77777777777778\n"
     ]
    }
   ],
   "source": [
    "# code 5-13\n",
    "# @staticmethod를 사용하면 인스턴스객체 없이 마음껏 쓸 수 있는 메서드를 만들 수 있습니다.\n",
    "# 정적메서드라고 부릅니다.\n",
    "class Car:\n",
    "    # km/h를 m/s로 변환하는 정적 메서드\n",
    "    @staticmethod\n",
    "    def convert_kmh_to_ms(kmh): # kmh는 인스턴스 객체가 아니라 그냥 변수입니다.\n",
    "        return kmh / 3.6\n",
    "    \n",
    "a_car = Car()\n",
    "\n",
    "# 두 가지 방식 모두 사용 가능합니다.\n",
    "print(Car.convert_kmh_to_ms(100))   # 클래스 이름으로 호출\n",
    "print(a_car.convert_kmh_to_ms(100)) # 인스턴스 객체로 호출"
   ]
  }
 ],
 "metadata": {
  "kernelspec": {
   "display_name": "Python 3",
   "language": "python",
   "name": "python3"
  },
  "language_info": {
   "codemirror_mode": {
    "name": "ipython",
    "version": 3
   },
   "file_extension": ".py",
   "mimetype": "text/x-python",
   "name": "python",
   "nbconvert_exporter": "python",
   "pygments_lexer": "ipython3",
   "version": "3.12.5"
  }
 },
 "nbformat": 4,
 "nbformat_minor": 2
}
