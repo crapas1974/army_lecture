{
 "cells": [
  {
   "cell_type": "markdown",
   "metadata": {},
   "source": [
    "# 3. 파이썬 제어 컨트롤\n",
    "<hr>\n",
    "\n",
    "## 3.4 예외 처리 \n",
    "* 예외 처리는 4장 함수, 5장 클래스와 객체를 먼저 공부하고 와서 보는게 도움이 될 수 있습니다."
   ]
  },
  {
   "cell_type": "code",
   "execution_count": null,
   "metadata": {},
   "outputs": [],
   "source": [
    "# code 3-27\n",
    "# 예외도 객체입니다.\n",
    "# 클래스와 객체에 관한 것은 5장에 나옵니다.\n",
    "e = NameError(\"이름이 너무 눈부셔서 오류가 발생했어요.\")\n",
    "print(e)\n",
    "print(type(e))\n",
    "help_me\n",
    "# 직접 만든 e와 help_me로부터 발생한 NameError는 본질적으로 같은 무엇인가임"
   ]
  },
  {
   "cell_type": "code",
   "execution_count": null,
   "metadata": {},
   "outputs": [],
   "source": [
    "# code 3-28\n",
    "# 모든 예외는 Exception으로부터 상속을 받습니다.\n",
    "# isinstance 함수는 어떤 객체가 어떤 클래스에 속해 있는지를 \n",
    "# 검사하는 함수입니다.\n",
    "x = [1, 2, 3]\n",
    "print(isinstance(x, list))\n",
    "print(isinstance(x, tuple))\n",
    "e = NameError(\"이름이 너무 눈부시다니까요.\")\n",
    "print(isinstance(e, NameError))\n",
    "print(isinstance(e, TypeError)) \n",
    "print(isinstance(e, Exception)) # 모든 예외는 Exception에 속합니다."
   ]
  },
  {
   "cell_type": "code",
   "execution_count": null,
   "metadata": {},
   "outputs": [],
   "source": [
    "# code 3-29\n",
    "# 예외는 함수의 호출 순서를 따라 전파되며, \n",
    "# 프로그램은 더 이상 예외가 전파될 수 없고, 처리되지도 않았을 때\n",
    "# 그 때 종료됩니다.\n",
    "\n",
    "def foo():\n",
    "    print(\"before divide\")\n",
    "    10 / 0      # ZeroDivisionError 예외 발생 -> 호출한 bar()로 전파\n",
    "    print(\"after divide\")\n",
    "\n",
    "def bar()\n",
    "    foo()       # 예외가 전파됨 -> 호출한 qux()로 전파\n",
    "\n",
    "def qux()\n",
    "    bar()       # 예외가 전파됨 -> 호출한 최상위로 전파\n",
    "\n",
    "qux()   # 예외가 전파됨 -> 전파할 곳 없음 프로그램이 종료되는 곳\n"
   ]
  },
  {
   "cell_type": "code",
   "execution_count": null,
   "metadata": {},
   "outputs": [],
   "source": [
    "# code 3-30 \n",
    "# try로 예외 검사 대상을 지정할 수 있고\n",
    "# except로 특정 예외를 잡아 처리할 수 있습니다.\n",
    "try:\n",
    "    user_input = int(input())\n",
    "    print(10 / user_input)\n",
    "except ZeroDivisionError:\n",
    "    print(\"0으로 나눌 수 없습니다.\")\n",
    "\n",
    "# 0을 입력해 보고\n",
    "# 숫자가 아닌 다른 것을 입력해 보고 그 차이를 확인해봅시다."
   ]
  },
  {
   "cell_type": "code",
   "execution_count": null,
   "metadata": {},
   "outputs": [],
   "source": [
    "# code 3-31 \n",
    "# 두 종류 이상의 예외를 잡아서 각각 처리할 수 있습니다.\n",
    "# 그리고 as 키워드를 사용, 예외 객체를 받아서 사용핧 수도 있습니다.\n",
    "try:\n",
    "    user_input = int(input())\n",
    "    print(10 / user_input)\n",
    "except ZeroDivisionError:\n",
    "    print(\"0으로 나눌 수 없습니다.\")\n",
    "except ValueError as error:\n",
    "    print(error)\n",
    "\n",
    "# 0을 입력해 보고\n",
    "# 숫자가 아닌 다른 것을 입력해 보고 그 차이를 확인해봅시다."
   ]
  },
  {
   "cell_type": "code",
   "execution_count": null,
   "metadata": {},
   "outputs": [],
   "source": [
    "# code 3-32\n",
    "# 예외 클래스 상속 관계에서 최상위 Exception은 모든 예외를 잡을 수 있습니다.\n",
    "try:\n",
    "    user_input = int(input())\n",
    "    print(10 / user_input)\n",
    "except Exception as error:\n",
    "    print(\"나는 모든 예외를 잡을 수 있지.\")\n",
    "    print(\"그래서 무슨 예외가 발생했는지 확인하기는 정작 곤란하단 말야.\")\n",
    "    print(\"그래서 이런 방법을 쓸 수 있다네.\")\n",
    "    print(type(error))\n",
    "    print(error)\n",
    "except ValueError:\n",
    "    print(\"그리고 Exception이 우선 모든 예외를 잡아 버리니까\")\n",
    "    print(\"우리같은 조무래기 예외들은 절대 별도로 처리될 수 없지\")\n",
    "except ZeroDivisionError:\n",
    "    print(\"그리고 Exception이 우선 모든 예외를 잡아 버리니까\")\n",
    "    print(\"우리같은 조무래기 예외들은 절대 별도로 처리될 수 없지\")"
   ]
  },
  {
   "cell_type": "code",
   "execution_count": null,
   "metadata": {},
   "outputs": [],
   "source": [
    "# code 3-33\n",
    "# 다음과 같은 예외 처리 전략도 가능합니다.\n",
    "try:\n",
    "    user_input = int(input())\n",
    "    print(10 / user_input)\n",
    "except ValueError:\n",
    "    print(\"숫자를 입력해야지.\")\n",
    "except ZeroDivisionError:\n",
    "    print(\"0으로 나눌 수 없어.\")\n",
    "except Exception as Error:\n",
    "    print(\"알 수 없는 예외가 발생했어요. : \", error)"
   ]
  },
  {
   "cell_type": "code",
   "execution_count": null,
   "metadata": {},
   "outputs": [],
   "source": [
    "# code 3-34\n",
    "# SyntaxError 예외는 처리되지 않습니다.\n",
    "try:\n",
    "    del = \"나잡아 봐라~\"\n",
    "except SyntaxError:\n",
    "    print(\"꼭 잡고 말꺼야!\")"
   ]
  },
  {
   "cell_type": "code",
   "execution_count": null,
   "metadata": {},
   "outputs": [],
   "source": [
    "# code 3-35\n",
    "# finally 하위 블록는 예외가 처리되건, 처리되지 않건 무조건 실행됩니다.\n",
    "try:\n",
    "    user_input = int(input())\n",
    "    print(10 / user_input)\n",
    "except ValueError:\n",
    "    print(\"숫자를 입력해야지.\")\n",
    "except ZeroDivisionError:\n",
    "    print(\"0으로 나눌 수 없어.\")\n",
    "except Exception as Error:\n",
    "    print(\"알 수 없는 예외가 발생했어요. : \", error)\n",
    "finally:\n",
    "    print(\"무엇을 입력해도 이 문장이 출력되는지 확인해 볼까요?\", user_inpout)"
   ]
  },
  {
   "cell_type": "code",
   "execution_count": null,
   "metadata": {},
   "outputs": [],
   "source": [
    "# code 3-36(a)\n",
    "# 예외는 전파됩니다. 전파 과정에서 어디에서건 예외를 처리할 수 있습니다.\n",
    "def foo():\n",
    "    try:\n",
    "        10 / 0\n",
    "    except Exception as error:\n",
    "        print(error)\n",
    "\n",
    "def bar():\n",
    "    foo()  \n",
    "\n",
    "def qux():\n",
    "    bar()  \n",
    "\n",
    "qux()  "
   ]
  },
  {
   "cell_type": "code",
   "execution_count": null,
   "metadata": {},
   "outputs": [],
   "source": [
    "# code 3-36(b)\n",
    "# 예외는 전파됩니다. 전파 과정에서 어디에서건 예외를 처리할 수 있습니다.\n",
    "def foo():\n",
    "    10 / 0\n",
    "\n",
    "def bar():\n",
    "    try:\n",
    "        foo()  \n",
    "    except Exception as error:\n",
    "        print(error)\n",
    "\n",
    "def qux():\n",
    "    bar()  \n",
    "\n",
    "qux()  "
   ]
  },
  {
   "cell_type": "code",
   "execution_count": null,
   "metadata": {},
   "outputs": [],
   "source": [
    "# code 3-36(c)\n",
    "# 예외는 전파됩니다. 전파 과정에서 어디에서건 예외를 처리할 수 있습니다.\n",
    "def foo():\n",
    "    10 / 0\n",
    "\n",
    "def bar():\n",
    "    foo()  \n",
    "\n",
    "def qux():\n",
    "    try:\n",
    "        bar()  \n",
    "    except Exception as error:\n",
    "        print(error)\n",
    "\n",
    "qux()  "
   ]
  },
  {
   "cell_type": "code",
   "execution_count": null,
   "metadata": {},
   "outputs": [],
   "source": [
    "# code 3-36(d)\n",
    "# 예외는 전파됩니다. 전파 과정에서 어디에서건 예외를 처리할 수 있습니다.\n",
    "def foo():\n",
    "    10 / 0\n",
    "\n",
    "def bar():\n",
    "    foo()  \n",
    "\n",
    "def qux():\n",
    "    try:\n",
    "        bar()  \n",
    "    except Exception as error:\n",
    "        print(error)\n",
    "qux()  "
   ]
  },
  {
   "cell_type": "code",
   "execution_count": null,
   "metadata": {},
   "outputs": [],
   "source": [
    "# code 3-37\n",
    "# raise : 필요하다면 일부러 예외를 발생시킬 수 있습니다.\n",
    "def foo():\n",
    "    try:\n",
    "        user_input = float(input())\n",
    "        if user_input < 0.0000001 and user_input > -0.0000001:\n",
    "            raise ZeroDivisionError(\"백만분의 일 이하도 0으로 취급할겁니다.\")\n",
    "        print(\"100 /\", user_input, \"=\", 100 / user_input)\n",
    "    except ZeroDivisionError as error:\n",
    "        print(\"0으로 나눌 수 없습니다. : \", error)\n",
    "    except Exception as error:\n",
    "        print(\"예상하지 못한 예외가 발생했어요. : \", error)\n",
    "\n",
    "foo()\n",
    "# 1, 0, 0.0000000001을 각각 입력하고 확인해 봅시다."
   ]
  }
 ],
 "metadata": {
  "kernelspec": {
   "display_name": "Python 3",
   "language": "python",
   "name": "python3"
  },
  "language_info": {
   "codemirror_mode": {
    "name": "ipython",
    "version": 3
   },
   "file_extension": ".py",
   "mimetype": "text/x-python",
   "name": "python",
   "nbconvert_exporter": "python",
   "pygments_lexer": "ipython3",
   "version": "3.12.5"
  }
 },
 "nbformat": 4,
 "nbformat_minor": 2
}
