{
 "cells": [
  {
   "cell_type": "markdown",
   "metadata": {},
   "source": [
    "# 4. 파이썬 함수\n",
    "<hr>\n",
    "\n",
    "## 4.3 내장 함수"
   ]
  },
  {
   "cell_type": "code",
   "execution_count": null,
   "metadata": {},
   "outputs": [],
   "source": [
    "# code 4-13\n",
    "# bool(), float(), int(), str() 등은 각각 \n",
    "# 참거짓값, 실수, 정수, 문자열로 바꾸는 형변환 함수입니다.\n",
    "# 형변환이 불가능한 값은 예외가 발생합니다.\n",
    "print(int(\"3\") + int(\"4\"))  # 문자열을 정수로\n",
    "print(\"3\" + \"4\") \n",
    "print(int(3.14))    # 실수를 정수로\n",
    "print(int(\"3.14\"))  # 하지만 이건 좀...\n"
   ]
  },
  {
   "cell_type": "code",
   "execution_count": null,
   "metadata": {},
   "outputs": [],
   "source": [
    "# code 4-14\n",
    "# list()는 이터러블 속성이 있는 모든 종류의 객체를\n",
    "# 리스트로 형변환하는 내장함수입니다.\n",
    "print(list(\"Hello, Python!\"))           # 문자열을 변환\n",
    "print(list((1, 2, 3, 4, 5)))            # 튜플을 변환\n",
    "print(list({1, 2, 3, 4, 5}))            # 세트를 변환\n",
    "print(list({\n",
    "        \"1\": 100, \n",
    "        \"2\": [200, 201]\n",
    "}))  # 딕셔너리를 변환\n",
    "\n",
    "# set()는 이터러블 속성이 있는 모든 종류의 객체를 세트로 바꿉니다.\n",
    "# 이때 중복된 값은 제거됩니다.\n",
    "arr = [3, 2, 1, 2, 3]\n",
    "converted_set = set(arr)\n",
    "print(converted_set)\n",
    "\n",
    "# 이 성질을 이용해서 리스트에서 중복을 제거할 수 있습니다. \n",
    "# 단 순서는 보장되지 않습니다.\n",
    "dedup_arr = list(set(arr))\n",
    "print(dedup_arr)"
   ]
  },
  {
   "cell_type": "code",
   "execution_count": null,
   "metadata": {},
   "outputs": [],
   "source": [
    "# code 4-15\n",
    "# 자주 사용되는 계산을 대신 해 주는 내장함수입니다.\n",
    "# max(), min()은 여러 인자 또는 콜렉션의 최대 또는 최소값을 반환합니다.\n",
    "print(max(5, 4, 3, 2, 1))\n",
    "print(min([5, 4, 3, 2, 1]))\n",
    "# sum()은 합계를 반환하는데, 여러 인자는 사용할 수 없고 콜렉션으로만 호출합니다.\n",
    "print(sum([1, 2, 3, 4, 5])) # 가능\n",
    "print(sum(1, 2, 3, 4, 5))   # 불가능"
   ]
  },
  {
   "cell_type": "code",
   "execution_count": 40,
   "metadata": {},
   "outputs": [
    {
     "name": "stdout",
     "output_type": "stream",
     "text": [
      "[1, 2, 3, 3, 4, 5]\n",
      "[1, 2, 3, 3, 4, 5]\n",
      "[5, 4, 3, 3, 2, 1]\n",
      "[1, 5, 3, 2, 4, 3]\n",
      "[1, 2, 3, 3, 4, 5]\n",
      "[5, 4, 3, 3, 2, 1]\n"
     ]
    }
   ],
   "source": [
    "# code 4-16\n",
    "# 내장함수 sorted 함수로 리스트를 정렬할 수 있습니다.\n",
    "arr = [1, 5, 3, 2, 4, 3]\n",
    "print(sorted(arr))\n",
    "# reverse 인자는 순서를 지정합니다. (기본값은 False이며 오름차순을 의미합니다.)\n",
    "print(sorted(arr, reverse = False))\n",
    "print(sorted(arr, reverse = True))\n",
    "# sorted 함수는 원래의 리스트의 값을 바꾸지 않습니다.\n",
    "print(arr)\n",
    "\n",
    "# 주의! 리스트의 sort 메서드로 리스트를 정렬할 수 있는데\n",
    "# 이 메서드는 리스트를 바꿔 버립니다.\n",
    "arr.sort()\n",
    "print(arr)\n",
    "arr.sort(reverse = True)\n",
    "print(arr)"
   ]
  },
  {
   "cell_type": "code",
   "execution_count": 41,
   "metadata": {},
   "outputs": [
    {
     "name": "stdout",
     "output_type": "stream",
     "text": [
      "이름은 {name} 입니다.\n",
      "이름은 파이썬 입니다.\n",
      "[1, 2, 3, 2, 1]을 오름차순으로 정렬하면 [1, 1, 2, 2, 3]이고 내림차순으로 정렬하면 [3, 2, 2, 1, 1]입니다.\n"
     ]
    }
   ],
   "source": [
    "# code 4-17\n",
    "# 문자열 앞에 f를 붙이고 문자열을 만들면 형식 문자열이 됩니다.\n",
    "# 형식 문자열 안에 중괄호는 표현식의 값으로 바뀌어 출력됩니다.\n",
    "name = \"파이썬\"\n",
    "print(\"이름은 {name} 입니다.\")\n",
    "print(f\"이름은 {name} 입니다.\")\n",
    "arr = [1, 2, 3, 2, 1]\n",
    "print(f\"{arr}을 오름차순으로 정렬하면 {sorted(arr)}이고 \\\n",
    "내림차순으로 정렬하면 {sorted(arr, reverse = True)}입니다.\")"
   ]
  }
 ],
 "metadata": {
  "kernelspec": {
   "display_name": "Python 3",
   "language": "python",
   "name": "python3"
  },
  "language_info": {
   "codemirror_mode": {
    "name": "ipython",
    "version": 3
   },
   "file_extension": ".py",
   "mimetype": "text/x-python",
   "name": "python",
   "nbconvert_exporter": "python",
   "pygments_lexer": "ipython3",
   "version": "3.12.5"
  }
 },
 "nbformat": 4,
 "nbformat_minor": 2
}
