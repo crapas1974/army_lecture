{
 "cells": [
  {
   "cell_type": "markdown",
   "metadata": {},
   "source": [
    "# 2. 파이썬의 변수, 연산, 자료형\n",
    "<hr>\n",
    "\n",
    "## 2.2 불변 기본 자료형"
   ]
  },
  {
   "cell_type": "code",
   "execution_count": null,
   "metadata": {},
   "outputs": [],
   "source": [
    "# code 2-8\n",
    "# 참거짓형 데이터는 True, False 두 가지입니다.\n",
    "print(5 == 5)\n",
    "print(5 < 5)"
   ]
  },
  {
   "cell_type": "code",
   "execution_count": null,
   "metadata": {},
   "outputs": [],
   "source": [
    "# code 2-9\n",
    "# 다음 값들은 모두 '거짓으로 평가 되는'(Falsy) 값입니다.\n",
    "# 형변환 함수 bool()은 뒤의 내장형 함수에서 다루지만, \n",
    "# 평가 결과에 따라 True 또는 False로 바꾸는 함수로 알아둡시다.\n",
    "print(bool(0))              # 나머지 정수는 모두 True로 평가 (Truthy)\n",
    "print(bool(0.0))            # 나머지 실수는 모두 True로 평가 (Truthy)\n",
    "print(bool(\"\"))             # 나머지 문자열은 모두 True로 평가 (Truthy) \" \"도 True\n",
    "print(bool([]))             # 나머지 리스트는 모두 True로 평가 (Truthy)\n",
    "print(bool({}))             # 나머지 딕셔너리는 모두 True로 평가 (Truthy)\n",
    "print(bool(()))             # 나머지 튜플은 모두 True로 평가 (Truthy)\n",
    "print(bool(None))           # None은 특수한 객체로 뒤에서 설명합니다."
   ]
  },
  {
   "cell_type": "code",
   "execution_count": null,
   "metadata": {},
   "outputs": [],
   "source": [
    "# code 2-10\n",
    "# 비교 연산은 두 값의 크기를 비교하고, 그 결과로 True 또는 False를 반환합니다.\n",
    "print(5 == 5)\n",
    "print(5 != 5)\n",
    "print(5 < 6)\n",
    "print(5 > 6)\n",
    "print(5 <= 5)\n",
    "print(5 <= 6)\n",
    "print(5 >= 5)\n",
    "print(5 >= 6)"
   ]
  },
  {
   "cell_type": "code",
   "execution_count": null,
   "metadata": {},
   "outputs": [],
   "source": [
    "# code 2-10-1\n",
    "# <= 대신 =<, >= 대신 =>를 사용할 수 없습니다.\n",
    "print(5 =< 6)\n",
    "print(6 => 5)"
   ]
  },
  {
   "cell_type": "code",
   "execution_count": null,
   "metadata": {},
   "outputs": [],
   "source": [
    "# code 2-11\n",
    "# 정수 자료형과 실수 자료형은 다르지만, 비교 연산은 값만 따집니다.\n",
    "print(5 == 5.0)"
   ]
  },
  {
   "cell_type": "code",
   "execution_count": null,
   "metadata": {},
   "outputs": [],
   "source": [
    "# code 2-12\n",
    "# 숫자형 데이터끼리 사칙연산을 할 수 있습니다.\n",
    "# 괄호를 사용하는 경우를 제외한 나머지 경우 일반적인 사칙연산 순서대로 계산합니다.\n",
    "print(2 + 3 * 5)\n",
    "print((2 + 3) * 5) "
   ]
  },
  {
   "cell_type": "code",
   "execution_count": null,
   "metadata": {},
   "outputs": [],
   "source": [
    "# code 2-13\n",
    "# 나누기 연산은 항상 결과가 실수값입니다.\n",
    "print(4 / 2)\n",
    "print(5 / 2)"
   ]
  },
  {
   "cell_type": "code",
   "execution_count": null,
   "metadata": {},
   "outputs": [],
   "source": [
    "# code 2-14\n",
    "# 내림 나눗셈 연산과 나머지 연산도 사용할 수 있습니다.\n",
    "print(5 // 2)\n",
    "print(5 % 2)"
   ]
  },
  {
   "cell_type": "code",
   "execution_count": null,
   "metadata": {},
   "outputs": [],
   "source": [
    "# code 2-15\n",
    "# 덧셈, 뺄셈, 곱셈 연산은 두 피연산자 모두 정수인 경우만 결과가 정수입니다.\n",
    "# 이외의 경우 실수입니다.\n",
    "print(5 + 2)\n",
    "print(5.0 + 2)\n",
    "print(5 + 2.0)\n",
    "print(5.0 + 2.0)"
   ]
  },
  {
   "cell_type": "code",
   "execution_count": null,
   "metadata": {},
   "outputs": [],
   "source": [
    "# code 2-16\n",
    "# 내림 나눗셈 연산과 나머지 연산도 두 연산자 모두 정수인 경우만 결과가 정수입니다.\n",
    "print(5.0 // 2)\n",
    "print(5 % 2.0)"
   ]
  },
  {
   "cell_type": "code",
   "execution_count": null,
   "metadata": {},
   "outputs": [],
   "source": [
    "# code 2-17\n",
    "# **는 거듭제곱 연산입니다. 거듭제곱 연산은 우선순위가 가장 높은 산술 연산입니다.\n",
    "# 거듭제곱 연산은 두 피연산자 중 하나라도 실수인 경우 결과가 실수입니다.\n",
    "# 두 피연산자 모두 정수인 경우에도 계산 결과는 실수일 수 있습니다.\n",
    "print(2 ** 3)\n",
    "print(2 ** 3 ** 2)\n",
    "print((2 ** 3) ** 2)\n",
    "print(2 ** (1/2))       # 루트 2\n",
    "print(2 ** 0.5)         # 루트 2\n",
    "print(2 ** -1)          # 1/2"
   ]
  },
  {
   "cell_type": "code",
   "execution_count": null,
   "metadata": {},
   "outputs": [],
   "source": [
    "# code 2-18\n",
    "# 문자열은 텍스트를 다루는 자료형입니다. \"...\" 또는 '...' 형태로 만들 수 있습니다.\n",
    "x = \"Python\"         # Python이라는 여섯 글자 문자열을 변수 x에 할당합니다.\n",
    "print(x)"
   ]
  },
  {
   "cell_type": "code",
   "execution_count": null,
   "metadata": {},
   "outputs": [],
   "source": [
    "# code 2-19\n",
    "# 대화형 파이썬 환경, 주피터 노트북 환경에서 print() 함수 사용 유무에 따라 \n",
    "# 결과가 다르게 나옵니다. 특히 문자열은 그렇습니다.\n",
    "x = \"Python\" \n",
    "x"
   ]
  },
  {
   "cell_type": "code",
   "execution_count": null,
   "metadata": {},
   "outputs": [],
   "source": [
    "# code 2-20\n",
    "# 문자열에 \\n를 사용하면 줄바꿈을 의미합니다.\n",
    "# 파이썬 대화형 환경에서는 줄바꿈이 적용되지 않고 \\n이 그대로 출력됩니다.\n",
    "# print() 함수를 사용해 출력하면 줄바꿈이 표현됩니다.\n",
    "a_line = \"Hello\\nPython\"\n",
    "print(a_line)\n",
    "a_line"
   ]
  },
  {
   "cell_type": "code",
   "execution_count": null,
   "metadata": {},
   "outputs": [],
   "source": [
    "# code 2-21\n",
    "# 내장함수 len()을 사용해서 문자열의 길이를 구할 수 있습니다.\n",
    "x = \"Python\"\n",
    "print(len(x))"
   ]
  },
  {
   "cell_type": "code",
   "execution_count": null,
   "metadata": {},
   "outputs": [],
   "source": [
    "# code 2-22\n",
    "# 한 글자로 된 문자열, 공백문자만 있는 문자열, 심지어 아무것도 없는 문자열도 만들 수 있습니다.\n",
    "str_1 = \"1\"\n",
    "str_2 = \" \"\n",
    "str_3 = \"   \"\n",
    "str_4 = \"\"      # 아무것도 없는 문자열을 '빈 문자열'이라고 합니다.\n",
    "print(len(str_1), len(str_2), len(str_3), len(str_4))"
   ]
  },
  {
   "cell_type": "code",
   "execution_count": null,
   "metadata": {},
   "outputs": [],
   "source": [
    "# code 2-23\n",
    "# \"...\" 형태로 문자열을 정의하면 문자열 내에 '를 사용할 수 있습니다.\n",
    "# '...' 형태로 문자열을 정의하면 문자열 내에 \"를 사용할 수 있습니다.\n",
    "print(\"그는 생각했다. '내가 생각하고 있네?'\")\n",
    "print('그는 말했다. \"내가 말하고 있구나.\"')"
   ]
  },
  {
   "cell_type": "code",
   "execution_count": null,
   "metadata": {},
   "outputs": [],
   "source": [
    "# code 2-24\n",
    "# 문자열은 반드시 한 줄로 만들어야 합니다.\n",
    "greetings = \"Hello\n",
    "Python\""
   ]
  },
  {
   "cell_type": "code",
   "execution_count": null,
   "metadata": {},
   "outputs": [],
   "source": [
    "# code 2-25\n",
    "# 두 줄 이상으로 문자열을 만들 때는 \\+엔터 키를 입력합니다. \n",
    "# 단, 이 입력은 문자열에 반영되지 않습니다.\n",
    "# 또한 이렇게 두 줄에 걸쳐 문자열을 만들 때는 들여쓰기 규칙이 반영되지 않고\n",
    "# 문자열 내에 들여쓰기가 들어간 것으로 인식됩니다.\n",
    "greetings_1 = \"Hello\\\n",
    "Python\"\n",
    "greetings_2 = \"Hello\\\n",
    "               Python\"\n",
    "print(greetings_1)\n",
    "print(greetings_2)"
   ]
  },
  {
   "cell_type": "code",
   "execution_count": null,
   "metadata": {},
   "outputs": [],
   "source": [
    "# code 2-26\n",
    "# \\ 뒤에 어떤 글자가 오면 특수한 의미를 가집니다.\n",
    "# 이를 이스케이프 시퀀스라고 합니다.\n",
    "# \\\" : 큰따옴표\n",
    "print(\"그는 말했다. \\\"내가 말하고 있구나?\\\"\")\n",
    "# \\' : 작은따옴표\n",
    "print('그는 생각했다. \\'내가 생각하고 있네?\\'')\n",
    "# \\\\ : 역슬래시\n",
    "print(\"\\\\ - 이건 역슬래시 하나만 출력된다구!\")\n",
    "# \\n : 줄바꿈\n",
    "print(\"음...\\n줄바꿈도 사실 이스케이프 시퀀스였어.\")\n",
    "# \\ + enter : 문자열 작성을 여러 줄에 걸쳐서 할 수 있게 해줄 뿐...\n",
    "string = \"음...\\\n",
    "사실 아무 것도 안하잖아?\"\n",
    "print(string)\n",
    "# \\t : 탭, \\n : 백스페이스\n",
    "tab_string1 = \"1\\t2\\t3\\t4\\t5\"\n",
    "tab_string2 = \"one\\ttwo\\tthree\\tfour\\tfive\"\n",
    "bs_string = \"123\\n456\"\n",
    "print(tab_string1)\n",
    "print(tab_string2)\n",
    "print(bs_string)\n",
    "# 이스케이프 시퀀스를 포함한 문자열의 길이를 확인합시다.\n",
    "print(len(tab_string1))\n",
    "print(len(tab_string2))\n",
    "print(len(bs_string))"
   ]
  },
  {
   "cell_type": "code",
   "execution_count": null,
   "metadata": {},
   "outputs": [],
   "source": [
    "# code 2-27\n",
    "# 삼중따옴표로 문자열을 만들 수 있습니다.\n",
    "# 삼중따옴표로 만든 문자열은 여러 줄로 만들 수 있습니다. 줄바꿈은 자동으로 \\n이 추가됩니다.\n",
    "# 아래 두 문자열의 차이점을 확인해봅시다.\n",
    "long_string = \"\"\"아주 아주 오랜 옛날\n",
    "호랑이가 나쁜 것을 피던 그 시절에...\"\"\"\n",
    "print(long_string)\n",
    "long_string = '''\n",
    "아주 아주 오랜 옛날\n",
    "호랑이가 나쁜 것을 피던 그 시절에...\n",
    "'''\n",
    "print(long_string)\n",
    "long_string"
   ]
  },
  {
   "cell_type": "code",
   "execution_count": null,
   "metadata": {},
   "outputs": [],
   "source": [
    "# code 2-28\n",
    "# 문자열을 만들 때 \"와 '를 섞어 쓰면 안됩니다. \n",
    "# 아래 4개 모두 잘못된 문자열 리터럴입니다.\n",
    "\"python'\n",
    "\n",
    "'Python\"\n",
    "\n",
    "\"\"\"Python\n",
    "'''\n",
    "\n",
    "'''\n",
    "Python\n",
    "\"\"\""
   ]
  },
  {
   "cell_type": "code",
   "execution_count": null,
   "metadata": {},
   "outputs": [],
   "source": [
    "# code 2-29\n",
    "# 문자열끼리 더하거나, 문자열과 정수를 곱할 수 있습니다.\n",
    "last_name = \"홍\"\n",
    "first_name_1 = \"길동\"\n",
    "first_name_2 = \"보\"\n",
    "print(last_name + first_name_1)\n",
    "print(last_name + first_name_2)\n",
    "print((last_name + first_name_2 +\"가 기가막혀,\") * 3)\n",
    "print((last_name + first_name_2 +\"가 기가막혀, \") * 3)\n",
    "print((last_name + first_name_2 +\"가 기가막혀, \") * 3 + \"\\b\\b!\")"
   ]
  },
  {
   "cell_type": "code",
   "execution_count": null,
   "metadata": {},
   "outputs": [],
   "source": [
    "# code 2-30\n",
    "# 문자열끼리 비교할 수 있습니다. 단, 문자열이 아닌 것과 '크기 비교'는 불가합니다.\n",
    "# 비교는 변형된 '사전 순서'입니다.\n",
    "# 대문자가 소문자보다 작고, 숫자가 대문자보다 작습니다.\n",
    "# 대소문자가 섞여 있는 경우 일반 사전과 달리 완전히 다른 글자처럼 취급합니다.\n",
    "# 다른 언어도 비교할 수 있습니다. 언어간 비교는 '유니코드' 표의 순서를 기준으로 합니다.\n",
    "# 아래는 마지막만 제외하고 모두 참 입니다.\n",
    "print(\"a\" < \"b\")\n",
    "print(\"a\" > \"A\")\n",
    "print(\"abc\" < \"abcd\")\n",
    "print(\"abc\" > \"Abcd\")\n",
    "print(\"1\" < \"A\")\n",
    "print(\"나라의 말이\" < \"중국과 달라\")\n",
    "print(\"English\" < \"한글\")\n",
    "print(123 != \"123\")     # ==와 !=는 가능\n",
    "print(123 < \"234\")      # 크기 비교는 불가능"
   ]
  },
  {
   "cell_type": "code",
   "execution_count": null,
   "metadata": {},
   "outputs": [],
   "source": [
    "# code 2-31\n",
    "# 문자열은 인덱싱이 가능합니다.\n",
    "# [0] --> 첫 번째 글자\n",
    "greetings = \"Hello, Python!\"\n",
    "print(greetings[0])\n",
    "print(\"Hello, Python!\"[0])\n",
    "\n",
    "# [1] --> 두 번째 글자\n",
    "print(greetings[1])\n",
    "print(\"Hello, Python!\"[1])\n",
    "\n",
    "# 인덱싱에 가능한 범위는 0부터 문자열 길이 - 1까지입니다.\n",
    "# [13] --> 마지막 글자\n",
    "print(greetings[13])\n",
    "print(\"Hello, Python!\"[13])\n",
    "\n",
    "# 또는 len 함수를 사용해 마지막 글자의 위치를 알 수 있습니다.\n",
    "print(greetings[len(greetings) - 1])\n",
    "\n",
    "# 벗어나면, 예외가 발생합니다.\n",
    "print(greetings[14])\n",
    "print(greetings[len(greetings)])\n"
   ]
  },
  {
   "cell_type": "code",
   "execution_count": null,
   "metadata": {},
   "outputs": [],
   "source": [
    "# code 2-32\n",
    "# 음수 값을 인덱스로 사용할 수 있습니다.\n",
    "# [-1] --> 마지막 글자\n",
    "greetings = \"Hello, Python!\"\n",
    "print(greetings[-1])\n",
    "print(\"Hello, Python!\"[-1])\n",
    "\n",
    "# [-2] --> 두 번째 글자\n",
    "print(greetings[-2])\n",
    "print(\"Hello, Python!\"[-2])\n",
    "\n",
    "# 음수값 인덱스의 범위는 -1부터 -(문자열 길이)까지입니다.\n",
    "# [-14] --> 첫 글자\n",
    "print(greetings[-14])\n",
    "print(\"Hello, Python!\"[-14])\n",
    "\n",
    "# 벗어나면, 예외가 발생합니다.\n",
    "print(greetings[-15])\n"
   ]
  },
  {
   "cell_type": "code",
   "execution_count": null,
   "metadata": {},
   "outputs": [],
   "source": [
    "# code 2-33\n",
    "# 슬라이싱으로 부분 문자열을 만들 수 있습니다.\n",
    "greetings = \"Hello, Python!\"\n",
    "print(greetings[3:6])\n",
    "print(greetings[:6])\n",
    "print(greetings[3:])\n",
    "print(greetings[:-1])\n",
    "print(greetings[1:-1])          # 문자열에서 첫 글자와 마지막 글자를 뺀 나머지 문자열을 만듭니다.\n",
    "print(greetings[1:6:2])\n",
    "print(greetings[1:7:2])\n",
    "print(greetings[6:3:-1])\n",
    "print(greetings[6:2:-2])\n",
    "print(greetings[::-1])\n",
    "# 슬라이싱에서는 인덱스 값과 관련된 예외가 발생하지 않습니다.\n",
    "print(greetings[-10000:10000])\n"
   ]
  }
 ],
 "metadata": {
  "kernelspec": {
   "display_name": "Python 3",
   "language": "python",
   "name": "python3"
  },
  "language_info": {
   "codemirror_mode": {
    "name": "ipython",
    "version": 3
   },
   "file_extension": ".py",
   "mimetype": "text/x-python",
   "name": "python",
   "nbconvert_exporter": "python",
   "pygments_lexer": "ipython3",
   "version": "3.12.5"
  }
 },
 "nbformat": 4,
 "nbformat_minor": 2
}
