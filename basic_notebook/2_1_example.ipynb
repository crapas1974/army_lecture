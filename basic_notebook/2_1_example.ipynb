{
 "cells": [
  {
   "cell_type": "markdown",
   "metadata": {},
   "source": [
    "# 2. 파이썬의 변수, 연산, 자료형\n",
    "<hr>\n",
    "\n",
    "## 2.1 변수와 할당 연산"
   ]
  },
  {
   "cell_type": "code",
   "execution_count": null,
   "metadata": {},
   "outputs": [],
   "source": [
    "# code 2-1\n",
    "# 그냥 수, 문자열 등을 '리터럴'이라고 합니다. 다음은 리터럴 입니다.\n",
    "1\n",
    "1.0\n",
    "\"Python\"\n",
    "True\n",
    "False\n",
    "[1, 2, 3]\n",
    "{1, 2, 3}\n",
    "{1: \"one\", 2: \"two\", 3: \"three\"}\n",
    "(1, 2, 3)"
   ]
  },
  {
   "cell_type": "code",
   "execution_count": null,
   "metadata": {},
   "outputs": [],
   "source": [
    "# code 2-2\n",
    "# 리터럴을 계속 사용하기 위해서 변수에 저장합니다.\n",
    "# 할당 연산을 통해 변수를 만들고 값을 저장할 수 있습니다.\n",
    "one = 1\n",
    "one_point_zero = 1.0\n",
    "python = \"Python\"\n",
    "true = True\n",
    "false = False\n",
    "one_two_three = [1, 2, 3]\n",
    "one_two_three_set = {1, 2, 3}\n",
    "one_two_three_dict = {1: \"one\", 2: \"two\", 3: \"three\"}\n",
    "one_two_three_tuple = (1, 2, 3)"
   ]
  },
  {
   "cell_type": "code",
   "execution_count": null,
   "metadata": {},
   "outputs": [],
   "source": [
    "# code 2-3\n",
    "# 변수의 이름은 값으로 바뀌어 사용됩니다.\n",
    "print(one)\n",
    "print(one_point_zero)\n",
    "# 단, 문자열 내에 위치한 변수의 이름은 해당되지 않습니다.\n",
    "print(\"one\")"
   ]
  },
  {
   "cell_type": "code",
   "execution_count": null,
   "metadata": {},
   "outputs": [],
   "source": [
    "# code 2-4\n",
    "# 한 번 정의한 변수에 다른 값을 할당할 수 있습니다.\n",
    "now = \"2024-09-25\"\n",
    "now = \"2024-09-26\"\n",
    "temperature = 25\n",
    "temperature = 20"
   ]
  },
  {
   "cell_type": "code",
   "execution_count": null,
   "metadata": {},
   "outputs": [],
   "source": [
    "# code 2-5\n",
    "# 변수 자신을 사용해 변수의 값을 바꿀 수 있습니다.\n",
    "tempearture = 25\n",
    "print(temperature)\n",
    "temperature = temperature - 5\n",
    "# 여기서 왼쪽 temperature와 오른쪽 temperature는 다릅니다.\n",
    "print(temperature)\n"
   ]
  },
  {
   "cell_type": "code",
   "execution_count": null,
   "metadata": {},
   "outputs": [],
   "source": [
    "# code 2-6\n",
    "# 자신의 값에 다른 수를 더하고, 빼고, 곱하고, 나눈 후 다시 할당할 때는\n",
    "# 복합 할당 연산자를 사용할 수 있습니다.\n",
    "temperature = 25\n",
    "temperature += 5\n",
    "# temperature = temperature + 5 와 같습니다.\n",
    "print(temperature)\n",
    "temperature -= 5\n",
    "# temperature = temperature - 5 와 같습니다.\n",
    "print(temperature)\n",
    "temperature *= 5\n",
    "# temperature = temperature * 5 와 같습니다.\n",
    "print(temperature)\n",
    "temperature /= 5\n",
    "# temperature = temperature / 5 와 같습니다.\n",
    "print(temperature)"
   ]
  },
  {
   "cell_type": "code",
   "execution_count": null,
   "metadata": {},
   "outputs": [],
   "source": [
    "# code 2-7\n",
    "# (아래 내용이 이해가 되지 않으면 리스트를 공부하고 난 후 다시 읽어봅시다.)\n",
    "# 리스트의 할당 연산과 수의 할당 연산은 다릅니다.\n",
    "number = 10\n",
    "number_list = [1, 2, 3]\n",
    "number_copy = number\n",
    "number_list_copy = number_list\n",
    "number = 20\n",
    "number_list[0] = 10\n",
    "print(number, number_copy)\n",
    "print(number_list, number_list_copy)\n",
    "# 이는 리스트가 '가변형' 객체인데, 가변형 객체는 할당 연산을 할 때 '참조'만 하기 때문입니다.\n",
    "# 숫자는 '불변형' 객체이며, 불변형 객체는 할당 연산을 할 때 실제 값을 새로 만듭니다. '복사'"
   ]
  }
 ],
 "metadata": {
  "kernelspec": {
   "display_name": "Python 3",
   "language": "python",
   "name": "python3"
  },
  "language_info": {
   "codemirror_mode": {
    "name": "ipython",
    "version": 3
   },
   "file_extension": ".py",
   "mimetype": "text/x-python",
   "name": "python",
   "nbconvert_exporter": "python",
   "pygments_lexer": "ipython3",
   "version": "3.12.5"
  }
 },
 "nbformat": 4,
 "nbformat_minor": 2
}
