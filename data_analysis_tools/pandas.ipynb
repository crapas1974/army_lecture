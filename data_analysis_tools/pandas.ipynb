{
 "cells": [
  {
   "cell_type": "markdown",
   "id": "d6af2053",
   "metadata": {},
   "source": [
    "# Pandas\n",
    "---\n",
    "## Pandas 소개 및 환경 설정\n",
    "* Pandas란?\n",
    "  * 사용하기 쉬운 데이터 구조와 데이터 분석 도구를 고성능으로 제공\n",
    "  * 행과 열로 구성된 테이블 형태의 데이터를 다루는데 특화\n",
    "* Pandas를 사용하는 이유\n",
    "  * 다양한 데이터 형식 지원\n",
    "  * 데이터 정제 및 변환 용이\n",
    "  * 강력한 데이터 선택 및 필터링\n",
    "  * 데이터 분석 기능\n",
    "* Pandas 설치 확인 및 설치\n",
    "  * 설치 - `pip install pandas`\n",
    "  * 으레 `pd`를 별칭으로 사용\n",
    "    "
   ]
  },
  {
   "cell_type": "code",
   "execution_count": null,
   "id": "493e5344",
   "metadata": {},
   "outputs": [],
   "source": [
    "import pandas as pd\n",
    "print(pd.__version__)"
   ]
  },
  {
   "cell_type": "markdown",
   "id": "186e5296",
   "metadata": {},
   "source": [
    "## Series와 DataFrame\n",
    "---\n",
    "* Series\n",
    "  * 1차원 배열과 유사한 구조로 인덱스와 값으로 구성\n",
    "  * NumPy 배열로부터 생성하거나, 리스트, 딕셔너리 등으로부터 생성 가능능"
   ]
  },
  {
   "cell_type": "code",
   "execution_count": null,
   "id": "d35a47b4",
   "metadata": {},
   "outputs": [],
   "source": [
    "# 리스트로부터\n",
    "array = [1, 2, 3, 4, 5]\n",
    "series_from_array = pd.Series(array)\n",
    "print(series_from_array)\n"
   ]
  },
  {
   "cell_type": "code",
   "execution_count": null,
   "id": "ec0cbfc0",
   "metadata": {},
   "outputs": [],
   "source": [
    "array = [1, 2, '삼', 4, 5]\n",
    "series_from_array = pd.Series(array)\n",
    "print(series_from_array)\n"
   ]
  },
  {
   "cell_type": "code",
   "execution_count": null,
   "id": "e90041b8",
   "metadata": {},
   "outputs": [],
   "source": [
    "# ndarray로 부터\n",
    "import numpy as np\n",
    "array = np.array([1, 2, '삼', 4, 5], dtype=object)\n",
    "series_from_array = pd.Series(array)\n",
    "print(series_from_array)"
   ]
  },
  {
   "cell_type": "markdown",
   "id": "eff880a5",
   "metadata": {},
   "source": [
    "* DataFrame\n",
    "  * 2차원 테이블 형태의 데이터 구조\n",
    "  * 여러 개의 Series가 모여서 구성 (각 열이 하나의 Series)\n",
    "  * 행 인덱스와 열 이름을 가지며\n",
    "  * 다양한 방법으로 생성 가능능"
   ]
  },
  {
   "cell_type": "code",
   "execution_count": null,
   "id": "7be17110",
   "metadata": {},
   "outputs": [],
   "source": [
    "# 딕셔너리로부터\n",
    "data = {\n",
    "    'Name': ['Alice', 'Bob', 'Charlie', 'David'],\n",
    "    'Age': [25, 30, 35, 28],\n",
    "    'City': ['New York', 'Paris', 'London', 'Seoul']\n",
    "}\n",
    "series_from_dict = pd.Series(data)\n",
    "print(series_from_dict)\n"
   ]
  },
  {
   "cell_type": "code",
   "execution_count": null,
   "id": "e1f76295",
   "metadata": {},
   "outputs": [],
   "source": [
    "dataframe_from_dict = pd.DataFrame(data)\n",
    "print(dataframe_from_dict)"
   ]
  },
  {
   "cell_type": "code",
   "execution_count": null,
   "id": "456c7715",
   "metadata": {},
   "outputs": [],
   "source": [
    "# 2차원 리스트로부터 -> 열 이름은 별도로 지정\n",
    "data = [\n",
    "    ['Alice', 25, 'New York'],\n",
    "    ['Bob', 30, 'Paris'],\n",
    "    ['Charlie', 35, 'London'],\n",
    "    ['David', 28, 'Seoul']\n",
    "]\n",
    "dataframe_from_list = pd.DataFrame(data, columns=['Name', 'Age', 'City'])\n",
    "print(dataframe_from_list)\n"
   ]
  },
  {
   "cell_type": "code",
   "execution_count": null,
   "id": "ec874b18",
   "metadata": {},
   "outputs": [],
   "source": [
    "# 2차원 리스트로부터 -> 열 이름은 자동으로 지정\n",
    "data = [\n",
    "    ['Alice', 25, 'New York'],\n",
    "    ['Bob', 30, 'Paris'],\n",
    "    ['Charlie', 35, 'London'],\n",
    "    ['David', 28, 'Seoul']\n",
    "]\n",
    "dataframe_from_list = pd.DataFrame(data)\n",
    "print(dataframe_from_list)"
   ]
  },
  {
   "cell_type": "code",
   "execution_count": null,
   "id": "7084c0f7",
   "metadata": {},
   "outputs": [],
   "source": [
    "# csv 파일로 부터\n",
    "df_csv = pd.read_csv('GlobalFirePower.csv')"
   ]
  },
  {
   "cell_type": "markdown",
   "id": "56b59984",
   "metadata": {},
   "source": [
    "* 데이터를 확인하는 방법\n",
    "  * head(n) - 첫 n개의 행 (기본값 5)\n",
    "  * tail(n) - 마지막 n개의 행 (기본값 5)\n",
    "  * info() - DataFrame의 정보 요약\n",
    "  * describe() - 주요 통계량\n",
    "  * shape - 형태\n",
    "  * columns - 열 이름\n",
    "  * index - 행 인덱스 반환\n",
    "  * dtypes - 각 열의 데이터 타입입"
   ]
  },
  {
   "cell_type": "code",
   "execution_count": null,
   "id": "7b8fad07",
   "metadata": {},
   "outputs": [],
   "source": [
    "print(df_csv.head())"
   ]
  },
  {
   "cell_type": "code",
   "execution_count": null,
   "id": "2be5056f",
   "metadata": {},
   "outputs": [],
   "source": [
    "print(df_csv.tail())"
   ]
  },
  {
   "cell_type": "code",
   "execution_count": null,
   "id": "ba621de4",
   "metadata": {},
   "outputs": [],
   "source": [
    "df_csv.info()"
   ]
  },
  {
   "cell_type": "code",
   "execution_count": null,
   "id": "6b7570d3",
   "metadata": {},
   "outputs": [],
   "source": [
    "df_csv.describe()"
   ]
  },
  {
   "cell_type": "code",
   "execution_count": null,
   "id": "10babd94",
   "metadata": {},
   "outputs": [],
   "source": [
    "df_csv.shape"
   ]
  },
  {
   "cell_type": "code",
   "execution_count": null,
   "id": "6b2f9cf4",
   "metadata": {},
   "outputs": [],
   "source": [
    "df_csv.columns"
   ]
  },
  {
   "cell_type": "code",
   "execution_count": null,
   "id": "ec993f5e",
   "metadata": {},
   "outputs": [],
   "source": [
    "df_csv.index"
   ]
  },
  {
   "cell_type": "code",
   "execution_count": null,
   "id": "f6230e3c",
   "metadata": {},
   "outputs": [],
   "source": [
    "df_csv.dtypes"
   ]
  },
  {
   "cell_type": "markdown",
   "id": "0799a0e8",
   "metadata": {},
   "source": [
    "* CSV 파일 읽어오기와 CSV 파일에 저장하기\n",
    "  * pd.read_csv() - 읽어오기\n",
    "  * pd.to_csv() - 저장하기"
   ]
  },
  {
   "cell_type": "markdown",
   "id": "0e2f0810",
   "metadata": {},
   "source": [
    "## 데이터의 선택과 필터링\n",
    "---\n",
    "* 열의 선택\n",
    "  * 기본 인덱싱 - `df['열이름']` : 하나의 열을 Series 형태로 반환\n",
    "  * `df[['열이름1', '열이름2', ..., '열이름n']]` : 여러 열을 DF 형태로 반환 \n",
    "  * df.열이름 - 권장하지 않음"
   ]
  },
  {
   "cell_type": "code",
   "execution_count": null,
   "id": "bcaea54e",
   "metadata": {},
   "outputs": [],
   "source": [
    "column_names = df_csv.columns\n",
    "print(column_names[1], column_names[3], column_names[4])\n",
    "print(df_csv[column_names[1]])\n",
    "print(df_csv[[column_names[1], column_names[3], column_names[4]]])"
   ]
  },
  {
   "cell_type": "markdown",
   "id": "a846e884",
   "metadata": {},
   "source": [
    "* 행의 선택\n",
    "  * loc[행_레이블] : 레이블 기반 인덱싱 / 슬라이싱\n",
    "  * iloc[행_정수_위치] : 정수 위치 기반 인덱싱 및 슬라이싱 (0으로부터 시작하는 일반적인 인덱스)"
   ]
  },
  {
   "cell_type": "code",
   "execution_count": null,
   "id": "349134bf",
   "metadata": {},
   "outputs": [],
   "source": [
    "df_indexed = df_csv.set_index('ISO3')       # 특정 열을 인덱스로 지정정\n",
    "df_indexed"
   ]
  },
  {
   "cell_type": "code",
   "execution_count": null,
   "id": "dcfd314b",
   "metadata": {},
   "outputs": [],
   "source": [
    "df_indexed.loc['SKO']"
   ]
  },
  {
   "cell_type": "code",
   "execution_count": null,
   "id": "c90fa07c",
   "metadata": {},
   "outputs": [],
   "source": [
    "df_indexed.loc[['SKO', 'NKO']]"
   ]
  },
  {
   "cell_type": "code",
   "execution_count": null,
   "id": "d5364e3b",
   "metadata": {},
   "outputs": [],
   "source": [
    "df_indexed.loc[['SKO', 'NKO']][['Country', 'Rank']]"
   ]
  },
  {
   "cell_type": "code",
   "execution_count": null,
   "id": "3ebe125b",
   "metadata": {},
   "outputs": [],
   "source": [
    "df_indexed.iloc[11]"
   ]
  },
  {
   "cell_type": "code",
   "execution_count": null,
   "id": "1717b63c",
   "metadata": {},
   "outputs": [],
   "source": [
    "df_indexed.iloc[[11, 22]]"
   ]
  },
  {
   "cell_type": "code",
   "execution_count": null,
   "id": "df81e864",
   "metadata": {},
   "outputs": [],
   "source": [
    "df_indexed.iloc[11:22]"
   ]
  },
  {
   "cell_type": "code",
   "execution_count": null,
   "id": "272474f1",
   "metadata": {},
   "outputs": [],
   "source": [
    "df_indexed.loc['SKO':'NKO']"
   ]
  },
  {
   "cell_type": "markdown",
   "id": "fc4b7158",
   "metadata": {},
   "source": [
    "* 조건부 인덱싱\n",
    "  * DF의 열에 조건을 적용 --> Series가 반환\n",
    "  * 이를 DF에 인덱스로 사용하면 조건이 True인 행들만 선택 \n",
    "  * & (and), | (or), ~ (not) 연산자로 여러 조건 결합 가능"
   ]
  },
  {
   "cell_type": "code",
   "execution_count": null,
   "id": "7a297f14",
   "metadata": {},
   "outputs": [],
   "source": [
    "top_12 = df_csv[df_csv['Rank'] <= 12]\n",
    "print(top_12)"
   ]
  },
  {
   "cell_type": "code",
   "execution_count": null,
   "id": "99e8cbd9",
   "metadata": {},
   "outputs": [],
   "source": [
    "# Total Population이 1억 이상인 국가\n",
    "many_human_nation = df_csv[df_csv['Total Population'] >= 100000000]\n",
    "print(many_human_nation)\n"
   ]
  },
  {
   "cell_type": "code",
   "execution_count": null,
   "id": "88c34a14",
   "metadata": {},
   "outputs": [],
   "source": [
    "many_human_nation = df_csv[(df_csv['Manpower Available'] >= 30000000) & (df_csv['Rank'] > 10)]\n",
    "print(many_human_nation)"
   ]
  },
  {
   "cell_type": "markdown",
   "id": "1553756c",
   "metadata": {},
   "source": [
    "## 데이터 처리에 활용\n",
    "---\n",
    "* 열 또는 행 추가\n",
    "  * 열 추가 - `df['새로운_열_이름'] = ...`\n",
    "  * 추가 대상은 값, 리스트, Series, 기존 열 등 가능"
   ]
  },
  {
   "cell_type": "code",
   "execution_count": null,
   "id": "3f2875c9",
   "metadata": {},
   "outputs": [],
   "source": [
    "people = {\n",
    "    'Name': ['Mr. White', 'Mr. Orange', 'Mr. Blonde', 'Mr. Pink'],\n",
    "    'Age': [35, 40, 45, 50],\n",
    "    'Actor': ['Harvey Keitel', 'Tim Roth', 'Michael Madsen', 'Steve Buscemi'],\n",
    "}\n",
    "\n",
    "people_df = pd.DataFrame(people)\n",
    "people_df"
   ]
  },
  {
   "cell_type": "code",
   "execution_count": null,
   "id": "39a765d8",
   "metadata": {},
   "outputs": [],
   "source": [
    "people_df['Job'] = ['Criminal', 'Criminal', 'Criminal', 'Criminal']\n",
    "people_df"
   ]
  },
  {
   "cell_type": "code",
   "execution_count": null,
   "id": "6f420ebf",
   "metadata": {},
   "outputs": [],
   "source": [
    "people_df['generation'] = people_df['Age'] // 10 * 10\n",
    "people_df"
   ]
  },
  {
   "cell_type": "markdown",
   "id": "db75d567",
   "metadata": {},
   "source": [
    "* 새로운 행의 추가\n",
    "  * loc 또는 iloc로 직접 추가\n",
    "  * pd.concat()으로 추가가"
   ]
  },
  {
   "cell_type": "code",
   "execution_count": null,
   "id": "2965b0af",
   "metadata": {},
   "outputs": [],
   "source": [
    "import numpy as np\n",
    "people_df.loc[4] = ['Mr. Blue', np.nan, 'Edward Bunker', 'Criminal', np.nan]\n",
    "people_df"
   ]
  },
  {
   "cell_type": "code",
   "execution_count": null,
   "id": "7c109c5d",
   "metadata": {},
   "outputs": [],
   "source": [
    "more_people = pd.DataFrame({\n",
    "    'Name': ['Mr. Brown', 'Joe Cabot'],\n",
    "    'Age': [55, 60],\n",
    "    'Actor': ['Quentin Tarantino', 'Lawrence Tierney'],\n",
    "    'Job': ['Criminal', 'Boss'],\n",
    "    'generation': [50, 60]\n",
    "})\n",
    "\n",
    "people_df = pd.concat([people_df, more_people], ignore_index=True)\n",
    "people_df"
   ]
  },
  {
   "cell_type": "markdown",
   "id": "1c9d3e7c",
   "metadata": {},
   "source": [
    "* 결측치 확인\n",
    "  * isnull() - 각 셀 별로 확인\n",
    "  * isnull().sum() - 열별 결측치의 개수\n",
    "  * fillna(value) - 결측치를 value로 채움\n",
    "  * dropna() - 결측치가 포함된 행 또는 열을 제거거"
   ]
  },
  {
   "cell_type": "code",
   "execution_count": null,
   "id": "8c539347",
   "metadata": {},
   "outputs": [],
   "source": [
    "people_df.isnull()"
   ]
  },
  {
   "cell_type": "code",
   "execution_count": null,
   "id": "8adaafaa",
   "metadata": {},
   "outputs": [],
   "source": [
    "people_df.isnull().sum()"
   ]
  },
  {
   "cell_type": "code",
   "execution_count": null,
   "id": "3b993ab1",
   "metadata": {},
   "outputs": [],
   "source": [
    "people_df.isnull().sum(axis=1)"
   ]
  },
  {
   "cell_type": "code",
   "execution_count": null,
   "id": "68b882e4",
   "metadata": {},
   "outputs": [],
   "source": [
    "dropped = people_df.dropna()\n",
    "dropped\n"
   ]
  },
  {
   "cell_type": "code",
   "execution_count": null,
   "id": "14dad6df",
   "metadata": {},
   "outputs": [],
   "source": [
    "dropped = people_df.dropna(axis=1)\n",
    "dropped\n"
   ]
  },
  {
   "cell_type": "code",
   "execution_count": null,
   "id": "994f72c6",
   "metadata": {},
   "outputs": [],
   "source": [
    "filled = people_df.fillna(45)\n",
    "filled"
   ]
  },
  {
   "cell_type": "code",
   "execution_count": null,
   "id": "b5e4790e",
   "metadata": {},
   "outputs": [],
   "source": [
    "copyed = people_df\n",
    "copyed.fillna(45, inplace=True)\n",
    "copyed\n"
   ]
  },
  {
   "cell_type": "code",
   "execution_count": null,
   "id": "6e239765",
   "metadata": {},
   "outputs": [],
   "source": [
    "people_df\n"
   ]
  },
  {
   "cell_type": "code",
   "execution_count": null,
   "id": "af319b71",
   "metadata": {},
   "outputs": [],
   "source": [
    "# people_df를 다시 만들어 온 후...\n",
    "people_df\n"
   ]
  },
  {
   "cell_type": "code",
   "execution_count": null,
   "id": "4eaa9634",
   "metadata": {},
   "outputs": [],
   "source": [
    "copyed = people_df.copy()\n",
    "copyed.fillna(45, inplace=True)\n",
    "copyed"
   ]
  },
  {
   "cell_type": "code",
   "execution_count": null,
   "id": "cd809a8a",
   "metadata": {},
   "outputs": [],
   "source": [
    "people_df"
   ]
  },
  {
   "cell_type": "code",
   "execution_count": null,
   "id": "273a1083",
   "metadata": {},
   "outputs": [],
   "source": [
    "people_df['Age'] = people_df['Age'] + 1\n",
    "people_df"
   ]
  },
  {
   "cell_type": "code",
   "execution_count": null,
   "id": "44d28acc",
   "metadata": {},
   "outputs": [],
   "source": [
    "people_df['Age'] -= 1\n",
    "people_df"
   ]
  },
  {
   "cell_type": "code",
   "execution_count": null,
   "id": "797f32d2",
   "metadata": {},
   "outputs": [],
   "source": [
    "copyed = people_df.copy()\n",
    "copyed.fillna({'Age': 45}, inplace=True)\n",
    "copyed"
   ]
  },
  {
   "cell_type": "code",
   "execution_count": null,
   "id": "fed353ec",
   "metadata": {},
   "outputs": [],
   "source": [
    "copyed.fillna({'generation': copyed['Age'] // 10 * 10}, inplace=True)\n",
    "copyed"
   ]
  },
  {
   "cell_type": "code",
   "execution_count": null,
   "id": "0ad051a7",
   "metadata": {},
   "outputs": [],
   "source": [
    "copyed = people_df.copy()\n",
    "copyed.fillna({'Age': copyed['Age'].mean()}, inplace=True)\n",
    "copyed\n"
   ]
  },
  {
   "cell_type": "code",
   "execution_count": null,
   "id": "6cfc506e",
   "metadata": {},
   "outputs": [],
   "source": [
    "copyed = people_df.copy()\n",
    "copyed.fillna(method='ffill', inplace=True)\n",
    "copyed"
   ]
  },
  {
   "cell_type": "code",
   "execution_count": null,
   "id": "3559da42",
   "metadata": {},
   "outputs": [],
   "source": [
    "copyed = people_df.copy()\n",
    "copyed.ffill(inplace = True)\n",
    "copyed"
   ]
  },
  {
   "cell_type": "code",
   "execution_count": null,
   "id": "f1ce9b23",
   "metadata": {},
   "outputs": [],
   "source": [
    "copyed = people_df.copy()\n",
    "copyed.bfill(inplace = True)\n",
    "copyed"
   ]
  }
 ],
 "metadata": {
  "kernelspec": {
   "display_name": "base",
   "language": "python",
   "name": "python3"
  },
  "language_info": {
   "codemirror_mode": {
    "name": "ipython",
    "version": 3
   },
   "file_extension": ".py",
   "mimetype": "text/x-python",
   "name": "python",
   "nbconvert_exporter": "python",
   "pygments_lexer": "ipython3",
   "version": "3.12.3"
  }
 },
 "nbformat": 4,
 "nbformat_minor": 5
}
