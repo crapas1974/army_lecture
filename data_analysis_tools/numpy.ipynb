{
 "cells": [
  {
   "cell_type": "markdown",
   "id": "894931d8",
   "metadata": {},
   "source": [
    "# Intro - 데이터 분석과 파이썬 기반 도구 삼대장\n",
    "---\n",
    "* 파이썬은 배우기 쉽고 강력한 프로그래밍 언어이며, 다양한 라이브러리를 쉽게 활용할 수 있습니다.\n",
    "* 본 과정은 파이썬에서 데이터 분석 작업을 수행할 때 널리 사용되는 세 종류의 라이브러리를 다룹니다.\n",
    "  * NumPy\n",
    "    * 빠르고 효율적인 수치 계산을 위한 라이브러리\n",
    "    * 대규모 다차원 배열과 행렬 연산에 필수적이며,\n",
    "    * 딥러닝 등 수많은 다른 라이브러리는 NumPy를 기본적으로 사용하기 때문에 반드시 알아야 할 라이브러리입니다.\n",
    "  * Pandas\n",
    "    * 표(테이블) 형태의 데이터를 다루는데 최적화된 라이브러리\n",
    "    * 데이터 정제, 변형, 분석 작업을 쉽게 도와줍니다.\n",
    "  * Matplotlib \n",
    "    * 데이터를 시각화하여 직관적으로 이해할 수 있도록 도와주는 라이브러리\n",
    "    * 다양한 종류의 그래프를 그릴 수 있습니다."
   ]
  },
  {
   "cell_type": "markdown",
   "id": "c179fb99",
   "metadata": {},
   "source": [
    "# NumPy\n",
    "---\n",
    "* Numerical Python의 줄임말이며, 파이썬에서 과학 계산을 위한 핵심 라이브러리\n",
    "* 강력한 N차원 배열 객체인 `ndarray`는 데이터 분석과 머신러닝에서 매우 중요하게 사용됩니다."
   ]
  },
  {
   "cell_type": "markdown",
   "id": "11ed0b1a",
   "metadata": {},
   "source": [
    "## NumPy 소개 및 환경 설정\n",
    "---\n",
    "* Numpy란?\n",
    "  * 파이썬에서 대규모 다차원 배열 및 행렬 연산을 지원\n",
    "  * 이런 데이터 구조에 대한 다양한 수학 함수를 제공하는 라이브러리\n",
    "* 데이터 분석에 사용되는 이유\n",
    "  * 속도 성능 - 내부적으로 빠르게 동작할 수 있도록 만들어져(C언어로 구현) 파이썬 리스트보다 훨씬 빠르게 동작\n",
    "  * 메모리 효율성 - 연속된 데이터는 연속된 메모리 공간을 사용, 효율적으로 메모리를 활용\n",
    "  * 다양한 기능 - 선형대수, 푸리에 변환 등 다양한 고급 수학 함수를 제공\n",
    "* NumPy 설치\n",
    "  * 미니콘다 등 대부분의 파이썬 데이터 환경에는 기본 설치되어 있음\n",
    "  * 필요한 경우 다음 명령으로 설치할 수 있음\n",
    "    * `pip install numpy` (일반 파이썬 환경) 또는\n",
    "    * `conda install numpy` (미니콘다/아나콘다 환경경)\n",
    "* `np`와 `NumPy`의 차이점\n",
    "  * `NumPy` 대신 `np`라는 별칭을 사용하는게 일종의 '국룰'로 통용용\n",
    "  * 다음과 같이 설치 여부 및 버전 확인 가능"
   ]
  },
  {
   "cell_type": "code",
   "execution_count": null,
   "id": "996ee408",
   "metadata": {},
   "outputs": [],
   "source": [
    "# NumPy 설치 여부 및 버전 확인\n",
    "import numpy as np      # 설치 되어 있지 않으면 예외 발생생\n",
    "print(np.__version__)"
   ]
  },
  {
   "cell_type": "markdown",
   "id": "f1e62f07",
   "metadata": {},
   "source": [
    "* NumPy의 데이터 타입\n",
    "  * 정수형 - int32, int64\n",
    "  * 실수형 - float32, float64\n",
    "  * 불리언 - bool\n",
    "  * 일반 객체 - object"
   ]
  },
  {
   "cell_type": "code",
   "execution_count": null,
   "id": "c6a49e72",
   "metadata": {},
   "outputs": [],
   "source": [
    "integer_1 = np.int32(1)\n",
    "print(type(integer_1))  \n",
    "print(integer_1)        "
   ]
  },
  {
   "cell_type": "code",
   "execution_count": null,
   "id": "fbb4388b",
   "metadata": {},
   "outputs": [],
   "source": [
    "print(integer_1 == 1)"
   ]
  },
  {
   "cell_type": "code",
   "execution_count": null,
   "id": "04e42595",
   "metadata": {},
   "outputs": [],
   "source": [
    "print(integer_1 + 1)"
   ]
  },
  {
   "cell_type": "code",
   "execution_count": null,
   "id": "1975840b",
   "metadata": {},
   "outputs": [],
   "source": [
    "integer_2 = integer_1 + integer_1\n",
    "print(integer_2, type(integer_2))"
   ]
  },
  {
   "cell_type": "code",
   "execution_count": null,
   "id": "2c11df9e",
   "metadata": {},
   "outputs": [],
   "source": [
    "# np.int32 - -2^31 ~ 2^31 - 1\n",
    "# np.int64 - -2^63 ~ 2^63 - 1\n",
    "large_int1 = np.int64(2 ** 50)\n",
    "large_int2 = np.int32(2 ** 50)"
   ]
  },
  {
   "cell_type": "code",
   "execution_count": null,
   "id": "f1616d70",
   "metadata": {},
   "outputs": [],
   "source": [
    "# np.float32 - 약 7자리의 정밀도\n",
    "# np.float64 - 약 15자리의 정밀도\n",
    "large_float1 = np.float64(2 ** 50)\n",
    "large_float2 = np.float32(2 ** 50)\n",
    "print(large_float1, type(large_float1))\n",
    "print(large_float2, type(large_float2))"
   ]
  },
  {
   "cell_type": "markdown",
   "id": "6f500172",
   "metadata": {},
   "source": [
    "## `ndarray` 배열 - NumPy의 핵심\n",
    "* 소개\n",
    "  * NumPy의 핵심 데이터 구조\n",
    "  * **같은 타입**의 값들로 이루어진 다차원 배열\n",
    "  * `dtype`인자를 지정해 데이터 타입을 명시적으로 지정할 수 있음\n",
    "* 배열 생성법 \n",
    "  * `np.array()` 함수를 사용"
   ]
  },
  {
   "cell_type": "code",
   "execution_count": null,
   "id": "1d50bacb",
   "metadata": {},
   "outputs": [],
   "source": [
    "# 1차원 배열\n",
    "array_int = np.array([1, 2, 3], dtype=np.int32)\n",
    "array_float = np.array([1, 2, 3], dtype=np.float32)\n",
    "print(array_int, array_float)\n",
    "array_int2 = np.array([1, 2, 3])\n",
    "print(array_int2)\n",
    "array_float2 = np.array([1.0, 2.0, 3.0])\n",
    "print(array_float2)"
   ]
  },
  {
   "cell_type": "code",
   "execution_count": null,
   "id": "b3977971",
   "metadata": {},
   "outputs": [],
   "source": [
    "some_ndarray = np.array([1, 2, '3'])\n",
    "print(some_ndarray)\n",
    "other_ndarray = np.array([1, 2, 3.0])\n",
    "print(other_ndarray)\n",
    "object_ndarray = np.array([1, 2, '3'], dtype=object)\n",
    "print(object_ndarray, object_ndarray.dtype)"
   ]
  },
  {
   "cell_type": "code",
   "execution_count": null,
   "id": "033e3614",
   "metadata": {},
   "outputs": [],
   "source": [
    "# 2차원 배열\n",
    "array_2d = np.array([[1, 2, 3], [4, 5, 6]], dtype=np.int32)\n",
    "print(array_2d)"
   ]
  },
  {
   "cell_type": "code",
   "execution_count": null,
   "id": "2d36a2db",
   "metadata": {},
   "outputs": [],
   "source": [
    "false_2d_array = np.array([1, 2, 3], [4, 5, 6])"
   ]
  },
  {
   "cell_type": "code",
   "execution_count": null,
   "id": "5496acf8",
   "metadata": {},
   "outputs": [],
   "source": [
    "array_2d = np.array([[1, 2, 3],\n",
    "                     [4, 5, 6]], dtype=np.float32)\n",
    "print(array_2d)"
   ]
  },
  {
   "cell_type": "code",
   "execution_count": null,
   "id": "be0805fa",
   "metadata": {},
   "outputs": [],
   "source": [
    "array_2d = np.array([[1, 2, 3],\n",
    "                     [4, 5]])"
   ]
  },
  {
   "cell_type": "code",
   "execution_count": null,
   "id": "cb455d69",
   "metadata": {},
   "outputs": [],
   "source": [
    "# 3차원 배열\n",
    "array_3d = np.array([\n",
    "    [\n",
    "        [1, 2, 3], [4, 5, 6]\n",
    "    ],\n",
    "    [\n",
    "        [7, 8, 9], [10, 11, 12]\n",
    "    ],\n",
    "    [\n",
    "        [13, 14, 15], [16, 17, 18]\n",
    "    ],\n",
    "    [\n",
    "        [19, 20, 21], [22, 23, 24]\n",
    "    ],\n",
    "])\n",
    "print(array_3d)"
   ]
  },
  {
   "cell_type": "code",
   "execution_count": null,
   "id": "c9d001d8",
   "metadata": {},
   "outputs": [],
   "source": [
    "# shape - 배열의 차원\n",
    "print(array_int.shape, array_2d.shape, array_3d.shape)"
   ]
  },
  {
   "cell_type": "code",
   "execution_count": null,
   "id": "5fa561e8",
   "metadata": {},
   "outputs": [],
   "source": [
    "# dtype - 배열 요소의 데이터 타입\n",
    "print(array_int.dtype, array_2d.dtype, array_3d.dtype)"
   ]
  },
  {
   "cell_type": "code",
   "execution_count": null,
   "id": "44051379",
   "metadata": {},
   "outputs": [],
   "source": [
    "# ndim - 배열의 차원 수\n",
    "print(array_int.ndim, array_2d.ndim, array_3d.ndim)"
   ]
  },
  {
   "cell_type": "code",
   "execution_count": null,
   "id": "0a022d6f",
   "metadata": {},
   "outputs": [],
   "source": [
    "# size - 배열의 요소 수\n",
    "print(array_int.size, array_2d.size, array_3d.size)"
   ]
  },
  {
   "cell_type": "code",
   "execution_count": null,
   "id": "ee9cbd09",
   "metadata": {},
   "outputs": [],
   "source": [
    "# ndarray의 인덱싱, 슬라이싱\n",
    "array_int = np.array([1, 2, 3, 4, 5])\n",
    "print(array_int)\n",
    "print(array_int[0], array_int[2], array_int[4])\n",
    "print(array_int[0:2], array_int[1:3], array_int[1:-1])"
   ]
  },
  {
   "cell_type": "code",
   "execution_count": null,
   "id": "4e260680",
   "metadata": {},
   "outputs": [],
   "source": [
    "print(array_2d[-1][-1])\n",
    "print(array_2d[-1, -1])\n",
    "print(array_3d[0][1][2])\n",
    "print(array_3d[0, 1, 2])"
   ]
  },
  {
   "cell_type": "code",
   "execution_count": null,
   "id": "57822fe9",
   "metadata": {},
   "outputs": [],
   "source": [
    "# 조건부 인덱싱\n",
    "print(array_int[array_int > 2])\n",
    "print(array_int[array_int >= 2])\n",
    "print(array_int[(array_int > 2) & (array_int % 2 == 1)])\n",
    "print(array_int[(array_int > 2) | (array_int % 2 == 1)])"
   ]
  },
  {
   "cell_type": "markdown",
   "id": "be4feab2",
   "metadata": {},
   "source": [
    "## NumPy 배열 연산\n",
    "---\n",
    "* 기본 사칙 연산\n",
    "  * 같은 크기의 배열 간에 사칙 연산자를 사용, 대응되는 각 요소별로 연산을 수행\n",
    "  * 배열과 스칼라 사이의 연산도 가능 - 스칼라 값이 배열의 모든 요소에 적용 "
   ]
  },
  {
   "cell_type": "code",
   "execution_count": null,
   "id": "c7809c15",
   "metadata": {},
   "outputs": [],
   "source": [
    "array_1 = np.array([[2, 3, 5], [7, 11, 13], [17, 19, 23]])\n",
    "array_2 = np.array([[1, 3, 5], [7, 9, 11], [13, 15, 17]])\n",
    "print(array_1)\n",
    "print(array_2)"
   ]
  },
  {
   "cell_type": "code",
   "execution_count": null,
   "id": "c2ab001d",
   "metadata": {},
   "outputs": [],
   "source": [
    "print(array_1 + array_2)\n",
    "print(array_1 - array_2)"
   ]
  },
  {
   "cell_type": "code",
   "execution_count": null,
   "id": "b19d5f00",
   "metadata": {},
   "outputs": [],
   "source": [
    "print(array_1 * array_2)\n",
    "print(array_1 / array_2)\n",
    "print(array_1 // array_2)"
   ]
  },
  {
   "cell_type": "code",
   "execution_count": null,
   "id": "65a3122f",
   "metadata": {},
   "outputs": [],
   "source": [
    "print(5 + array_1)\n",
    "print(5 - array_1)\n",
    "print(array_1 - 5)\n"
   ]
  },
  {
   "cell_type": "code",
   "execution_count": null,
   "id": "8b283ea6",
   "metadata": {},
   "outputs": [],
   "source": [
    "print(5 * array_1)\n",
    "print(5 / array_1)\n",
    "print(5 // array_1)\n",
    "print(5 % array_1)\n"
   ]
  },
  {
   "cell_type": "code",
   "execution_count": null,
   "id": "eb9e0bbb",
   "metadata": {},
   "outputs": [],
   "source": [
    "print(array_1 / 5)\n",
    "print(array_1 // 5)\n",
    "print(array_1 % 5)"
   ]
  },
  {
   "cell_type": "markdown",
   "id": "1364da60",
   "metadata": {},
   "source": [
    "* 유니버셜 함수\n",
    "  * 배열의 각 요소에 적용되는 함수"
   ]
  },
  {
   "cell_type": "code",
   "execution_count": null,
   "id": "77050302",
   "metadata": {},
   "outputs": [],
   "source": [
    "print(np.square(array_1))"
   ]
  },
  {
   "cell_type": "markdown",
   "id": "2afb305f",
   "metadata": {},
   "source": [
    "  * 주요 유니버셜 함수\n",
    "    * `np.sqrt()` - 제곱근\n",
    "    * `np.exp()` - 지수\n",
    "    * `np.log()`, `np.log10()`, `np.log2()` - 자연로그, 상용로그, 밑이 2인 로그그\n",
    "    * `np.sin()` - sin 삼각함수\n",
    "    * `np.cos()` - cos 삼각함수\n",
    "    * `np.square()` - 제곱"
   ]
  },
  {
   "cell_type": "code",
   "execution_count": null,
   "id": "37cebf14",
   "metadata": {},
   "outputs": [],
   "source": [
    "# np.sqrt - 제곱근\n",
    "print(np.sqrt(array_1))\n"
   ]
  },
  {
   "cell_type": "code",
   "execution_count": null,
   "id": "822b580d",
   "metadata": {},
   "outputs": [],
   "source": [
    "# np.exp - 지수 : 자연상수 e의 거듭제곱\n",
    "print(np.exp(array_1))\n",
    "# np.log - 로그 : 자연로그 (밑이 e인 로그)\n",
    "print(np.log(array_1))\n",
    "# np.log10 - 로그 : 상용로그 (밑이 10인 로그)\n",
    "print(np.log10(array_1))\n",
    "# np.log2 - 로그 : 밑이 2인 로그\n",
    "print(np.log2(array_1))\n"
   ]
  },
  {
   "cell_type": "code",
   "execution_count": null,
   "id": "96c1f6ac",
   "metadata": {},
   "outputs": [],
   "source": [
    "print(array_1)\n",
    "print(array_2)\n",
    "# np.add - 덧셈\n",
    "print(np.add(array_1, array_2))\n",
    "print(array_1 + array_2)\n"
   ]
  },
  {
   "cell_type": "code",
   "execution_count": null,
   "id": "3db20b7e",
   "metadata": {},
   "outputs": [],
   "source": [
    "\n",
    "half_pi = np.pi / 2\n",
    "array_3 = np.array([[half_pi, 0, half_pi], [-half_pi * 2 / 3, 0, half_pi * 2 / 3], [-half_pi / 3, 0, half_pi / 3]])\n",
    "print(array_3)\n",
    "# np.abs - 절대값\n",
    "print(np.abs(array_3))\n",
    "\n",
    "# np.sin, np.cos, np.tan - 삼각함수\n",
    "print(np.sin(array_3))\n",
    "print(np.cos(array_3))\n",
    "print(np.tan(array_3))"
   ]
  },
  {
   "cell_type": "markdown",
   "id": "908663df",
   "metadata": {},
   "source": [
    "* 주요 집계 함수 - 통계량을 계산하는 함수\n",
    "  * `sum()` - 합계\n",
    "  * `mean()` - 평균\n",
    "  * `std()` - 표준편차\n",
    "  * `median()` - 중앙값값\n",
    "  * `min()`, `max()` - 최솟값과 최댓값\n",
    "  * `argmin()`, `argmax()` - 최솟값의 인덱스, 최댓값의 인덱스스"
   ]
  },
  {
   "cell_type": "code",
   "execution_count": null,
   "id": "1bf6864f",
   "metadata": {},
   "outputs": [],
   "source": [
    "print(array_1)\n",
    "print(np.sum(array_1))\n",
    "print(np.mean(array_1), np.std(array_1), np.var(array_1))\n",
    "print(np.median(array_1))\n",
    "print(np.min(array_1), np.argmin(array_1))\n",
    "print(np.max(array_1), np.argmax(array_1))\n"
   ]
  },
  {
   "cell_type": "markdown",
   "id": "8c3568c0",
   "metadata": {},
   "source": [
    "* 축의 개념\n",
    "  * 2차원 배열에서 `axis=0`은 열 방향, `axis=1`은 행 방향을 의미\n",
    "  * 3차원 이상에서는 축의 순서는 추가 차원이 0의 값에 추가됨됨\n",
    "    * 3차원이라면 - 깊이 -> 행 -> 열"
   ]
  },
  {
   "cell_type": "code",
   "execution_count": null,
   "id": "2c00e1f0",
   "metadata": {},
   "outputs": [],
   "source": [
    "print(array_1)\n",
    "print(np.sum(array_1, axis=0))      # 열 끼리 합\n",
    "print(np.sum(array_1, axis=1))      # 행 끼리 합"
   ]
  },
  {
   "cell_type": "code",
   "execution_count": null,
   "id": "82f0f80d",
   "metadata": {},
   "outputs": [],
   "source": [
    "print(array_3d)\n",
    "print()\n",
    "print(np.sum(array_3d, axis=0))      # 0번째 축을 기준으로 합 - 깊이\n",
    "print()\n",
    "print(np.sum(array_3d, axis=1))      # 1번째 축을 기준으로 합 - 행\n",
    "print()\n",
    "print(np.sum(array_3d, axis=2))      # 2번째 축을 기준으로 합 - 열열"
   ]
  },
  {
   "cell_type": "markdown",
   "id": "7aad87ba",
   "metadata": {},
   "source": [
    "## 행렬 전용 연산\n",
    "---\n",
    "* `np.matmul()` 또는 `@` 연산 - 행렬곱\n",
    "* `np.transpose()` 또는 `.T` - 전치\n",
    "* `np.linalg.inv()` - 역행렬 - AB = I일 때 A와 B의 관계\n",
    "* `np.linalg.det()` - 행렬식 - a * d - b * c\n",
    "* `np.linalg.eig()` - 고유값, 고유 벡터\n",
    "* `np.linalg.svd()` - 특이값 분해 (U * S * V_h로 분해해)"
   ]
  },
  {
   "cell_type": "code",
   "execution_count": null,
   "id": "e0a274f8",
   "metadata": {},
   "outputs": [],
   "source": [
    "array_a = np.array([[1, 2], [3, 4]])\n",
    "array_b = np.array([[5, 6], [7, 8]])\n",
    "print(array_a)\n",
    "print(array_b)"
   ]
  },
  {
   "cell_type": "code",
   "execution_count": null,
   "id": "7eb9ea21",
   "metadata": {},
   "outputs": [],
   "source": [
    "print(np.matmul(array_a, array_b))\n",
    "print(array_a @ array_b)"
   ]
  },
  {
   "cell_type": "code",
   "execution_count": null,
   "id": "072bc769",
   "metadata": {},
   "outputs": [],
   "source": [
    "print(array_a.T)\n",
    "print(np.transpose(array_a))\n",
    "print(array_b.T)\n",
    "print(np.transpose(array_b))"
   ]
  },
  {
   "cell_type": "code",
   "execution_count": null,
   "id": "70816bef",
   "metadata": {},
   "outputs": [],
   "source": [
    "print(np.linalg.inv(array_a))\n",
    "print(np.linalg.inv(array_b))"
   ]
  },
  {
   "cell_type": "code",
   "execution_count": null,
   "id": "43636486",
   "metadata": {},
   "outputs": [],
   "source": [
    "print(np.linalg.det(array_a))\n",
    "print(np.linalg.eig(array_a))\n",
    "print(np.linalg.svd(array_a))"
   ]
  }
 ],
 "metadata": {
  "kernelspec": {
   "display_name": "base",
   "language": "python",
   "name": "python3"
  },
  "language_info": {
   "codemirror_mode": {
    "name": "ipython",
    "version": 3
   },
   "file_extension": ".py",
   "mimetype": "text/x-python",
   "name": "python",
   "nbconvert_exporter": "python",
   "pygments_lexer": "ipython3",
   "version": "3.12.3"
  }
 },
 "nbformat": 4,
 "nbformat_minor": 5
}
